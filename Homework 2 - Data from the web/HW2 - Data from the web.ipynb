{
 "cells": [
  {
   "cell_type": "markdown",
   "metadata": {},
   "source": [
    "# Homework2 - Data from the web\n",
    "#### Group member: Shengzhao LEI - Tao SUN - Xiangzhe MENG"
   ]
  },
  {
   "cell_type": "code",
   "execution_count": 1,
   "metadata": {
    "collapsed": true
   },
   "outputs": [],
   "source": [
    "%matplotlib inline\n",
    "import requests\n",
    "import pandas as pd\n",
    "from bs4 import BeautifulSoup\n",
    "import matplotlib.pyplot as plt"
   ]
  },
  {
   "cell_type": "markdown",
   "metadata": {},
   "source": [
    "## 1. QS world universities ranking 2018"
   ]
  },
  {
   "cell_type": "markdown",
   "metadata": {},
   "source": [
    "### 1.1 Get data"
   ]
  },
  {
   "cell_type": "markdown",
   "metadata": {},
   "source": [
    "Import the main data from the url below."
   ]
  },
  {
   "cell_type": "code",
   "execution_count": 2,
   "metadata": {
    "collapsed": true
   },
   "outputs": [],
   "source": [
    "URL = 'https://www.topuniversities.com/sites/default/files/qs-rankings-data/357051.txt?_=1508078320231'"
   ]
  },
  {
   "cell_type": "code",
   "execution_count": 3,
   "metadata": {
    "collapsed": true
   },
   "outputs": [],
   "source": [
    "r = requests.get(URL)\n",
    "page_body = r.json()"
   ]
  },
  {
   "cell_type": "code",
   "execution_count": 4,
   "metadata": {
    "collapsed": true
   },
   "outputs": [],
   "source": [
    "list_rankings = page_body[\"data\"]"
   ]
  },
  {
   "cell_type": "markdown",
   "metadata": {},
   "source": [
    "Display all attributes' names."
   ]
  },
  {
   "cell_type": "code",
   "execution_count": 5,
   "metadata": {},
   "outputs": [
    {
     "data": {
      "text/plain": [
       "Index(['cc', 'core_id', 'country', 'guide', 'logo', 'nid', 'rank_display',\n",
       "       'region', 'score', 'stars', 'title', 'url'],\n",
       "      dtype='object')"
      ]
     },
     "execution_count": 5,
     "metadata": {},
     "output_type": "execute_result"
    }
   ],
   "source": [
    "qs_raw = pd.DataFrame.from_dict(list_rankings)\n",
    "qs_raw.columns"
   ]
  },
  {
   "cell_type": "markdown",
   "metadata": {},
   "source": [
    "Choose the top 200 universities with attributes that we need for analysis."
   ]
  },
  {
   "cell_type": "code",
   "execution_count": 6,
   "metadata": {},
   "outputs": [
    {
     "data": {
      "text/html": [
       "<div>\n",
       "<style>\n",
       "    .dataframe thead tr:only-child th {\n",
       "        text-align: right;\n",
       "    }\n",
       "\n",
       "    .dataframe thead th {\n",
       "        text-align: left;\n",
       "    }\n",
       "\n",
       "    .dataframe tbody tr th {\n",
       "        vertical-align: top;\n",
       "    }\n",
       "</style>\n",
       "<table border=\"1\" class=\"dataframe\">\n",
       "  <thead>\n",
       "    <tr style=\"text-align: right;\">\n",
       "      <th></th>\n",
       "      <th>title</th>\n",
       "      <th>rank_display</th>\n",
       "      <th>country</th>\n",
       "      <th>region</th>\n",
       "      <th>url</th>\n",
       "    </tr>\n",
       "  </thead>\n",
       "  <tbody>\n",
       "    <tr>\n",
       "      <th>0</th>\n",
       "      <td>Massachusetts Institute of Technology (MIT)</td>\n",
       "      <td>1</td>\n",
       "      <td>United States</td>\n",
       "      <td>North America</td>\n",
       "      <td>/universities/massachusetts-institute-technolo...</td>\n",
       "    </tr>\n",
       "    <tr>\n",
       "      <th>1</th>\n",
       "      <td>Stanford University</td>\n",
       "      <td>2</td>\n",
       "      <td>United States</td>\n",
       "      <td>North America</td>\n",
       "      <td>/universities/stanford-university</td>\n",
       "    </tr>\n",
       "    <tr>\n",
       "      <th>2</th>\n",
       "      <td>Harvard University</td>\n",
       "      <td>3</td>\n",
       "      <td>United States</td>\n",
       "      <td>North America</td>\n",
       "      <td>/universities/harvard-university</td>\n",
       "    </tr>\n",
       "    <tr>\n",
       "      <th>3</th>\n",
       "      <td>California Institute of Technology (Caltech)</td>\n",
       "      <td>4</td>\n",
       "      <td>United States</td>\n",
       "      <td>North America</td>\n",
       "      <td>/universities/california-institute-technology-...</td>\n",
       "    </tr>\n",
       "    <tr>\n",
       "      <th>4</th>\n",
       "      <td>University of Cambridge</td>\n",
       "      <td>5</td>\n",
       "      <td>United Kingdom</td>\n",
       "      <td>Europe</td>\n",
       "      <td>/universities/university-cambridge</td>\n",
       "    </tr>\n",
       "  </tbody>\n",
       "</table>\n",
       "</div>"
      ],
      "text/plain": [
       "                                          title rank_display         country  \\\n",
       "0   Massachusetts Institute of Technology (MIT)            1   United States   \n",
       "1                           Stanford University            2   United States   \n",
       "2                            Harvard University            3   United States   \n",
       "3  California Institute of Technology (Caltech)            4   United States   \n",
       "4                       University of Cambridge            5  United Kingdom   \n",
       "\n",
       "          region                                                url  \n",
       "0  North America  /universities/massachusetts-institute-technolo...  \n",
       "1  North America                  /universities/stanford-university  \n",
       "2  North America                   /universities/harvard-university  \n",
       "3  North America  /universities/california-institute-technology-...  \n",
       "4         Europe                 /universities/university-cambridge  "
      ]
     },
     "execution_count": 6,
     "metadata": {},
     "output_type": "execute_result"
    }
   ],
   "source": [
    "qs_data = qs_raw[0:200][['title','rank_display','country','region','url']]\n",
    "qs_data.head()"
   ]
  },
  {
   "cell_type": "markdown",
   "metadata": {},
   "source": [
    "Import the data of students and faculty members from the page of each university.\n",
    "\n",
    "If there is no such data, we assume it's zero. e.g. There is no data of international faculty member for the Indian Institute of Science (IISc) Bangalore."
   ]
  },
  {
   "cell_type": "code",
   "execution_count": 7,
   "metadata": {
    "collapsed": true
   },
   "outputs": [],
   "source": [
    "list_nbtotalfac = []\n",
    "list_nbinterfac = []\n",
    "list_nbtotalstu = []\n",
    "list_nbinterstu = []\n",
    "\n",
    "for url in qs_data['url']:\n",
    "    # get the html of the page of each university\n",
    "    temp_url = 'https://www.topuniversities.com/' + url\n",
    "    soup = BeautifulSoup(requests.get(temp_url).text, 'html.parser')\n",
    "    # Total faculty members\n",
    "    if soup.find('div',class_='total faculty'):\n",
    "        list_nbtotalfac.append(soup.find('div',class_='total faculty').find('div',class_='number').text[1:])\n",
    "    else:\n",
    "        list_nbtotalfac.append('0')\n",
    "    # International faculty members     \n",
    "    if soup.find('div',class_='inter faculty'):\n",
    "        list_nbinterfac.append(soup.find('div',class_='inter faculty').find('div',class_='number').text[1:])\n",
    "    else:\n",
    "        list_nbinterfac.append('0')\n",
    "    # Total students    \n",
    "    if soup.find('div',class_='total student'):\n",
    "        list_nbtotalstu.append(soup.find('div',class_='total student').find('div',class_='number').text[1:])\n",
    "    else:\n",
    "        list_nbtotalstu.append('0')\n",
    "    # Total International students  \n",
    "    if soup.find('div',class_='total inter'):\n",
    "        list_nbinterstu.append(soup.find('div',class_='total inter').find('div',class_='number').text[1:])\n",
    "    else:\n",
    "        list_nbinterstu.append('0')\n"
   ]
  },
  {
   "cell_type": "markdown",
   "metadata": {},
   "source": [
    "We do not need attribute *url* now, so just drop it."
   ]
  },
  {
   "cell_type": "code",
   "execution_count": 8,
   "metadata": {
    "collapsed": true
   },
   "outputs": [],
   "source": [
    "qs_data = qs_data.drop('url', axis=1)"
   ]
  },
  {
   "cell_type": "markdown",
   "metadata": {},
   "source": [
    "Rename the columns and complete the whole DataFrame."
   ]
  },
  {
   "cell_type": "code",
   "execution_count": 9,
   "metadata": {
    "collapsed": true
   },
   "outputs": [],
   "source": [
    "qs_data.rename(columns = {'title':'University','rank_display':'QS rank','country':'Country','region':'Region'}, inplace=True)\n",
    "qs_data['Total faculty members'] = list_nbtotalfac\n",
    "qs_data['International faculty members'] = list_nbinterfac\n",
    "qs_data['Total students'] = list_nbtotalstu\n",
    "qs_data['International students'] = list_nbinterstu"
   ]
  },
  {
   "cell_type": "markdown",
   "metadata": {},
   "source": [
    "Do some basic data cleanning work and change the types of column values."
   ]
  },
  {
   "cell_type": "code",
   "execution_count": 10,
   "metadata": {
    "collapsed": true
   },
   "outputs": [],
   "source": [
    "rank_int = qs_data['QS rank'].str.replace('=','').astype(int)\n",
    "qs_data['QS rank'] = rank_int\n",
    "\n",
    "totalfac_int = qs_data['Total faculty members'].str.replace(',','').astype(int)\n",
    "qs_data['Total faculty members'] = totalfac_int\n",
    "\n",
    "interfac_int = qs_data['International faculty members'].str.replace(',','').astype(int)\n",
    "qs_data['International faculty members'] = interfac_int\n",
    "\n",
    "totalstu_int = qs_data['Total students'].str.replace(',','').astype(int)\n",
    "qs_data['Total students'] = totalstu_int\n",
    "\n",
    "interstu_int = qs_data['International students'].str.replace(',','').astype(int)\n",
    "qs_data['International students'] = interstu_int"
   ]
  },
  {
   "cell_type": "markdown",
   "metadata": {},
   "source": [
    "Set the column **University** as index and now, we get the DataFrame we need."
   ]
  },
  {
   "cell_type": "code",
   "execution_count": 11,
   "metadata": {},
   "outputs": [
    {
     "data": {
      "text/html": [
       "<div>\n",
       "<style>\n",
       "    .dataframe thead tr:only-child th {\n",
       "        text-align: right;\n",
       "    }\n",
       "\n",
       "    .dataframe thead th {\n",
       "        text-align: left;\n",
       "    }\n",
       "\n",
       "    .dataframe tbody tr th {\n",
       "        vertical-align: top;\n",
       "    }\n",
       "</style>\n",
       "<table border=\"1\" class=\"dataframe\">\n",
       "  <thead>\n",
       "    <tr style=\"text-align: right;\">\n",
       "      <th></th>\n",
       "      <th>QS rank</th>\n",
       "      <th>Country</th>\n",
       "      <th>Region</th>\n",
       "      <th>Total faculty members</th>\n",
       "      <th>International faculty members</th>\n",
       "      <th>Total students</th>\n",
       "      <th>International students</th>\n",
       "    </tr>\n",
       "    <tr>\n",
       "      <th>University</th>\n",
       "      <th></th>\n",
       "      <th></th>\n",
       "      <th></th>\n",
       "      <th></th>\n",
       "      <th></th>\n",
       "      <th></th>\n",
       "      <th></th>\n",
       "    </tr>\n",
       "  </thead>\n",
       "  <tbody>\n",
       "    <tr>\n",
       "      <th>Massachusetts Institute of Technology (MIT)</th>\n",
       "      <td>1</td>\n",
       "      <td>United States</td>\n",
       "      <td>North America</td>\n",
       "      <td>2982</td>\n",
       "      <td>1679</td>\n",
       "      <td>11067</td>\n",
       "      <td>3717</td>\n",
       "    </tr>\n",
       "    <tr>\n",
       "      <th>Stanford University</th>\n",
       "      <td>2</td>\n",
       "      <td>United States</td>\n",
       "      <td>North America</td>\n",
       "      <td>4285</td>\n",
       "      <td>2042</td>\n",
       "      <td>15878</td>\n",
       "      <td>3611</td>\n",
       "    </tr>\n",
       "    <tr>\n",
       "      <th>Harvard University</th>\n",
       "      <td>3</td>\n",
       "      <td>United States</td>\n",
       "      <td>North America</td>\n",
       "      <td>4350</td>\n",
       "      <td>1311</td>\n",
       "      <td>22429</td>\n",
       "      <td>5266</td>\n",
       "    </tr>\n",
       "    <tr>\n",
       "      <th>California Institute of Technology (Caltech)</th>\n",
       "      <td>4</td>\n",
       "      <td>United States</td>\n",
       "      <td>North America</td>\n",
       "      <td>953</td>\n",
       "      <td>350</td>\n",
       "      <td>2255</td>\n",
       "      <td>647</td>\n",
       "    </tr>\n",
       "    <tr>\n",
       "      <th>University of Cambridge</th>\n",
       "      <td>5</td>\n",
       "      <td>United Kingdom</td>\n",
       "      <td>Europe</td>\n",
       "      <td>5490</td>\n",
       "      <td>2278</td>\n",
       "      <td>18770</td>\n",
       "      <td>6699</td>\n",
       "    </tr>\n",
       "  </tbody>\n",
       "</table>\n",
       "</div>"
      ],
      "text/plain": [
       "                                              QS rank         Country  \\\n",
       "University                                                              \n",
       "Massachusetts Institute of Technology (MIT)         1   United States   \n",
       "Stanford University                                 2   United States   \n",
       "Harvard University                                  3   United States   \n",
       "California Institute of Technology (Caltech)        4   United States   \n",
       "University of Cambridge                             5  United Kingdom   \n",
       "\n",
       "                                                     Region  \\\n",
       "University                                                    \n",
       "Massachusetts Institute of Technology (MIT)   North America   \n",
       "Stanford University                           North America   \n",
       "Harvard University                            North America   \n",
       "California Institute of Technology (Caltech)  North America   \n",
       "University of Cambridge                              Europe   \n",
       "\n",
       "                                              Total faculty members  \\\n",
       "University                                                            \n",
       "Massachusetts Institute of Technology (MIT)                    2982   \n",
       "Stanford University                                            4285   \n",
       "Harvard University                                             4350   \n",
       "California Institute of Technology (Caltech)                    953   \n",
       "University of Cambridge                                        5490   \n",
       "\n",
       "                                              International faculty members  \\\n",
       "University                                                                    \n",
       "Massachusetts Institute of Technology (MIT)                            1679   \n",
       "Stanford University                                                    2042   \n",
       "Harvard University                                                     1311   \n",
       "California Institute of Technology (Caltech)                            350   \n",
       "University of Cambridge                                                2278   \n",
       "\n",
       "                                              Total students  \\\n",
       "University                                                     \n",
       "Massachusetts Institute of Technology (MIT)            11067   \n",
       "Stanford University                                    15878   \n",
       "Harvard University                                     22429   \n",
       "California Institute of Technology (Caltech)            2255   \n",
       "University of Cambridge                                18770   \n",
       "\n",
       "                                              International students  \n",
       "University                                                            \n",
       "Massachusetts Institute of Technology (MIT)                     3717  \n",
       "Stanford University                                             3611  \n",
       "Harvard University                                              5266  \n",
       "California Institute of Technology (Caltech)                     647  \n",
       "University of Cambridge                                         6699  "
      ]
     },
     "execution_count": 11,
     "metadata": {},
     "output_type": "execute_result"
    }
   ],
   "source": [
    "qs_data = qs_data.set_index(['University'])\n",
    "qs_data.head()"
   ]
  },
  {
   "cell_type": "markdown",
   "metadata": {},
   "source": [
    "## 1.2 Analyze data"
   ]
  },
  {
   "cell_type": "markdown",
   "metadata": {},
   "source": [
    "#### (a) Which are the best universities in terms of ratio between faculty members and students?"
   ]
  },
  {
   "cell_type": "markdown",
   "metadata": {},
   "source": [
    "In this part, we find out that  in terms of ratio between faculty members and students, the best university is **Caltech** and we show the top 10 universities with their ratio below. We plot a bar chart of these 10 universities.\n",
    "\n",
    "**The smaller the Student-Faculty Ratio is, the better the university is.**"
   ]
  },
  {
   "cell_type": "code",
   "execution_count": 12,
   "metadata": {},
   "outputs": [
    {
     "data": {
      "text/html": [
       "<div>\n",
       "<style>\n",
       "    .dataframe thead tr:only-child th {\n",
       "        text-align: right;\n",
       "    }\n",
       "\n",
       "    .dataframe thead th {\n",
       "        text-align: left;\n",
       "    }\n",
       "\n",
       "    .dataframe tbody tr th {\n",
       "        vertical-align: top;\n",
       "    }\n",
       "</style>\n",
       "<table border=\"1\" class=\"dataframe\">\n",
       "  <thead>\n",
       "    <tr style=\"text-align: right;\">\n",
       "      <th></th>\n",
       "      <th>Student-Faculty Ratio</th>\n",
       "    </tr>\n",
       "    <tr>\n",
       "      <th>University</th>\n",
       "      <th></th>\n",
       "    </tr>\n",
       "  </thead>\n",
       "  <tbody>\n",
       "    <tr>\n",
       "      <th>California Institute of Technology (Caltech)</th>\n",
       "      <td>2.366212</td>\n",
       "    </tr>\n",
       "    <tr>\n",
       "      <th>Yale University</th>\n",
       "      <td>2.510526</td>\n",
       "    </tr>\n",
       "    <tr>\n",
       "      <th>University of Oxford</th>\n",
       "      <td>2.921481</td>\n",
       "    </tr>\n",
       "    <tr>\n",
       "      <th>University of Cambridge</th>\n",
       "      <td>3.418944</td>\n",
       "    </tr>\n",
       "    <tr>\n",
       "      <th>Johns Hopkins University</th>\n",
       "      <td>3.618557</td>\n",
       "    </tr>\n",
       "    <tr>\n",
       "      <th>Stanford University</th>\n",
       "      <td>3.705484</td>\n",
       "    </tr>\n",
       "    <tr>\n",
       "      <th>Massachusetts Institute of Technology (MIT)</th>\n",
       "      <td>3.711268</td>\n",
       "    </tr>\n",
       "    <tr>\n",
       "      <th>University of Rochester</th>\n",
       "      <td>3.750876</td>\n",
       "    </tr>\n",
       "    <tr>\n",
       "      <th>University of Pennsylvania</th>\n",
       "      <td>3.753228</td>\n",
       "    </tr>\n",
       "    <tr>\n",
       "      <th>Columbia University</th>\n",
       "      <td>4.046696</td>\n",
       "    </tr>\n",
       "  </tbody>\n",
       "</table>\n",
       "</div>"
      ],
      "text/plain": [
       "                                              Student-Faculty Ratio\n",
       "University                                                         \n",
       "California Institute of Technology (Caltech)               2.366212\n",
       "Yale University                                            2.510526\n",
       "University of Oxford                                       2.921481\n",
       "University of Cambridge                                    3.418944\n",
       "Johns Hopkins University                                   3.618557\n",
       "Stanford University                                        3.705484\n",
       "Massachusetts Institute of Technology (MIT)                3.711268\n",
       "University of Rochester                                    3.750876\n",
       "University of Pennsylvania                                 3.753228\n",
       "Columbia University                                        4.046696"
      ]
     },
     "execution_count": 12,
     "metadata": {},
     "output_type": "execute_result"
    }
   ],
   "source": [
    "ratio_student_faculty = pd.DataFrame(qs_data['Total students']/qs_data['Total faculty members'])\n",
    "ratio_student_faculty.columns = ['Student-Faculty Ratio']\n",
    "ratio_student_faculty = ratio_student_faculty.sort_values(['Student-Faculty Ratio'],ascending = True)\n",
    "ratio_student_faculty.head(10)"
   ]
  },
  {
   "cell_type": "code",
   "execution_count": 13,
   "metadata": {},
   "outputs": [
    {
     "data": {
      "image/png": "[encoded data removed]",
      "text/plain": [
       "<matplotlib.figure.Figure at 0x10bf38f28>"
      ]
     },
     "metadata": {},
     "output_type": "display_data"
    }
   ],
   "source": [
    "ratio_student_faculty.head(10).plot(kind = 'barh', legend=False)\n",
    "plt.title('Top 10 universities in terms of Student-Faculty Ratio')\n",
    "plt.xlabel('Student-Faculty Ratio')\n",
    "plt.show()"
   ]
  },
  {
   "cell_type": "markdown",
   "metadata": {},
   "source": [
    "#### (b) Which are the best universities in terms of ratio of international students?"
   ]
  },
  {
   "cell_type": "markdown",
   "metadata": {},
   "source": [
    "In this part, we find out that in terms of ratio of international students, the best university is **LSE** and we show the top 10 universities with their ratio below. We plot a bar chart of these 10 universities.\n",
    "\n",
    "Glad to see **EPFL** in the second position!"
   ]
  },
  {
   "cell_type": "code",
   "execution_count": 14,
   "metadata": {},
   "outputs": [
    {
     "data": {
      "text/html": [
       "<div>\n",
       "<style>\n",
       "    .dataframe thead tr:only-child th {\n",
       "        text-align: right;\n",
       "    }\n",
       "\n",
       "    .dataframe thead th {\n",
       "        text-align: left;\n",
       "    }\n",
       "\n",
       "    .dataframe tbody tr th {\n",
       "        vertical-align: top;\n",
       "    }\n",
       "</style>\n",
       "<table border=\"1\" class=\"dataframe\">\n",
       "  <thead>\n",
       "    <tr style=\"text-align: right;\">\n",
       "      <th></th>\n",
       "      <th>Ratio of international students</th>\n",
       "    </tr>\n",
       "    <tr>\n",
       "      <th>University</th>\n",
       "      <th></th>\n",
       "    </tr>\n",
       "  </thead>\n",
       "  <tbody>\n",
       "    <tr>\n",
       "      <th>London School of Economics and Political Science (LSE)</th>\n",
       "      <td>0.691393</td>\n",
       "    </tr>\n",
       "    <tr>\n",
       "      <th>Ecole Polytechnique Fédérale de Lausanne (EPFL)</th>\n",
       "      <td>0.570047</td>\n",
       "    </tr>\n",
       "    <tr>\n",
       "      <th>Imperial College London</th>\n",
       "      <td>0.543567</td>\n",
       "    </tr>\n",
       "    <tr>\n",
       "      <th>Maastricht University</th>\n",
       "      <td>0.502533</td>\n",
       "    </tr>\n",
       "    <tr>\n",
       "      <th>Carnegie Mellon University</th>\n",
       "      <td>0.478062</td>\n",
       "    </tr>\n",
       "    <tr>\n",
       "      <th>UCL (University College London)</th>\n",
       "      <td>0.477928</td>\n",
       "    </tr>\n",
       "    <tr>\n",
       "      <th>University of St Andrews</th>\n",
       "      <td>0.457955</td>\n",
       "    </tr>\n",
       "    <tr>\n",
       "      <th>The University of Melbourne</th>\n",
       "      <td>0.427434</td>\n",
       "    </tr>\n",
       "    <tr>\n",
       "      <th>Queen Mary University of London</th>\n",
       "      <td>0.421816</td>\n",
       "    </tr>\n",
       "    <tr>\n",
       "      <th>The University of Hong Kong</th>\n",
       "      <td>0.407144</td>\n",
       "    </tr>\n",
       "  </tbody>\n",
       "</table>\n",
       "</div>"
      ],
      "text/plain": [
       "                                                    Ratio of international students\n",
       "University                                                                         \n",
       "London School of Economics and Political Scienc...                         0.691393\n",
       "Ecole Polytechnique Fédérale de Lausanne (EPFL)                            0.570047\n",
       "Imperial College London                                                    0.543567\n",
       "Maastricht University                                                      0.502533\n",
       "Carnegie Mellon University                                                 0.478062\n",
       "UCL (University College London)                                            0.477928\n",
       "University of St Andrews                                                   0.457955\n",
       "The University of Melbourne                                                0.427434\n",
       "Queen Mary University of London                                            0.421816\n",
       "The University of Hong Kong                                                0.407144"
      ]
     },
     "execution_count": 14,
     "metadata": {},
     "output_type": "execute_result"
    }
   ],
   "source": [
    "ratio_inter_total = pd.DataFrame(qs_data['International students']/qs_data['Total students'])\n",
    "ratio_inter_total.columns = ['Ratio of international students']\n",
    "ratio_inter_total = ratio_inter_total.sort_values(['Ratio of international students'],ascending = False)\n",
    "ratio_inter_total.head(10)"
   ]
  },
  {
   "cell_type": "code",
   "execution_count": 15,
   "metadata": {},
   "outputs": [
    {
     "data": {
      "image/png": "[encoded data removed]",
      "text/plain": [
       "<matplotlib.figure.Figure at 0x10b2b07b8>"
      ]
     },
     "metadata": {},
     "output_type": "display_data"
    }
   ],
   "source": [
    "ratio_inter_total.head(10).plot(kind = 'barh', legend = False)\n",
    "plt.title('Top 10 universities in terms of International Student Ratio')\n",
    "plt.xlabel('International Student Ratio')\n",
    "plt.show()"
   ]
  },
  {
   "cell_type": "markdown",
   "metadata": {},
   "source": [
    "#### (c) Which country has the most universities in Top 200?"
   ]
  },
  {
   "cell_type": "markdown",
   "metadata": {},
   "source": [
    "In this part, we create the ranking of countries in terms of the number of universities presented in the top 200 and we find out that **the US** has the most universities in the top 200 list. We use a pie chart to show the distribution."
   ]
  },
  {
   "cell_type": "code",
   "execution_count": 16,
   "metadata": {},
   "outputs": [
    {
     "data": {
      "text/html": [
       "<div>\n",
       "<style>\n",
       "    .dataframe thead tr:only-child th {\n",
       "        text-align: right;\n",
       "    }\n",
       "\n",
       "    .dataframe thead th {\n",
       "        text-align: left;\n",
       "    }\n",
       "\n",
       "    .dataframe tbody tr th {\n",
       "        vertical-align: top;\n",
       "    }\n",
       "</style>\n",
       "<table border=\"1\" class=\"dataframe\">\n",
       "  <thead>\n",
       "    <tr style=\"text-align: right;\">\n",
       "      <th></th>\n",
       "      <th>Number of universities</th>\n",
       "    </tr>\n",
       "    <tr>\n",
       "      <th>Country</th>\n",
       "      <th></th>\n",
       "    </tr>\n",
       "  </thead>\n",
       "  <tbody>\n",
       "    <tr>\n",
       "      <th>United States</th>\n",
       "      <td>47</td>\n",
       "    </tr>\n",
       "    <tr>\n",
       "      <th>United Kingdom</th>\n",
       "      <td>28</td>\n",
       "    </tr>\n",
       "    <tr>\n",
       "      <th>Germany</th>\n",
       "      <td>11</td>\n",
       "    </tr>\n",
       "    <tr>\n",
       "      <th>Netherlands</th>\n",
       "      <td>10</td>\n",
       "    </tr>\n",
       "    <tr>\n",
       "      <th>Australia</th>\n",
       "      <td>9</td>\n",
       "    </tr>\n",
       "  </tbody>\n",
       "</table>\n",
       "</div>"
      ],
      "text/plain": [
       "                Number of universities\n",
       "Country                               \n",
       "United States                       47\n",
       "United Kingdom                      28\n",
       "Germany                             11\n",
       "Netherlands                         10\n",
       "Australia                            9"
      ]
     },
     "execution_count": 16,
     "metadata": {},
     "output_type": "execute_result"
    }
   ],
   "source": [
    "df_country_ranking = qs_data.groupby('Country').count().filter(items = ['QS rank'])\n",
    "df_country_ranking.columns = ['Number of universities']\n",
    "df_country_ranking = df_country_ranking.sort_values(['Number of universities'],ascending =  False)\n",
    "df_country_ranking.head()"
   ]
  },
  {
   "cell_type": "code",
   "execution_count": 17,
   "metadata": {},
   "outputs": [
    {
     "data": {
      "image/png": "[encoded data removed]",
      "text/plain": [
       "<matplotlib.figure.Figure at 0x10b499208>"
      ]
     },
     "metadata": {},
     "output_type": "display_data"
    }
   ],
   "source": [
    "qs_data.groupby('Country').count().filter(items = ['QS rank']).\\\n",
    "                plot(kind='pie',autopct='%.1f%%',subplots=True,figsize=(15,15),legend=False)\n",
    "plt.title('Which country has the most universities in Top 200 of QS Ranking?', size=15)\n",
    "plt.ylabel('')\n",
    "plt.show()"
   ]
  },
  {
   "cell_type": "markdown",
   "metadata": {},
   "source": [
    "#### (d) Which region has the most universities in Top 200?"
   ]
  },
  {
   "cell_type": "markdown",
   "metadata": {},
   "source": [
    "In this part, we create the ranking of regions in terms of the number of universities presented in Top 200 and we find out that **Europe** has the most universities in Top 200. We use a pie chart to show the distribution."
   ]
  },
  {
   "cell_type": "code",
   "execution_count": 18,
   "metadata": {},
   "outputs": [
    {
     "data": {
      "text/html": [
       "<div>\n",
       "<style>\n",
       "    .dataframe thead tr:only-child th {\n",
       "        text-align: right;\n",
       "    }\n",
       "\n",
       "    .dataframe thead th {\n",
       "        text-align: left;\n",
       "    }\n",
       "\n",
       "    .dataframe tbody tr th {\n",
       "        vertical-align: top;\n",
       "    }\n",
       "</style>\n",
       "<table border=\"1\" class=\"dataframe\">\n",
       "  <thead>\n",
       "    <tr style=\"text-align: right;\">\n",
       "      <th></th>\n",
       "      <th>Number of univeristies</th>\n",
       "    </tr>\n",
       "    <tr>\n",
       "      <th>Region</th>\n",
       "      <th></th>\n",
       "    </tr>\n",
       "  </thead>\n",
       "  <tbody>\n",
       "    <tr>\n",
       "      <th>Europe</th>\n",
       "      <td>89</td>\n",
       "    </tr>\n",
       "    <tr>\n",
       "      <th>North America</th>\n",
       "      <td>54</td>\n",
       "    </tr>\n",
       "    <tr>\n",
       "      <th>Asia</th>\n",
       "      <td>38</td>\n",
       "    </tr>\n",
       "    <tr>\n",
       "      <th>Oceania</th>\n",
       "      <td>11</td>\n",
       "    </tr>\n",
       "    <tr>\n",
       "      <th>Latin America</th>\n",
       "      <td>7</td>\n",
       "    </tr>\n",
       "    <tr>\n",
       "      <th>Africa</th>\n",
       "      <td>1</td>\n",
       "    </tr>\n",
       "  </tbody>\n",
       "</table>\n",
       "</div>"
      ],
      "text/plain": [
       "               Number of univeristies\n",
       "Region                               \n",
       "Europe                             89\n",
       "North America                      54\n",
       "Asia                               38\n",
       "Oceania                            11\n",
       "Latin America                       7\n",
       "Africa                              1"
      ]
     },
     "execution_count": 18,
     "metadata": {},
     "output_type": "execute_result"
    }
   ],
   "source": [
    "df_region_ranking = qs_data.groupby('Region').count().filter(items = ['QS rank'])\n",
    "df_region_ranking.columns = ['Number of univeristies']\n",
    "df_region_ranking.sort_values(['Number of univeristies'],ascending =  False)"
   ]
  },
  {
   "cell_type": "code",
   "execution_count": 19,
   "metadata": {},
   "outputs": [
    {
     "data": {
      "image/png": "[encoded data removed]",
      "text/plain": [
       "<matplotlib.figure.Figure at 0x10bb416a0>"
      ]
     },
     "metadata": {},
     "output_type": "display_data"
    }
   ],
   "source": [
    "qs_data.groupby('Region').count().filter(items = ['QS rank']).\\\n",
    "            plot(kind='pie',autopct='%.1f%%',subplots=True,figsize=(8,8),legend=False)\n",
    "plt.title('Which region has the most universities in Top 200 of QS Ranking?', size=12)\n",
    "plt.ylabel('')\n",
    "plt.show()"
   ]
  },
  {
   "cell_type": "markdown",
   "metadata": {},
   "source": [
    "#### (e) Extra analysis: Which is the best university for each country?"
   ]
  },
  {
   "cell_type": "markdown",
   "metadata": {},
   "source": [
    "In this part, we create a DataFrame to show the best university of each country from the Top 200 list."
   ]
  },
  {
   "cell_type": "code",
   "execution_count": 20,
   "metadata": {},
   "outputs": [
    {
     "data": {
      "text/html": [
       "<div>\n",
       "<style>\n",
       "    .dataframe thead tr:only-child th {\n",
       "        text-align: right;\n",
       "    }\n",
       "\n",
       "    .dataframe thead th {\n",
       "        text-align: left;\n",
       "    }\n",
       "\n",
       "    .dataframe tbody tr th {\n",
       "        vertical-align: top;\n",
       "    }\n",
       "</style>\n",
       "<table border=\"1\" class=\"dataframe\">\n",
       "  <thead>\n",
       "    <tr style=\"text-align: right;\">\n",
       "      <th></th>\n",
       "      <th>University</th>\n",
       "      <th>QS rank</th>\n",
       "    </tr>\n",
       "    <tr>\n",
       "      <th>Country</th>\n",
       "      <th></th>\n",
       "      <th></th>\n",
       "    </tr>\n",
       "  </thead>\n",
       "  <tbody>\n",
       "    <tr>\n",
       "      <th>United States</th>\n",
       "      <td>Massachusetts Institute of Technology (MIT)</td>\n",
       "      <td>1</td>\n",
       "    </tr>\n",
       "    <tr>\n",
       "      <th>United Kingdom</th>\n",
       "      <td>University of Cambridge</td>\n",
       "      <td>5</td>\n",
       "    </tr>\n",
       "    <tr>\n",
       "      <th>Switzerland</th>\n",
       "      <td>ETH Zurich - Swiss Federal Institute of Techno...</td>\n",
       "      <td>10</td>\n",
       "    </tr>\n",
       "    <tr>\n",
       "      <th>Singapore</th>\n",
       "      <td>Nanyang Technological University, Singapore (NTU)</td>\n",
       "      <td>11</td>\n",
       "    </tr>\n",
       "    <tr>\n",
       "      <th>Australia</th>\n",
       "      <td>The Australian National University</td>\n",
       "      <td>20</td>\n",
       "    </tr>\n",
       "    <tr>\n",
       "      <th>China</th>\n",
       "      <td>Tsinghua University</td>\n",
       "      <td>25</td>\n",
       "    </tr>\n",
       "    <tr>\n",
       "      <th>Hong Kong</th>\n",
       "      <td>The University of Hong Kong</td>\n",
       "      <td>26</td>\n",
       "    </tr>\n",
       "    <tr>\n",
       "      <th>Japan</th>\n",
       "      <td>The University of Tokyo</td>\n",
       "      <td>28</td>\n",
       "    </tr>\n",
       "    <tr>\n",
       "      <th>Canada</th>\n",
       "      <td>University of Toronto</td>\n",
       "      <td>31</td>\n",
       "    </tr>\n",
       "    <tr>\n",
       "      <th>South Korea</th>\n",
       "      <td>Seoul National University</td>\n",
       "      <td>36</td>\n",
       "    </tr>\n",
       "    <tr>\n",
       "      <th>France</th>\n",
       "      <td>Ecole normale supérieure, Paris</td>\n",
       "      <td>43</td>\n",
       "    </tr>\n",
       "    <tr>\n",
       "      <th>Netherlands</th>\n",
       "      <td>Delft University of Technology</td>\n",
       "      <td>54</td>\n",
       "    </tr>\n",
       "    <tr>\n",
       "      <th>Germany</th>\n",
       "      <td>Technical University of Munich</td>\n",
       "      <td>64</td>\n",
       "    </tr>\n",
       "    <tr>\n",
       "      <th>Belgium</th>\n",
       "      <td>KU Leuven</td>\n",
       "      <td>71</td>\n",
       "    </tr>\n",
       "    <tr>\n",
       "      <th>Denmark</th>\n",
       "      <td>University of Copenhagen</td>\n",
       "      <td>73</td>\n",
       "    </tr>\n",
       "    <tr>\n",
       "      <th>Argentina</th>\n",
       "      <td>Universidad de Buenos Aires (UBA)</td>\n",
       "      <td>75</td>\n",
       "    </tr>\n",
       "    <tr>\n",
       "      <th>Taiwan</th>\n",
       "      <td>National Taiwan University (NTU)</td>\n",
       "      <td>76</td>\n",
       "    </tr>\n",
       "    <tr>\n",
       "      <th>Sweden</th>\n",
       "      <td>Lund University</td>\n",
       "      <td>78</td>\n",
       "    </tr>\n",
       "    <tr>\n",
       "      <th>New Zealand</th>\n",
       "      <td>The University of Auckland</td>\n",
       "      <td>82</td>\n",
       "    </tr>\n",
       "    <tr>\n",
       "      <th>Ireland</th>\n",
       "      <td>Trinity College Dublin, The University of Dublin</td>\n",
       "      <td>88</td>\n",
       "    </tr>\n",
       "    <tr>\n",
       "      <th>Russia</th>\n",
       "      <td>Lomonosov Moscow State University</td>\n",
       "      <td>95</td>\n",
       "    </tr>\n",
       "    <tr>\n",
       "      <th>Finland</th>\n",
       "      <td>University of Helsinki</td>\n",
       "      <td>102</td>\n",
       "    </tr>\n",
       "    <tr>\n",
       "      <th>Malaysia</th>\n",
       "      <td>Universiti Malaya (UM)</td>\n",
       "      <td>114</td>\n",
       "    </tr>\n",
       "    <tr>\n",
       "      <th>Brazil</th>\n",
       "      <td>Universidade de São Paulo</td>\n",
       "      <td>121</td>\n",
       "    </tr>\n",
       "    <tr>\n",
       "      <th>Mexico</th>\n",
       "      <td>Universidad Nacional Autónoma de México  (UNAM)</td>\n",
       "      <td>122</td>\n",
       "    </tr>\n",
       "    <tr>\n",
       "      <th>Chile</th>\n",
       "      <td>Pontificia Universidad Católica de Chile (UC)</td>\n",
       "      <td>137</td>\n",
       "    </tr>\n",
       "    <tr>\n",
       "      <th>Norway</th>\n",
       "      <td>University of Oslo</td>\n",
       "      <td>142</td>\n",
       "    </tr>\n",
       "    <tr>\n",
       "      <th>Israel</th>\n",
       "      <td>The Hebrew University of Jerusalem</td>\n",
       "      <td>145</td>\n",
       "    </tr>\n",
       "    <tr>\n",
       "      <th>Austria</th>\n",
       "      <td>University of Vienna</td>\n",
       "      <td>154</td>\n",
       "    </tr>\n",
       "    <tr>\n",
       "      <th>Spain</th>\n",
       "      <td>Universitat de Barcelona</td>\n",
       "      <td>156</td>\n",
       "    </tr>\n",
       "    <tr>\n",
       "      <th>Italy</th>\n",
       "      <td>Politecnico di Milano</td>\n",
       "      <td>170</td>\n",
       "    </tr>\n",
       "    <tr>\n",
       "      <th>India</th>\n",
       "      <td>Indian Institute of Technology Delhi (IITD)</td>\n",
       "      <td>172</td>\n",
       "    </tr>\n",
       "    <tr>\n",
       "      <th>Saudi Arabia</th>\n",
       "      <td>King Fahd University of Petroleum &amp; Minerals</td>\n",
       "      <td>173</td>\n",
       "    </tr>\n",
       "    <tr>\n",
       "      <th>South Africa</th>\n",
       "      <td>University of Cape Town</td>\n",
       "      <td>191</td>\n",
       "    </tr>\n",
       "  </tbody>\n",
       "</table>\n",
       "</div>"
      ],
      "text/plain": [
       "                                                       University  QS rank\n",
       "Country                                                                   \n",
       "United States         Massachusetts Institute of Technology (MIT)        1\n",
       "United Kingdom                            University of Cambridge        5\n",
       "Switzerland     ETH Zurich - Swiss Federal Institute of Techno...       10\n",
       "Singapore       Nanyang Technological University, Singapore (NTU)       11\n",
       "Australia                      The Australian National University       20\n",
       "China                                         Tsinghua University       25\n",
       "Hong Kong                             The University of Hong Kong       26\n",
       "Japan                                     The University of Tokyo       28\n",
       "Canada                                      University of Toronto       31\n",
       "South Korea                             Seoul National University       36\n",
       "France                            Ecole normale supérieure, Paris       43\n",
       "Netherlands                        Delft University of Technology       54\n",
       "Germany                            Technical University of Munich       64\n",
       "Belgium                                                 KU Leuven       71\n",
       "Denmark                                  University of Copenhagen       73\n",
       "Argentina                       Universidad de Buenos Aires (UBA)       75\n",
       "Taiwan                           National Taiwan University (NTU)       76\n",
       "Sweden                                            Lund University       78\n",
       "New Zealand                            The University of Auckland       82\n",
       "Ireland          Trinity College Dublin, The University of Dublin       88\n",
       "Russia                          Lomonosov Moscow State University       95\n",
       "Finland                                    University of Helsinki      102\n",
       "Malaysia                                   Universiti Malaya (UM)      114\n",
       "Brazil                                  Universidade de São Paulo      121\n",
       "Mexico            Universidad Nacional Autónoma de México  (UNAM)      122\n",
       "Chile               Pontificia Universidad Católica de Chile (UC)      137\n",
       "Norway                                         University of Oslo      142\n",
       "Israel                         The Hebrew University of Jerusalem      145\n",
       "Austria                                      University of Vienna      154\n",
       "Spain                                    Universitat de Barcelona      156\n",
       "Italy                                       Politecnico di Milano      170\n",
       "India                 Indian Institute of Technology Delhi (IITD)      172\n",
       "Saudi Arabia         King Fahd University of Petroleum & Minerals      173\n",
       "South Africa                              University of Cape Town      191"
      ]
     },
     "execution_count": 20,
     "metadata": {},
     "output_type": "execute_result"
    }
   ],
   "source": [
    "df_best_uni_by_country = qs_data.filter(items = ['Country','QS rank'])\n",
    "df_best_uni_by_country = df_best_uni_by_country.reset_index()\n",
    "df_best_uni_by_country = df_best_uni_by_country.sort_values(['QS rank'],ascending = True).groupby(['Country']).first()\n",
    "df_best_uni_by_country.sort_values(['QS rank'])"
   ]
  },
  {
   "cell_type": "markdown",
   "metadata": {},
   "source": [
    "#### (f) Extra analysis: Which is the best university for each region?"
   ]
  },
  {
   "cell_type": "markdown",
   "metadata": {},
   "source": [
    "In this part, we create a DataFrame to show the best university of each region from the Top 200 list."
   ]
  },
  {
   "cell_type": "code",
   "execution_count": 21,
   "metadata": {},
   "outputs": [
    {
     "data": {
      "text/html": [
       "<div>\n",
       "<style>\n",
       "    .dataframe thead tr:only-child th {\n",
       "        text-align: right;\n",
       "    }\n",
       "\n",
       "    .dataframe thead th {\n",
       "        text-align: left;\n",
       "    }\n",
       "\n",
       "    .dataframe tbody tr th {\n",
       "        vertical-align: top;\n",
       "    }\n",
       "</style>\n",
       "<table border=\"1\" class=\"dataframe\">\n",
       "  <thead>\n",
       "    <tr style=\"text-align: right;\">\n",
       "      <th></th>\n",
       "      <th>University</th>\n",
       "      <th>QS rank</th>\n",
       "    </tr>\n",
       "    <tr>\n",
       "      <th>Region</th>\n",
       "      <th></th>\n",
       "      <th></th>\n",
       "    </tr>\n",
       "  </thead>\n",
       "  <tbody>\n",
       "    <tr>\n",
       "      <th>North America</th>\n",
       "      <td>Massachusetts Institute of Technology (MIT)</td>\n",
       "      <td>1</td>\n",
       "    </tr>\n",
       "    <tr>\n",
       "      <th>Europe</th>\n",
       "      <td>University of Cambridge</td>\n",
       "      <td>5</td>\n",
       "    </tr>\n",
       "    <tr>\n",
       "      <th>Asia</th>\n",
       "      <td>Nanyang Technological University, Singapore (NTU)</td>\n",
       "      <td>11</td>\n",
       "    </tr>\n",
       "    <tr>\n",
       "      <th>Oceania</th>\n",
       "      <td>The Australian National University</td>\n",
       "      <td>20</td>\n",
       "    </tr>\n",
       "    <tr>\n",
       "      <th>Latin America</th>\n",
       "      <td>Universidad de Buenos Aires (UBA)</td>\n",
       "      <td>75</td>\n",
       "    </tr>\n",
       "    <tr>\n",
       "      <th>Africa</th>\n",
       "      <td>University of Cape Town</td>\n",
       "      <td>191</td>\n",
       "    </tr>\n",
       "  </tbody>\n",
       "</table>\n",
       "</div>"
      ],
      "text/plain": [
       "                                                      University  QS rank\n",
       "Region                                                                   \n",
       "North America        Massachusetts Institute of Technology (MIT)        1\n",
       "Europe                                   University of Cambridge        5\n",
       "Asia           Nanyang Technological University, Singapore (NTU)       11\n",
       "Oceania                       The Australian National University       20\n",
       "Latin America                  Universidad de Buenos Aires (UBA)       75\n",
       "Africa                                   University of Cape Town      191"
      ]
     },
     "execution_count": 21,
     "metadata": {},
     "output_type": "execute_result"
    }
   ],
   "source": [
    "df_best_uni_by_region = qs_data.filter(items = ['Region','QS rank'])\n",
    "df_best_uni_by_region = df_best_uni_by_region.reset_index()\n",
    "df_best_uni_by_region = df_best_uni_by_region.sort_values(['QS rank'],ascending = True).groupby(['Region']).first()\n",
    "df_best_uni_by_region.sort_values(['QS rank'])"
   ]
  },
  {
   "cell_type": "markdown",
   "metadata": {},
   "source": [
    "## 2. The Times Higher Education World University Rankings 2018"
   ]
  },
  {
   "cell_type": "markdown",
   "metadata": {},
   "source": [
    "### 2.1 Get data."
   ]
  },
  {
   "cell_type": "code",
   "execution_count": 22,
   "metadata": {
    "collapsed": true
   },
   "outputs": [],
   "source": [
    "URL = 'https://www.timeshighereducation.com/sites/default/files/the_data_rankings/world_university_rankings_2018_limit0_369a9045a203e176392b9fb8f8c1cb2a.json'"
   ]
  },
  {
   "cell_type": "code",
   "execution_count": 23,
   "metadata": {
    "collapsed": true
   },
   "outputs": [],
   "source": [
    "r = requests.get(URL)\n",
    "p = r.json()"
   ]
  },
  {
   "cell_type": "code",
   "execution_count": 24,
   "metadata": {
    "collapsed": true
   },
   "outputs": [],
   "source": [
    "times_raw = pd.DataFrame.from_dict(p['data'])"
   ]
  },
  {
   "cell_type": "markdown",
   "metadata": {},
   "source": [
    "Display all attributes' names."
   ]
  },
  {
   "cell_type": "code",
   "execution_count": 25,
   "metadata": {},
   "outputs": [
    {
     "data": {
      "text/plain": [
       "Index(['aliases', 'location', 'member_level', 'name', 'nid', 'rank',\n",
       "       'rank_order', 'record_type', 'scores_citations',\n",
       "       'scores_citations_rank', 'scores_industry_income',\n",
       "       'scores_industry_income_rank', 'scores_international_outlook',\n",
       "       'scores_international_outlook_rank', 'scores_overall',\n",
       "       'scores_overall_rank', 'scores_research', 'scores_research_rank',\n",
       "       'scores_teaching', 'scores_teaching_rank', 'stats_female_male_ratio',\n",
       "       'stats_number_students', 'stats_pc_intl_students',\n",
       "       'stats_student_staff_ratio', 'subjects_offered', 'url'],\n",
       "      dtype='object')"
      ]
     },
     "execution_count": 25,
     "metadata": {},
     "output_type": "execute_result"
    }
   ],
   "source": [
    "times_raw.columns"
   ]
  },
  {
   "cell_type": "markdown",
   "metadata": {},
   "source": [
    "Choose the top 200 universities with attributes that we need for analysis."
   ]
  },
  {
   "cell_type": "code",
   "execution_count": 26,
   "metadata": {
    "collapsed": true
   },
   "outputs": [],
   "source": [
    "times_data = times_raw[0:200][['name','rank','location','stats_number_students', \n",
    "                            'stats_pc_intl_students', 'stats_student_staff_ratio']]"
   ]
  },
  {
   "cell_type": "markdown",
   "metadata": {},
   "source": [
    "Some necessary data cleaning work."
   ]
  },
  {
   "cell_type": "code",
   "execution_count": 27,
   "metadata": {
    "collapsed": true
   },
   "outputs": [],
   "source": [
    "# Use only integer for rankings e.g. \"=20\" -> \"20\"\n",
    "rank_int = times_data['rank'].str.replace('=','').astype(int)\n",
    "times_data['rank'] = rank_int\n",
    "# Remove all commas \n",
    "number_int = times_data['stats_number_students'].str.replace(',','').astype(int)\n",
    "times_data['stats_number_students'] = number_int\n",
    "# Remove all percent signs\n",
    "percent_float = times_data['stats_pc_intl_students'].str.strip(\"%\").astype(float)/100;\n",
    "times_data['stats_pc_intl_students'] = percent_float\n",
    "\n",
    "times_data['stats_student_staff_ratio'] = times_data['stats_student_staff_ratio'].astype(float)"
   ]
  },
  {
   "cell_type": "markdown",
   "metadata": {},
   "source": [
    "Make the columns readable."
   ]
  },
  {
   "cell_type": "code",
   "execution_count": 28,
   "metadata": {
    "collapsed": true
   },
   "outputs": [],
   "source": [
    "times_data.rename(columns = {'name':'University','location':'Country','rank':'Times rank',\n",
    "                             'stats_number_students':'Total students',\n",
    "                             'stats_pc_intl_students':'% of international students',\n",
    "                             'stats_student_staff_ratio':'Student staff ratio'}, inplace = True)"
   ]
  },
  {
   "cell_type": "code",
   "execution_count": 29,
   "metadata": {
    "collapsed": true
   },
   "outputs": [],
   "source": [
    "times_data = times_data.set_index(['University'])"
   ]
  },
  {
   "cell_type": "code",
   "execution_count": 30,
   "metadata": {
    "scrolled": true
   },
   "outputs": [
    {
     "data": {
      "text/html": [
       "<div>\n",
       "<style>\n",
       "    .dataframe thead tr:only-child th {\n",
       "        text-align: right;\n",
       "    }\n",
       "\n",
       "    .dataframe thead th {\n",
       "        text-align: left;\n",
       "    }\n",
       "\n",
       "    .dataframe tbody tr th {\n",
       "        vertical-align: top;\n",
       "    }\n",
       "</style>\n",
       "<table border=\"1\" class=\"dataframe\">\n",
       "  <thead>\n",
       "    <tr style=\"text-align: right;\">\n",
       "      <th></th>\n",
       "      <th>Times rank</th>\n",
       "      <th>Country</th>\n",
       "      <th>Total students</th>\n",
       "      <th>% of international students</th>\n",
       "      <th>Student staff ratio</th>\n",
       "    </tr>\n",
       "    <tr>\n",
       "      <th>University</th>\n",
       "      <th></th>\n",
       "      <th></th>\n",
       "      <th></th>\n",
       "      <th></th>\n",
       "      <th></th>\n",
       "    </tr>\n",
       "  </thead>\n",
       "  <tbody>\n",
       "    <tr>\n",
       "      <th>University of Oxford</th>\n",
       "      <td>1</td>\n",
       "      <td>United Kingdom</td>\n",
       "      <td>20409</td>\n",
       "      <td>0.38</td>\n",
       "      <td>11.2</td>\n",
       "    </tr>\n",
       "    <tr>\n",
       "      <th>University of Cambridge</th>\n",
       "      <td>2</td>\n",
       "      <td>United Kingdom</td>\n",
       "      <td>18389</td>\n",
       "      <td>0.35</td>\n",
       "      <td>10.9</td>\n",
       "    </tr>\n",
       "    <tr>\n",
       "      <th>California Institute of Technology</th>\n",
       "      <td>3</td>\n",
       "      <td>United States</td>\n",
       "      <td>2209</td>\n",
       "      <td>0.27</td>\n",
       "      <td>6.5</td>\n",
       "    </tr>\n",
       "    <tr>\n",
       "      <th>Stanford University</th>\n",
       "      <td>3</td>\n",
       "      <td>United States</td>\n",
       "      <td>15845</td>\n",
       "      <td>0.22</td>\n",
       "      <td>7.5</td>\n",
       "    </tr>\n",
       "    <tr>\n",
       "      <th>Massachusetts Institute of Technology</th>\n",
       "      <td>5</td>\n",
       "      <td>United States</td>\n",
       "      <td>11177</td>\n",
       "      <td>0.34</td>\n",
       "      <td>8.7</td>\n",
       "    </tr>\n",
       "  </tbody>\n",
       "</table>\n",
       "</div>"
      ],
      "text/plain": [
       "                                       Times rank         Country  \\\n",
       "University                                                          \n",
       "University of Oxford                            1  United Kingdom   \n",
       "University of Cambridge                         2  United Kingdom   \n",
       "California Institute of Technology              3   United States   \n",
       "Stanford University                             3   United States   \n",
       "Massachusetts Institute of Technology           5   United States   \n",
       "\n",
       "                                       Total students  \\\n",
       "University                                              \n",
       "University of Oxford                            20409   \n",
       "University of Cambridge                         18389   \n",
       "California Institute of Technology               2209   \n",
       "Stanford University                             15845   \n",
       "Massachusetts Institute of Technology           11177   \n",
       "\n",
       "                                       % of international students  \\\n",
       "University                                                           \n",
       "University of Oxford                                          0.38   \n",
       "University of Cambridge                                       0.35   \n",
       "California Institute of Technology                            0.27   \n",
       "Stanford University                                           0.22   \n",
       "Massachusetts Institute of Technology                         0.34   \n",
       "\n",
       "                                       Student staff ratio  \n",
       "University                                                  \n",
       "University of Oxford                                  11.2  \n",
       "University of Cambridge                               10.9  \n",
       "California Institute of Technology                     6.5  \n",
       "Stanford University                                    7.5  \n",
       "Massachusetts Institute of Technology                  8.7  "
      ]
     },
     "execution_count": 30,
     "metadata": {},
     "output_type": "execute_result"
    }
   ],
   "source": [
    "times_data.head()"
   ]
  },
  {
   "cell_type": "markdown",
   "metadata": {},
   "source": [
    "### 2.2 Analyze data"
   ]
  },
  {
   "cell_type": "markdown",
   "metadata": {},
   "source": [
    "#### (a) Which are the best universities in term of ratio between faculty members and students?"
   ]
  },
  {
   "cell_type": "markdown",
   "metadata": {},
   "source": [
    "In the Times rankings, we have ratio between students and staff instead of ratio between staff and students. **The smaller the *student staff ratio* is, the better the university is.**\n",
    "\n",
    "In this part, we find out that the best university in terms of ratio between faculty members and students is **Vanderbilt University**. \n",
    "\n",
    "But where is the **Caltech**, which is the top in pervious analysis of QS rankings? In Times rankings, Caltech is not in the top 10 in term of student-faculty ratio."
   ]
  },
  {
   "cell_type": "code",
   "execution_count": 31,
   "metadata": {},
   "outputs": [
    {
     "data": {
      "text/html": [
       "<div>\n",
       "<style>\n",
       "    .dataframe thead tr:only-child th {\n",
       "        text-align: right;\n",
       "    }\n",
       "\n",
       "    .dataframe thead th {\n",
       "        text-align: left;\n",
       "    }\n",
       "\n",
       "    .dataframe tbody tr th {\n",
       "        vertical-align: top;\n",
       "    }\n",
       "</style>\n",
       "<table border=\"1\" class=\"dataframe\">\n",
       "  <thead>\n",
       "    <tr style=\"text-align: right;\">\n",
       "      <th></th>\n",
       "      <th>Student staff ratio</th>\n",
       "    </tr>\n",
       "    <tr>\n",
       "      <th>University</th>\n",
       "      <th></th>\n",
       "    </tr>\n",
       "  </thead>\n",
       "  <tbody>\n",
       "    <tr>\n",
       "      <th>Vanderbilt University</th>\n",
       "      <td>3.3</td>\n",
       "    </tr>\n",
       "    <tr>\n",
       "      <th>University of Copenhagen</th>\n",
       "      <td>4.1</td>\n",
       "    </tr>\n",
       "    <tr>\n",
       "      <th>Johns Hopkins University</th>\n",
       "      <td>4.3</td>\n",
       "    </tr>\n",
       "    <tr>\n",
       "      <th>Yale University</th>\n",
       "      <td>4.3</td>\n",
       "    </tr>\n",
       "    <tr>\n",
       "      <th>University of Rochester</th>\n",
       "      <td>4.3</td>\n",
       "    </tr>\n",
       "    <tr>\n",
       "      <th>Emory University</th>\n",
       "      <td>4.4</td>\n",
       "    </tr>\n",
       "    <tr>\n",
       "      <th>Duke University</th>\n",
       "      <td>4.5</td>\n",
       "    </tr>\n",
       "    <tr>\n",
       "      <th>École Polytechnique</th>\n",
       "      <td>5.1</td>\n",
       "    </tr>\n",
       "    <tr>\n",
       "      <th>Scuola Normale Superiore di Pisa</th>\n",
       "      <td>5.2</td>\n",
       "    </tr>\n",
       "    <tr>\n",
       "      <th>University of Pittsburgh</th>\n",
       "      <td>5.9</td>\n",
       "    </tr>\n",
       "  </tbody>\n",
       "</table>\n",
       "</div>"
      ],
      "text/plain": [
       "                                  Student staff ratio\n",
       "University                                           \n",
       "Vanderbilt University                             3.3\n",
       "University of Copenhagen                          4.1\n",
       "Johns Hopkins University                          4.3\n",
       "Yale University                                   4.3\n",
       "University of Rochester                           4.3\n",
       "Emory University                                  4.4\n",
       "Duke University                                   4.5\n",
       "École Polytechnique                               5.1\n",
       "Scuola Normale Superiore di Pisa                  5.2\n",
       "University of Pittsburgh                          5.9"
      ]
     },
     "execution_count": 31,
     "metadata": {},
     "output_type": "execute_result"
    }
   ],
   "source": [
    "times_student_staff = times_data.sort_values(['Student staff ratio'],ascending = True)['Student staff ratio']\n",
    "times_student_staff = pd.DataFrame(times_student_staff)\n",
    "times_student_staff.head(10)"
   ]
  },
  {
   "cell_type": "code",
   "execution_count": 32,
   "metadata": {},
   "outputs": [
    {
     "data": {
      "image/png": "[encoded data removed]",
      "text/plain": [
       "<matplotlib.figure.Figure at 0x10afc4a20>"
      ]
     },
     "metadata": {},
     "output_type": "display_data"
    }
   ],
   "source": [
    "times_student_staff.head(10).plot(kind='barh', legend=False)\n",
    "plt.title('Top 10 universities in terms of Student-Faculty Ratio')\n",
    "plt.xlabel('Student-Faculty Ratio')\n",
    "plt.show()"
   ]
  },
  {
   "cell_type": "markdown",
   "metadata": {},
   "source": [
    "#### (b) Which are the best universities in term of ratio of international students?"
   ]
  },
  {
   "cell_type": "markdown",
   "metadata": {},
   "source": [
    "In this part, we find out that the best university in terms of ratio of international students is **London School of Economics and Political Science**. Remember? It's the same result as that we get from the pervious analysis of QS rankings! \n",
    "\n",
    "And, glad to see **EPFL** in top again!"
   ]
  },
  {
   "cell_type": "code",
   "execution_count": 33,
   "metadata": {},
   "outputs": [
    {
     "data": {
      "text/html": [
       "<div>\n",
       "<style>\n",
       "    .dataframe thead tr:only-child th {\n",
       "        text-align: right;\n",
       "    }\n",
       "\n",
       "    .dataframe thead th {\n",
       "        text-align: left;\n",
       "    }\n",
       "\n",
       "    .dataframe tbody tr th {\n",
       "        vertical-align: top;\n",
       "    }\n",
       "</style>\n",
       "<table border=\"1\" class=\"dataframe\">\n",
       "  <thead>\n",
       "    <tr style=\"text-align: right;\">\n",
       "      <th></th>\n",
       "      <th>% of international students</th>\n",
       "    </tr>\n",
       "    <tr>\n",
       "      <th>University</th>\n",
       "      <th></th>\n",
       "    </tr>\n",
       "  </thead>\n",
       "  <tbody>\n",
       "    <tr>\n",
       "      <th>London School of Economics and Political Science</th>\n",
       "      <td>0.71</td>\n",
       "    </tr>\n",
       "    <tr>\n",
       "      <th>University of Luxembourg</th>\n",
       "      <td>0.57</td>\n",
       "    </tr>\n",
       "    <tr>\n",
       "      <th>École Polytechnique Fédérale de Lausanne</th>\n",
       "      <td>0.55</td>\n",
       "    </tr>\n",
       "    <tr>\n",
       "      <th>Imperial College London</th>\n",
       "      <td>0.55</td>\n",
       "    </tr>\n",
       "    <tr>\n",
       "      <th>Maastricht University</th>\n",
       "      <td>0.50</td>\n",
       "    </tr>\n",
       "    <tr>\n",
       "      <th>University College London</th>\n",
       "      <td>0.49</td>\n",
       "    </tr>\n",
       "    <tr>\n",
       "      <th>University of St Andrews</th>\n",
       "      <td>0.48</td>\n",
       "    </tr>\n",
       "    <tr>\n",
       "      <th>Carnegie Mellon University</th>\n",
       "      <td>0.45</td>\n",
       "    </tr>\n",
       "    <tr>\n",
       "      <th>Queen Mary University of London</th>\n",
       "      <td>0.45</td>\n",
       "    </tr>\n",
       "    <tr>\n",
       "      <th>University of Hong Kong</th>\n",
       "      <td>0.42</td>\n",
       "    </tr>\n",
       "  </tbody>\n",
       "</table>\n",
       "</div>"
      ],
      "text/plain": [
       "                                                  % of international students\n",
       "University                                                                   \n",
       "London School of Economics and Political Science                         0.71\n",
       "University of Luxembourg                                                 0.57\n",
       "École Polytechnique Fédérale de Lausanne                                 0.55\n",
       "Imperial College London                                                  0.55\n",
       "Maastricht University                                                    0.50\n",
       "University College London                                                0.49\n",
       "University of St Andrews                                                 0.48\n",
       "Carnegie Mellon University                                               0.45\n",
       "Queen Mary University of London                                          0.45\n",
       "University of Hong Kong                                                  0.42"
      ]
     },
     "execution_count": 33,
     "metadata": {},
     "output_type": "execute_result"
    }
   ],
   "source": [
    "times_inter_stud = times_data.sort_values(['% of international students'],ascending = False)['% of international students']\n",
    "times_inter_stud = pd.DataFrame(times_inter_stud)\n",
    "times_inter_stud.head(10)"
   ]
  },
  {
   "cell_type": "code",
   "execution_count": 34,
   "metadata": {},
   "outputs": [
    {
     "data": {
      "image/png": "[encoded data removed]",
      "text/plain": [
       "<matplotlib.figure.Figure at 0x10afc4518>"
      ]
     },
     "metadata": {},
     "output_type": "display_data"
    }
   ],
   "source": [
    "times_inter_stud.head(10).plot(kind='barh', legend=False)\n",
    "plt.title('Top 10 universities in terms of International Student Ratio')\n",
    "plt.xlabel('International Student Ratio')\n",
    "plt.show()"
   ]
  },
  {
   "cell_type": "markdown",
   "metadata": {},
   "source": [
    "#### (c) Which country has the most universities in Top 200?\n"
   ]
  },
  {
   "cell_type": "markdown",
   "metadata": {},
   "source": [
    "In this part, we create the ranking of countries in terms of the number of universities presented in the top 200 and we find out that **the US** has the most universities in the top 200 list. If my memory is right, it's the same result as that of our pervious analysis of QS rankings.\n",
    "\n",
    "We use a pie chart to show the distribution."
   ]
  },
  {
   "cell_type": "code",
   "execution_count": 35,
   "metadata": {},
   "outputs": [
    {
     "data": {
      "text/html": [
       "<div>\n",
       "<style>\n",
       "    .dataframe thead tr:only-child th {\n",
       "        text-align: right;\n",
       "    }\n",
       "\n",
       "    .dataframe thead th {\n",
       "        text-align: left;\n",
       "    }\n",
       "\n",
       "    .dataframe tbody tr th {\n",
       "        vertical-align: top;\n",
       "    }\n",
       "</style>\n",
       "<table border=\"1\" class=\"dataframe\">\n",
       "  <thead>\n",
       "    <tr style=\"text-align: right;\">\n",
       "      <th></th>\n",
       "      <th>Number of universities</th>\n",
       "    </tr>\n",
       "    <tr>\n",
       "      <th>Country</th>\n",
       "      <th></th>\n",
       "    </tr>\n",
       "  </thead>\n",
       "  <tbody>\n",
       "    <tr>\n",
       "      <th>United States</th>\n",
       "      <td>62</td>\n",
       "    </tr>\n",
       "    <tr>\n",
       "      <th>United Kingdom</th>\n",
       "      <td>31</td>\n",
       "    </tr>\n",
       "    <tr>\n",
       "      <th>Germany</th>\n",
       "      <td>20</td>\n",
       "    </tr>\n",
       "    <tr>\n",
       "      <th>Netherlands</th>\n",
       "      <td>13</td>\n",
       "    </tr>\n",
       "    <tr>\n",
       "      <th>Australia</th>\n",
       "      <td>8</td>\n",
       "    </tr>\n",
       "  </tbody>\n",
       "</table>\n",
       "</div>"
      ],
      "text/plain": [
       "                Number of universities\n",
       "Country                               \n",
       "United States                       62\n",
       "United Kingdom                      31\n",
       "Germany                             20\n",
       "Netherlands                         13\n",
       "Australia                            8"
      ]
     },
     "execution_count": 35,
     "metadata": {},
     "output_type": "execute_result"
    }
   ],
   "source": [
    "times_country_ranking = times_data.groupby('Country').count().filter(items = ['Times rank'])\n",
    "times_country_ranking.columns = ['Number of universities']\n",
    "times_country_ranking = times_country_ranking.sort_values(['Number of universities'],ascending =  False)\n",
    "times_country_ranking.head()"
   ]
  },
  {
   "cell_type": "code",
   "execution_count": 36,
   "metadata": {},
   "outputs": [
    {
     "data": {
      "image/png": "[encoded data removed]",
      "text/plain": [
       "<matplotlib.figure.Figure at 0x10b000ef0>"
      ]
     },
     "metadata": {},
     "output_type": "display_data"
    }
   ],
   "source": [
    "times_data.groupby('Country').count().filter(items = ['Times rank']).\\\n",
    "                plot(kind='pie',autopct='%.1f%%',subplots=True,figsize=(15,15),legend=False)\n",
    "plt.title('Which country has the most universities in Top 200 of Times Rankings?', size=15)\n",
    "plt.ylabel('')\n",
    "plt.show()"
   ]
  },
  {
   "cell_type": "markdown",
   "metadata": {},
   "source": [
    "#### (d) Which region has the most universities in Top 200?"
   ]
  },
  {
   "cell_type": "markdown",
   "metadata": {},
   "source": [
    "In this part, we create the ranking of regions in terms of the number of universities presented in Top 200 and we find out that **Europe** has the most universities in Top 200. Also, same as pervious analysis of QS rankings.\n",
    "\n",
    "We use a pie chart to show the distribution.\n",
    "\n",
    "Notice that we don't hava attribute *region* in the Times rankings, so we get the map from the QS rankings and do some minor change."
   ]
  },
  {
   "cell_type": "code",
   "execution_count": 37,
   "metadata": {
    "collapsed": true
   },
   "outputs": [],
   "source": [
    "# get the map from QS rankings\n",
    "df_country_region = qs_data.reset_index()[['Country','Region']].drop_duplicates()\n",
    "df_country_region = df_country_region.set_index('Country')\n",
    "# make some minor change\n",
    "df_country_region.loc['Russian Federation'] = 'Europe'\n",
    "df_country_region.loc['Luxembourg'] = 'Europe'"
   ]
  },
  {
   "cell_type": "code",
   "execution_count": 38,
   "metadata": {
    "collapsed": true
   },
   "outputs": [],
   "source": [
    "times_region_ranking = times_country_ranking.merge(df_country_region,left_index=True,right_index=True,how='left')"
   ]
  },
  {
   "cell_type": "code",
   "execution_count": 39,
   "metadata": {},
   "outputs": [
    {
     "data": {
      "text/html": [
       "<div>\n",
       "<style>\n",
       "    .dataframe thead tr:only-child th {\n",
       "        text-align: right;\n",
       "    }\n",
       "\n",
       "    .dataframe thead th {\n",
       "        text-align: left;\n",
       "    }\n",
       "\n",
       "    .dataframe tbody tr th {\n",
       "        vertical-align: top;\n",
       "    }\n",
       "</style>\n",
       "<table border=\"1\" class=\"dataframe\">\n",
       "  <thead>\n",
       "    <tr style=\"text-align: right;\">\n",
       "      <th></th>\n",
       "      <th>Number of universities</th>\n",
       "    </tr>\n",
       "    <tr>\n",
       "      <th>Region</th>\n",
       "      <th></th>\n",
       "    </tr>\n",
       "  </thead>\n",
       "  <tbody>\n",
       "    <tr>\n",
       "      <th>Europe</th>\n",
       "      <td>101</td>\n",
       "    </tr>\n",
       "    <tr>\n",
       "      <th>North America</th>\n",
       "      <td>68</td>\n",
       "    </tr>\n",
       "    <tr>\n",
       "      <th>Asia</th>\n",
       "      <td>21</td>\n",
       "    </tr>\n",
       "    <tr>\n",
       "      <th>Oceania</th>\n",
       "      <td>9</td>\n",
       "    </tr>\n",
       "    <tr>\n",
       "      <th>Africa</th>\n",
       "      <td>1</td>\n",
       "    </tr>\n",
       "  </tbody>\n",
       "</table>\n",
       "</div>"
      ],
      "text/plain": [
       "               Number of universities\n",
       "Region                               \n",
       "Europe                            101\n",
       "North America                      68\n",
       "Asia                               21\n",
       "Oceania                             9\n",
       "Africa                              1"
      ]
     },
     "execution_count": 39,
     "metadata": {},
     "output_type": "execute_result"
    }
   ],
   "source": [
    "times_region_ranking = times_region_ranking.reset_index()[['Region','Number of universities']]\n",
    "times_region_ranking = times_region_ranking.groupby(['Region']).sum()\n",
    "times_region_ranking = times_region_ranking.sort_values(['Number of universities'], ascending=False)\n",
    "times_region_ranking"
   ]
  },
  {
   "cell_type": "code",
   "execution_count": 40,
   "metadata": {},
   "outputs": [
    {
     "data": {
      "image/png": "[encoded data removed]",
      "text/plain": [
       "<matplotlib.figure.Figure at 0x10bb41c50>"
      ]
     },
     "metadata": {},
     "output_type": "display_data"
    }
   ],
   "source": [
    "times_region_ranking.plot(kind='pie',autopct='%.1f%%',subplots=True,figsize=(8,8),legend=False)\n",
    "plt.title('Which region has the most universities in Top 200 of Times Ranking?', size=12)\n",
    "plt.ylabel('')\n",
    "plt.show()"
   ]
  },
  {
   "cell_type": "markdown",
   "metadata": {},
   "source": [
    "## 3. Merge the two DataFrames together"
   ]
  },
  {
   "cell_type": "markdown",
   "metadata": {},
   "source": [
    "**Strategy**: \n",
    "\n",
    "- Remove \"( ... )\" and \"The ...\" in the names of universities.\n",
    "- Find probably best matches between two rankings.\n",
    "- See if we made some mismatches.\n",
    "- Merge for the first time, see again if we failed to make matches.\n",
    "- Re-merge.\n",
    "- We get totally 160 universites finally."
   ]
  },
  {
   "cell_type": "markdown",
   "metadata": {},
   "source": [
    "**Libraries**:\n",
    "\n",
    "- **re - Regular expression operations**: This module provides regular expression matching operations. For detailed explanation of regular expressions, consult https://docs.python.org/3.6/library/re.html.\n",
    "- **difflib**: This module provides classes and functions for comparing sequences. For detailed explanation about this library, consult https://docs.python.org/3.6/library/difflib.html.\n"
   ]
  },
  {
   "cell_type": "code",
   "execution_count": 41,
   "metadata": {
    "collapsed": true
   },
   "outputs": [],
   "source": [
    "import re\n",
    "import difflib"
   ]
  },
  {
   "cell_type": "markdown",
   "metadata": {},
   "source": [
    "Make copies of original data."
   ]
  },
  {
   "cell_type": "code",
   "execution_count": 42,
   "metadata": {
    "collapsed": true
   },
   "outputs": [],
   "source": [
    "qs_data_copy = qs_data.reset_index().copy()\n",
    "times_data_copy = times_data.reset_index().copy()"
   ]
  },
  {
   "cell_type": "markdown",
   "metadata": {},
   "source": [
    "Times uses 'Russian Federation' instead of 'Russia'. We need to change it in order to make two rankings use the same country names."
   ]
  },
  {
   "cell_type": "code",
   "execution_count": 43,
   "metadata": {
    "collapsed": true
   },
   "outputs": [],
   "source": [
    "times_data_copy = times_data_copy.replace('Russian Federation','Russia')"
   ]
  },
  {
   "cell_type": "markdown",
   "metadata": {},
   "source": [
    "First of all, remove all \"( ... )\" and \"The ...\" in the Universities's names in the QS rankings.\n"
   ]
  },
  {
   "cell_type": "markdown",
   "metadata": {},
   "source": [
    "`re.sub(pattern, repl, string, count=0, flags=0)`: \n",
    "\n",
    "Return the string obtained by replacing the leftmost non-overlapping occurrences of *pattern* in *string* by the replacement *repl*. If the pattern isn’t found, string is returned unchanged.`"
   ]
  },
  {
   "cell_type": "code",
   "execution_count": 44,
   "metadata": {
    "collapsed": true
   },
   "outputs": [],
   "source": [
    "qs_uni_list = []\n",
    "qs_uni_list = qs_data_copy['University'].values\n",
    "for i in range(len(qs_uni_list)):\n",
    "    if qs_uni_list[i].startswith('The '):\n",
    "        uni_change = qs_uni_list[i].replace('The ','')\n",
    "        qs_uni_list.itemset(i, uni_change)\n",
    "    # re.sub: replace all matches of '\\s+\\(.*\\)' with ''.\n",
    "    # '\\s' matches whitespace, '\\s+' mathches one or more spaces\n",
    "    # '\\(' and '\\)' match '(' and ')'\n",
    "    # '.*' means greedy matches\n",
    "    uni_change = re.sub(r'\\s+\\(.*\\)','',qs_uni_list[i])\n",
    "    qs_uni_list.itemset(i, uni_change)"
   ]
  },
  {
   "cell_type": "code",
   "execution_count": 45,
   "metadata": {
    "collapsed": true
   },
   "outputs": [],
   "source": [
    "qs_data_copy = qs_data_copy.drop('University',axis=1)\n",
    "qs_data_copy['University'] = qs_uni_list"
   ]
  },
  {
   "cell_type": "markdown",
   "metadata": {},
   "source": [
    "Secondly, find all possible matches of names of universities in QS rankings from Times rankings. \n",
    "\n",
    "Use the method `difflib.get_close_matches` with the cutoff probablity 0.8 first to find fuzzy matches. Then, check if the matches have same country. And also with the method `difflib.SequenceMatcher(...).ratio()` to determine the similarity of the matches, if the probablities are less than 99%, print it out and recheck."
   ]
  },
  {
   "cell_type": "markdown",
   "metadata": {},
   "source": [
    "`difflib.get_close_matches(word, possibilities, n=3, cutoff=0.6)`: \n",
    "\n",
    "Return a list of the best “good enough” matches. *word* is a sequence for which close matches are desired, and *possibilities* is a list of sequences against which to match *word*. Optional argument *cutoff* (default 0.6) is a float in the range [0, 1]. Possibilities that don’t score at least that similar to word are ignored. The best (no more than n) matches among the possibilities are returned in a list, sorted by similarity score, **most similar first**."
   ]
  },
  {
   "cell_type": "markdown",
   "metadata": {},
   "source": [
    "`difflib.SequenceMatcher(isjunk=None, a='', b='', autojunk=True)`:\n",
    "\n",
    "This is a flexible class for comparing pairs of sequences of any type, so long as the sequence elements are hashable. And in its constructor, the optional arguments a and b are sequences to be compared; both default to empty strings. \n",
    "\n",
    "`difflib.SequenceMatcher(...).ratio()`: Return a measure of the sequences’ similarity as a float in the range [0, 1].\n"
   ]
  },
  {
   "cell_type": "code",
   "execution_count": 46,
   "metadata": {
    "scrolled": true
   },
   "outputs": [
    {
     "name": "stdout",
     "output_type": "stream",
     "text": [
      "MATCH ? :\n",
      "ETH Zurich - Swiss Federal Institute of Technology\n",
      "ETH Zurich – Swiss Federal Institute of Technology Zurich\n",
      "\n",
      "MATCH ? :\n",
      "Ecole Polytechnique Fédérale de Lausanne\n",
      "École Polytechnique Fédérale de Lausanne\n",
      "\n",
      "MATCH ? :\n",
      "King's College London\n",
      "King’s College London\n",
      "\n",
      "MATCH ? :\n",
      "KAIST - Korea Advanced Institute of Science & Technology\n",
      "Korea Advanced Institute of Science and Technology (KAIST)\n",
      "\n",
      "MATCH ? :\n",
      "Ecole Polytechnique\n",
      "École Polytechnique\n",
      "\n",
      "MATCH ? :\n",
      "Pohang University of Science And Technology\n",
      "Pohang University of Science and Technology\n",
      "\n",
      "MATCH ? :\n",
      "University of North Carolina, Chapel Hill\n",
      "University of North Carolina at Chapel Hill\n",
      "\n",
      "MATCH ? :\n",
      "Washington University in St. Louis\n",
      "Washington University in St Louis\n",
      "\n",
      "MATCH ? :\n",
      "KIT, Karlsruhe Institute of Technology\n",
      "Karlsruhe Institute of Technology\n",
      "\n",
      "MATCH ? :\n",
      "Sungkyunkwan University\n",
      "Sungkyunkwan University (SKKU)\n",
      "\n",
      "MATCH ? :\n",
      "Humboldt-Universität zu Berlin\n",
      "Humboldt University of Berlin\n",
      "\n",
      "MATCH ? :\n",
      "Freie Universitaet Berlin\n",
      "Free University of Berlin\n",
      "\n",
      "MATCH ? :\n",
      "Université de Montréal\n",
      "University of Montreal\n",
      "\n",
      "MATCH ? :\n",
      "Technische Universität Berlin\n",
      "Technical University of Berlin\n",
      "\n",
      "MATCH ? :\n",
      "Université catholique de Louvain\n",
      "Université Catholique de Louvain\n",
      "\n",
      "MATCH ? :\n",
      "National Tsing Hua University\n",
      "National Taiwan University\n",
      "\n",
      "MATCH ? :\n",
      "University College Dublin\n",
      "Trinity College Dublin\n",
      "\n"
     ]
    }
   ],
   "source": [
    "uni_map1 = {}\n",
    "for uni, country in qs_data_copy[['University','Country']].values:\n",
    "    # use cutoff possiblity as 0.8\n",
    "    uni_match = difflib.get_close_matches(uni, times_data_copy['University'], cutoff=0.8)\n",
    "    if uni_match == []:\n",
    "        uni_map1[uni] = uni\n",
    "    # if the country doesn't match, then it's a wrong match\n",
    "    elif country != times_data_copy[times_data_copy.University == uni_match[0]]['Country'].values: \n",
    "        uni_map1[uni] = uni \n",
    "    else:\n",
    "        uni_map1[uni] = uni_match[0]\n",
    "        # if the similarity between two universities' names is not 99%\n",
    "        # print it and recheck\n",
    "        if difflib.SequenceMatcher(None,uni,uni_match[0]).ratio() < 0.99:\n",
    "            print('MATCH ? :\\n{}\\n{}\\n'.format(uni, uni_match[0]))"
   ]
  },
  {
   "cell_type": "markdown",
   "metadata": {},
   "source": [
    "Check the output and correct the wrong matches."
   ]
  },
  {
   "cell_type": "code",
   "execution_count": 47,
   "metadata": {
    "collapsed": true
   },
   "outputs": [],
   "source": [
    "uni_map1['National Tsing Hua University'] = 'National Tsing Hua University'\n",
    "uni_map1['University College Dublin'] = 'University College Dublin'"
   ]
  },
  {
   "cell_type": "markdown",
   "metadata": {},
   "source": [
    "Map the matches to QS rankings."
   ]
  },
  {
   "cell_type": "code",
   "execution_count": 48,
   "metadata": {
    "collapsed": true
   },
   "outputs": [],
   "source": [
    "uni_change_list1 = []\n",
    "uni_change_list1 =  qs_data_copy['University'].map(uni_map1)\n",
    "qs_data_copy = qs_data_copy.drop('University',axis=1)\n",
    "qs_data_copy['University'] = uni_change_list1"
   ]
  },
  {
   "cell_type": "markdown",
   "metadata": {},
   "source": [
    "Try to merge 2 rankings for the first time."
   ]
  },
  {
   "cell_type": "code",
   "execution_count": 49,
   "metadata": {
    "collapsed": true
   },
   "outputs": [],
   "source": [
    "df_new1 = pd.merge(qs_data_copy, times_data_copy, left_on=['University','Country'], right_on=['University','Country'], how='outer', suffixes=('_qs','_times'))"
   ]
  },
  {
   "cell_type": "markdown",
   "metadata": {},
   "source": [
    "Find again, if we miss some matches country by country.\n",
    "\n",
    "If one country has some universities not in QS rankings and also some other universities not in Times rankings, then we may fail to match them. So, print and recheck."
   ]
  },
  {
   "cell_type": "code",
   "execution_count": 50,
   "metadata": {
    "scrolled": true
   },
   "outputs": [
    {
     "data": {
      "text/html": [
       "<div>\n",
       "<style>\n",
       "    .dataframe thead tr:only-child th {\n",
       "        text-align: right;\n",
       "    }\n",
       "\n",
       "    .dataframe thead th {\n",
       "        text-align: left;\n",
       "    }\n",
       "\n",
       "    .dataframe tbody tr th {\n",
       "        vertical-align: top;\n",
       "    }\n",
       "</style>\n",
       "<table border=\"1\" class=\"dataframe\">\n",
       "  <thead>\n",
       "    <tr style=\"text-align: right;\">\n",
       "      <th></th>\n",
       "      <th>University</th>\n",
       "      <th>Country</th>\n",
       "      <th>QS rank</th>\n",
       "      <th>Times rank</th>\n",
       "    </tr>\n",
       "  </thead>\n",
       "  <tbody>\n",
       "    <tr>\n",
       "      <th>181</th>\n",
       "      <td>Vrije Universiteit Brussel</td>\n",
       "      <td>Belgium</td>\n",
       "      <td>182.0</td>\n",
       "      <td>NaN</td>\n",
       "    </tr>\n",
       "    <tr>\n",
       "      <th>237</th>\n",
       "      <td>Université Libre de Bruxelles</td>\n",
       "      <td>Belgium</td>\n",
       "      <td>NaN</td>\n",
       "      <td>175.0</td>\n",
       "    </tr>\n",
       "    <tr>\n",
       "      <th>42</th>\n",
       "      <td>Ecole normale supérieure, Paris</td>\n",
       "      <td>France</td>\n",
       "      <td>43.0</td>\n",
       "      <td>NaN</td>\n",
       "    </tr>\n",
       "    <tr>\n",
       "      <th>130</th>\n",
       "      <td>Université Pierre et Marie Curie</td>\n",
       "      <td>France</td>\n",
       "      <td>131.0</td>\n",
       "      <td>NaN</td>\n",
       "    </tr>\n",
       "    <tr>\n",
       "      <th>176</th>\n",
       "      <td>CentraleSupélec</td>\n",
       "      <td>France</td>\n",
       "      <td>177.0</td>\n",
       "      <td>NaN</td>\n",
       "    </tr>\n",
       "    <tr>\n",
       "      <th>205</th>\n",
       "      <td>Paris Sciences et Lettres – PSL Research Unive...</td>\n",
       "      <td>France</td>\n",
       "      <td>NaN</td>\n",
       "      <td>72.0</td>\n",
       "    </tr>\n",
       "    <tr>\n",
       "      <th>214</th>\n",
       "      <td>Pierre and Marie Curie University</td>\n",
       "      <td>France</td>\n",
       "      <td>NaN</td>\n",
       "      <td>123.0</td>\n",
       "    </tr>\n",
       "    <tr>\n",
       "      <th>239</th>\n",
       "      <td>Paris-Sud University</td>\n",
       "      <td>France</td>\n",
       "      <td>NaN</td>\n",
       "      <td>181.0</td>\n",
       "    </tr>\n",
       "    <tr>\n",
       "      <th>246</th>\n",
       "      <td>Paris-Sorbonne University – Paris 4</td>\n",
       "      <td>France</td>\n",
       "      <td>NaN</td>\n",
       "      <td>196.0</td>\n",
       "    </tr>\n",
       "    <tr>\n",
       "      <th>65</th>\n",
       "      <td>Ludwig-Maximilians-Universität München</td>\n",
       "      <td>Germany</td>\n",
       "      <td>66.0</td>\n",
       "      <td>NaN</td>\n",
       "    </tr>\n",
       "    <tr>\n",
       "      <th>67</th>\n",
       "      <td>Ruprecht-Karls-Universität Heidelberg</td>\n",
       "      <td>Germany</td>\n",
       "      <td>68.0</td>\n",
       "      <td>NaN</td>\n",
       "    </tr>\n",
       "    <tr>\n",
       "      <th>165</th>\n",
       "      <td>Eberhard Karls Universität Tübingen</td>\n",
       "      <td>Germany</td>\n",
       "      <td>164.0</td>\n",
       "      <td>NaN</td>\n",
       "    </tr>\n",
       "    <tr>\n",
       "      <th>170</th>\n",
       "      <td>Albert-Ludwigs-Universitaet Freiburg</td>\n",
       "      <td>Germany</td>\n",
       "      <td>171.0</td>\n",
       "      <td>NaN</td>\n",
       "    </tr>\n",
       "    <tr>\n",
       "      <th>201</th>\n",
       "      <td>LMU Munich</td>\n",
       "      <td>Germany</td>\n",
       "      <td>NaN</td>\n",
       "      <td>34.0</td>\n",
       "    </tr>\n",
       "    <tr>\n",
       "      <th>203</th>\n",
       "      <td>Heidelberg University</td>\n",
       "      <td>Germany</td>\n",
       "      <td>NaN</td>\n",
       "      <td>45.0</td>\n",
       "    </tr>\n",
       "    <tr>\n",
       "      <th>206</th>\n",
       "      <td>University of Freiburg</td>\n",
       "      <td>Germany</td>\n",
       "      <td>NaN</td>\n",
       "      <td>82.0</td>\n",
       "    </tr>\n",
       "    <tr>\n",
       "      <th>207</th>\n",
       "      <td>University of Tübingen</td>\n",
       "      <td>Germany</td>\n",
       "      <td>NaN</td>\n",
       "      <td>94.0</td>\n",
       "    </tr>\n",
       "    <tr>\n",
       "      <th>208</th>\n",
       "      <td>University of Bonn</td>\n",
       "      <td>Germany</td>\n",
       "      <td>NaN</td>\n",
       "      <td>100.0</td>\n",
       "    </tr>\n",
       "    <tr>\n",
       "      <th>215</th>\n",
       "      <td>University of Mannheim</td>\n",
       "      <td>Germany</td>\n",
       "      <td>NaN</td>\n",
       "      <td>125.0</td>\n",
       "    </tr>\n",
       "    <tr>\n",
       "      <th>217</th>\n",
       "      <td>Charité - Universitätsmedizin Berlin</td>\n",
       "      <td>Germany</td>\n",
       "      <td>NaN</td>\n",
       "      <td>126.0</td>\n",
       "    </tr>\n",
       "    <tr>\n",
       "      <th>219</th>\n",
       "      <td>University of Cologne</td>\n",
       "      <td>Germany</td>\n",
       "      <td>NaN</td>\n",
       "      <td>145.0</td>\n",
       "    </tr>\n",
       "    <tr>\n",
       "      <th>224</th>\n",
       "      <td>TU Dresden</td>\n",
       "      <td>Germany</td>\n",
       "      <td>NaN</td>\n",
       "      <td>155.0</td>\n",
       "    </tr>\n",
       "    <tr>\n",
       "      <th>225</th>\n",
       "      <td>Ulm University</td>\n",
       "      <td>Germany</td>\n",
       "      <td>NaN</td>\n",
       "      <td>155.0</td>\n",
       "    </tr>\n",
       "    <tr>\n",
       "      <th>230</th>\n",
       "      <td>University of Erlangen-Nuremberg</td>\n",
       "      <td>Germany</td>\n",
       "      <td>NaN</td>\n",
       "      <td>162.0</td>\n",
       "    </tr>\n",
       "    <tr>\n",
       "      <th>232</th>\n",
       "      <td>University of Würzburg</td>\n",
       "      <td>Germany</td>\n",
       "      <td>NaN</td>\n",
       "      <td>165.0</td>\n",
       "    </tr>\n",
       "    <tr>\n",
       "      <th>236</th>\n",
       "      <td>University of Münster</td>\n",
       "      <td>Germany</td>\n",
       "      <td>NaN</td>\n",
       "      <td>173.0</td>\n",
       "    </tr>\n",
       "    <tr>\n",
       "      <th>87</th>\n",
       "      <td>Trinity College Dublin, The University of Dublin</td>\n",
       "      <td>Ireland</td>\n",
       "      <td>88.0</td>\n",
       "      <td>NaN</td>\n",
       "    </tr>\n",
       "    <tr>\n",
       "      <th>167</th>\n",
       "      <td>University College Dublin</td>\n",
       "      <td>Ireland</td>\n",
       "      <td>168.0</td>\n",
       "      <td>NaN</td>\n",
       "    </tr>\n",
       "    <tr>\n",
       "      <th>211</th>\n",
       "      <td>Trinity College Dublin</td>\n",
       "      <td>Ireland</td>\n",
       "      <td>NaN</td>\n",
       "      <td>117.0</td>\n",
       "    </tr>\n",
       "    <tr>\n",
       "      <th>169</th>\n",
       "      <td>Politecnico di Milano</td>\n",
       "      <td>Italy</td>\n",
       "      <td>170.0</td>\n",
       "      <td>NaN</td>\n",
       "    </tr>\n",
       "    <tr>\n",
       "      <th>187</th>\n",
       "      <td>Alma Mater Studiorum - University of Bologna</td>\n",
       "      <td>Italy</td>\n",
       "      <td>188.0</td>\n",
       "      <td>NaN</td>\n",
       "    </tr>\n",
       "    <tr>\n",
       "      <th>192</th>\n",
       "      <td>Scuola Superiore Sant'Anna Pisa di Studi Unive...</td>\n",
       "      <td>Italy</td>\n",
       "      <td>192.0</td>\n",
       "      <td>NaN</td>\n",
       "    </tr>\n",
       "    <tr>\n",
       "      <th>223</th>\n",
       "      <td>Scuola Superiore Sant’Anna</td>\n",
       "      <td>Italy</td>\n",
       "      <td>NaN</td>\n",
       "      <td>155.0</td>\n",
       "    </tr>\n",
       "    <tr>\n",
       "      <th>123</th>\n",
       "      <td>Wageningen University</td>\n",
       "      <td>Netherlands</td>\n",
       "      <td>124.0</td>\n",
       "      <td>NaN</td>\n",
       "    </tr>\n",
       "    <tr>\n",
       "      <th>204</th>\n",
       "      <td>Wageningen University &amp; Research</td>\n",
       "      <td>Netherlands</td>\n",
       "      <td>NaN</td>\n",
       "      <td>64.0</td>\n",
       "    </tr>\n",
       "    <tr>\n",
       "      <th>212</th>\n",
       "      <td>Radboud University Nijmegen</td>\n",
       "      <td>Netherlands</td>\n",
       "      <td>NaN</td>\n",
       "      <td>122.0</td>\n",
       "    </tr>\n",
       "    <tr>\n",
       "      <th>231</th>\n",
       "      <td>Vrije Universiteit Amsterdam</td>\n",
       "      <td>Netherlands</td>\n",
       "      <td>NaN</td>\n",
       "      <td>165.0</td>\n",
       "    </tr>\n",
       "    <tr>\n",
       "      <th>245</th>\n",
       "      <td>Tilburg University</td>\n",
       "      <td>Netherlands</td>\n",
       "      <td>NaN</td>\n",
       "      <td>195.0</td>\n",
       "    </tr>\n",
       "    <tr>\n",
       "      <th>155</th>\n",
       "      <td>Universitat de Barcelona</td>\n",
       "      <td>Spain</td>\n",
       "      <td>156.0</td>\n",
       "      <td>NaN</td>\n",
       "    </tr>\n",
       "    <tr>\n",
       "      <th>186</th>\n",
       "      <td>Universidad Autónoma de Madrid</td>\n",
       "      <td>Spain</td>\n",
       "      <td>187.0</td>\n",
       "      <td>NaN</td>\n",
       "    </tr>\n",
       "    <tr>\n",
       "      <th>195</th>\n",
       "      <td>Universitat Autònoma de Barcelona</td>\n",
       "      <td>Spain</td>\n",
       "      <td>195.0</td>\n",
       "      <td>NaN</td>\n",
       "    </tr>\n",
       "    <tr>\n",
       "      <th>218</th>\n",
       "      <td>Pompeu Fabra University</td>\n",
       "      <td>Spain</td>\n",
       "      <td>NaN</td>\n",
       "      <td>140.0</td>\n",
       "    </tr>\n",
       "    <tr>\n",
       "      <th>220</th>\n",
       "      <td>Autonomous University of Barcelona</td>\n",
       "      <td>Spain</td>\n",
       "      <td>NaN</td>\n",
       "      <td>147.0</td>\n",
       "    </tr>\n",
       "    <tr>\n",
       "      <th>132</th>\n",
       "      <td>Chalmers University of Technology</td>\n",
       "      <td>Sweden</td>\n",
       "      <td>133.0</td>\n",
       "      <td>NaN</td>\n",
       "    </tr>\n",
       "    <tr>\n",
       "      <th>202</th>\n",
       "      <td>Karolinska Institute</td>\n",
       "      <td>Sweden</td>\n",
       "      <td>NaN</td>\n",
       "      <td>38.0</td>\n",
       "    </tr>\n",
       "    <tr>\n",
       "      <th>249</th>\n",
       "      <td>University of Gothenburg</td>\n",
       "      <td>Sweden</td>\n",
       "      <td>NaN</td>\n",
       "      <td>198.0</td>\n",
       "    </tr>\n",
       "    <tr>\n",
       "      <th>6</th>\n",
       "      <td>UCL</td>\n",
       "      <td>United Kingdom</td>\n",
       "      <td>7.0</td>\n",
       "      <td>NaN</td>\n",
       "    </tr>\n",
       "    <tr>\n",
       "      <th>159</th>\n",
       "      <td>University of Bath</td>\n",
       "      <td>United Kingdom</td>\n",
       "      <td>160.0</td>\n",
       "      <td>NaN</td>\n",
       "    </tr>\n",
       "    <tr>\n",
       "      <th>188</th>\n",
       "      <td>University of Reading</td>\n",
       "      <td>United Kingdom</td>\n",
       "      <td>188.0</td>\n",
       "      <td>NaN</td>\n",
       "    </tr>\n",
       "    <tr>\n",
       "      <th>200</th>\n",
       "      <td>University College London</td>\n",
       "      <td>United Kingdom</td>\n",
       "      <td>NaN</td>\n",
       "      <td>16.0</td>\n",
       "    </tr>\n",
       "    <tr>\n",
       "      <th>221</th>\n",
       "      <td>University of Sussex</td>\n",
       "      <td>United Kingdom</td>\n",
       "      <td>NaN</td>\n",
       "      <td>147.0</td>\n",
       "    </tr>\n",
       "    <tr>\n",
       "      <th>227</th>\n",
       "      <td>University of Leicester</td>\n",
       "      <td>United Kingdom</td>\n",
       "      <td>NaN</td>\n",
       "      <td>159.0</td>\n",
       "    </tr>\n",
       "    <tr>\n",
       "      <th>241</th>\n",
       "      <td>University of Dundee</td>\n",
       "      <td>United Kingdom</td>\n",
       "      <td>NaN</td>\n",
       "      <td>187.0</td>\n",
       "    </tr>\n",
       "    <tr>\n",
       "      <th>242</th>\n",
       "      <td>University of East Anglia</td>\n",
       "      <td>United Kingdom</td>\n",
       "      <td>NaN</td>\n",
       "      <td>188.0</td>\n",
       "    </tr>\n",
       "    <tr>\n",
       "      <th>247</th>\n",
       "      <td>Royal Holloway, University of London</td>\n",
       "      <td>United Kingdom</td>\n",
       "      <td>NaN</td>\n",
       "      <td>197.0</td>\n",
       "    </tr>\n",
       "  </tbody>\n",
       "</table>\n",
       "</div>"
      ],
      "text/plain": [
       "                                            University         Country  \\\n",
       "181                         Vrije Universiteit Brussel         Belgium   \n",
       "237                      Université Libre de Bruxelles         Belgium   \n",
       "42                     Ecole normale supérieure, Paris          France   \n",
       "130                   Université Pierre et Marie Curie          France   \n",
       "176                                    CentraleSupélec          France   \n",
       "205  Paris Sciences et Lettres – PSL Research Unive...          France   \n",
       "214                  Pierre and Marie Curie University          France   \n",
       "239                               Paris-Sud University          France   \n",
       "246                Paris-Sorbonne University – Paris 4          France   \n",
       "65              Ludwig-Maximilians-Universität München         Germany   \n",
       "67               Ruprecht-Karls-Universität Heidelberg         Germany   \n",
       "165                Eberhard Karls Universität Tübingen         Germany   \n",
       "170               Albert-Ludwigs-Universitaet Freiburg         Germany   \n",
       "201                                         LMU Munich         Germany   \n",
       "203                              Heidelberg University         Germany   \n",
       "206                             University of Freiburg         Germany   \n",
       "207                             University of Tübingen         Germany   \n",
       "208                                 University of Bonn         Germany   \n",
       "215                             University of Mannheim         Germany   \n",
       "217               Charité - Universitätsmedizin Berlin         Germany   \n",
       "219                              University of Cologne         Germany   \n",
       "224                                         TU Dresden         Germany   \n",
       "225                                     Ulm University         Germany   \n",
       "230                   University of Erlangen-Nuremberg         Germany   \n",
       "232                             University of Würzburg         Germany   \n",
       "236                              University of Münster         Germany   \n",
       "87    Trinity College Dublin, The University of Dublin         Ireland   \n",
       "167                          University College Dublin         Ireland   \n",
       "211                             Trinity College Dublin         Ireland   \n",
       "169                              Politecnico di Milano           Italy   \n",
       "187       Alma Mater Studiorum - University of Bologna           Italy   \n",
       "192  Scuola Superiore Sant'Anna Pisa di Studi Unive...           Italy   \n",
       "223                         Scuola Superiore Sant’Anna           Italy   \n",
       "123                              Wageningen University     Netherlands   \n",
       "204                   Wageningen University & Research     Netherlands   \n",
       "212                        Radboud University Nijmegen     Netherlands   \n",
       "231                       Vrije Universiteit Amsterdam     Netherlands   \n",
       "245                                 Tilburg University     Netherlands   \n",
       "155                           Universitat de Barcelona           Spain   \n",
       "186                     Universidad Autónoma de Madrid           Spain   \n",
       "195                  Universitat Autònoma de Barcelona           Spain   \n",
       "218                            Pompeu Fabra University           Spain   \n",
       "220                 Autonomous University of Barcelona           Spain   \n",
       "132                  Chalmers University of Technology          Sweden   \n",
       "202                               Karolinska Institute          Sweden   \n",
       "249                           University of Gothenburg          Sweden   \n",
       "6                                                  UCL  United Kingdom   \n",
       "159                                 University of Bath  United Kingdom   \n",
       "188                              University of Reading  United Kingdom   \n",
       "200                          University College London  United Kingdom   \n",
       "221                               University of Sussex  United Kingdom   \n",
       "227                            University of Leicester  United Kingdom   \n",
       "241                               University of Dundee  United Kingdom   \n",
       "242                          University of East Anglia  United Kingdom   \n",
       "247               Royal Holloway, University of London  United Kingdom   \n",
       "\n",
       "     QS rank  Times rank  \n",
       "181    182.0         NaN  \n",
       "237      NaN       175.0  \n",
       "42      43.0         NaN  \n",
       "130    131.0         NaN  \n",
       "176    177.0         NaN  \n",
       "205      NaN        72.0  \n",
       "214      NaN       123.0  \n",
       "239      NaN       181.0  \n",
       "246      NaN       196.0  \n",
       "65      66.0         NaN  \n",
       "67      68.0         NaN  \n",
       "165    164.0         NaN  \n",
       "170    171.0         NaN  \n",
       "201      NaN        34.0  \n",
       "203      NaN        45.0  \n",
       "206      NaN        82.0  \n",
       "207      NaN        94.0  \n",
       "208      NaN       100.0  \n",
       "215      NaN       125.0  \n",
       "217      NaN       126.0  \n",
       "219      NaN       145.0  \n",
       "224      NaN       155.0  \n",
       "225      NaN       155.0  \n",
       "230      NaN       162.0  \n",
       "232      NaN       165.0  \n",
       "236      NaN       173.0  \n",
       "87      88.0         NaN  \n",
       "167    168.0         NaN  \n",
       "211      NaN       117.0  \n",
       "169    170.0         NaN  \n",
       "187    188.0         NaN  \n",
       "192    192.0         NaN  \n",
       "223      NaN       155.0  \n",
       "123    124.0         NaN  \n",
       "204      NaN        64.0  \n",
       "212      NaN       122.0  \n",
       "231      NaN       165.0  \n",
       "245      NaN       195.0  \n",
       "155    156.0         NaN  \n",
       "186    187.0         NaN  \n",
       "195    195.0         NaN  \n",
       "218      NaN       140.0  \n",
       "220      NaN       147.0  \n",
       "132    133.0         NaN  \n",
       "202      NaN        38.0  \n",
       "249      NaN       198.0  \n",
       "6        7.0         NaN  \n",
       "159    160.0         NaN  \n",
       "188    188.0         NaN  \n",
       "200      NaN        16.0  \n",
       "221      NaN       147.0  \n",
       "227      NaN       159.0  \n",
       "241      NaN       187.0  \n",
       "242      NaN       188.0  \n",
       "247      NaN       197.0  "
      ]
     },
     "execution_count": 50,
     "metadata": {},
     "output_type": "execute_result"
    }
   ],
   "source": [
    "# find all universities that have NaN rankings\n",
    "df_non = df_new1[df_new1['QS rank'].isnull() | df_new1['Times rank'].isnull()]\n",
    "# list the countries that have universities not in QS/Times rankings\n",
    "country_non_qs = df_non[df_non['QS rank'].isnull()].Country.unique()\n",
    "country_non_times = df_non[df_non['Times rank'].isnull()].Country.unique()\n",
    "# use a mask to find countries that have some universities not in QS rankings and some not in Times rankings\n",
    "country_non_mask = []\n",
    "for c in df_non['Country']:\n",
    "    if c in country_non_qs and c in country_non_times:\n",
    "        country_non_mask.append(True)\n",
    "    else:\n",
    "        country_non_mask.append(False)\n",
    "df_non2 = df_non[country_non_mask]\n",
    "# print the result and check again\n",
    "df_non2[['University','Country','QS rank','Times rank']].sort_values(['Country','QS rank'])"
   ]
  },
  {
   "cell_type": "markdown",
   "metadata": {},
   "source": [
    "Check the output and create a map for matches we failed to find before."
   ]
  },
  {
   "cell_type": "code",
   "execution_count": 51,
   "metadata": {
    "collapsed": true
   },
   "outputs": [],
   "source": [
    "uni_map2 = {}\n",
    "for uni in qs_data_copy['University']:\n",
    "    uni_map2[uni] = uni\n",
    "    \n",
    "uni_map2['Université Pierre et Marie Curie'] = 'Pierre and Marie Curie University'\n",
    "\n",
    "# Universities in Germany\n",
    "uni_map2['Ludwig-Maximilians-Universität München'] = 'LMU Munich'\n",
    "uni_map2['Ruprecht-Karls-Universität Heidelberg'] = 'Heidelberg University'\n",
    "uni_map2['Eberhard Karls Universität Tübingen'] = 'University of Tübingen'\n",
    "uni_map2['Albert-Ludwigs-Universitaet Freiburg'] = 'University of Freiburg'\n",
    "uni_map2['Trinity College Dublin, The University of Dublin'] = 'Trinity College Dublin'\n",
    "\n",
    "uni_map2['Scuola Superiore Sant\\'Anna Pisa di Studi Universitari e di Perfezionamento'] = 'Scuola Superiore Sant’Anna'\n",
    "\n",
    "uni_map2['Wageningen University'] = 'Wageningen University & Research'\n",
    "\n",
    "uni_map2['Universitat Autònoma de Barcelona'] = 'Autonomous University of Barcelona'\n",
    "\n",
    "uni_map2['UCL'] = 'University College London'"
   ]
  },
  {
   "cell_type": "markdown",
   "metadata": {},
   "source": [
    "Map again."
   ]
  },
  {
   "cell_type": "code",
   "execution_count": 52,
   "metadata": {
    "collapsed": true
   },
   "outputs": [],
   "source": [
    "uni_change_list2 = []\n",
    "uni_change_list2 =  qs_data_copy['University'].map(uni_map2)\n",
    "qs_data_copy = qs_data_copy.drop('University',axis=1)\n",
    "qs_data_copy['University'] = uni_change_list2"
   ]
  },
  {
   "cell_type": "markdown",
   "metadata": {},
   "source": [
    "Merge the 2 rankings."
   ]
  },
  {
   "cell_type": "code",
   "execution_count": 53,
   "metadata": {
    "collapsed": true
   },
   "outputs": [],
   "source": [
    "df_new2 = pd.merge(qs_data_copy, times_data_copy, left_on=['University','Country'], right_on=['University','Country'], how='outer', suffixes=('_qs','_times'))"
   ]
  },
  {
   "cell_type": "markdown",
   "metadata": {},
   "source": [
    "**merge_data**     : Keep only universities in both rankings"
   ]
  },
  {
   "cell_type": "code",
   "execution_count": 54,
   "metadata": {
    "collapsed": true
   },
   "outputs": [],
   "source": [
    "merge_data = df_new2.dropna()\n",
    "merge_data = merge_data.set_index('University')"
   ]
  },
  {
   "cell_type": "code",
   "execution_count": 55,
   "metadata": {
    "collapsed": true
   },
   "outputs": [],
   "source": [
    "merge_data['QS rank']                       = merge_data['QS rank'].astype(int)\n",
    "merge_data['Total faculty members']         = merge_data['Total faculty members'].astype(int)\n",
    "merge_data['International faculty members'] = merge_data['International faculty members'].astype(int)\n",
    "merge_data['Total students_qs']             = merge_data['Total students_qs'].astype(int)\n",
    "merge_data['Total faculty members']         = merge_data['Total faculty members'].astype(int)\n",
    "merge_data['International students']        = merge_data['International students'].astype(int)\n",
    "merge_data['Times rank']                    = merge_data['Times rank'].astype(int)\n",
    "merge_data['Total students_times']          = merge_data['Total students_times'].astype(int)\n",
    "merge_data['% of international students']   = merge_data['% of international students'].astype(float)\n",
    "merge_data['Student staff ratio']           = merge_data['Student staff ratio'].astype(float)"
   ]
  },
  {
   "cell_type": "markdown",
   "metadata": {},
   "source": [
    "Create some attributes using the data already in two rankings in order to make two rankings have as more similar attributes as possible."
   ]
  },
  {
   "cell_type": "code",
   "execution_count": 56,
   "metadata": {
    "collapsed": true
   },
   "outputs": [],
   "source": [
    "merge_data['International students_times'] = merge_data['Total students_times']*merge_data['% of international students']\n",
    "merge_data['International students_times'] = merge_data['International students_times'].astype(int)"
   ]
  },
  {
   "cell_type": "code",
   "execution_count": 57,
   "metadata": {
    "collapsed": true
   },
   "outputs": [],
   "source": [
    "merge_data['Total faculty members_times'] = merge_data['Total students_times']/merge_data['Student staff ratio']\n",
    "merge_data['Total faculty members_times'] = merge_data['Total faculty members_times'].astype(int)"
   ]
  },
  {
   "cell_type": "code",
   "execution_count": 58,
   "metadata": {
    "collapsed": true
   },
   "outputs": [],
   "source": [
    "merge_data['% of international students_qs'] = merge_data['International students']/merge_data['Total students_qs']\n",
    "merge_data['% of international students_qs'] = merge_data['% of international students_qs'].map('{:,.2f}'.format).astype(float)"
   ]
  },
  {
   "cell_type": "code",
   "execution_count": 59,
   "metadata": {
    "collapsed": true
   },
   "outputs": [],
   "source": [
    "merge_data['% of international faculty_qs'] = merge_data['International faculty members']/merge_data['Total faculty members']\n",
    "merge_data['% of international faculty_qs'] = merge_data['% of international faculty_qs'].map('{:,.2f}'.format).astype(float)"
   ]
  },
  {
   "cell_type": "code",
   "execution_count": 60,
   "metadata": {
    "collapsed": true
   },
   "outputs": [],
   "source": [
    "merge_data['Student stafff ratio_qs'] = merge_data['Total students_qs']/merge_data['Total faculty members']\n",
    "merge_data['Student stafff ratio_qs'] = merge_data['Student stafff ratio_qs'].map('{:,.1f}'.format).astype(float)"
   ]
  },
  {
   "cell_type": "markdown",
   "metadata": {},
   "source": [
    "Use hierachical columns."
   ]
  },
  {
   "cell_type": "code",
   "execution_count": 61,
   "metadata": {
    "collapsed": true
   },
   "outputs": [],
   "source": [
    "merge_data = merge_data[['Country','Region',\\\n",
    "                         'QS rank','Total faculty members','International faculty members','% of international faculty_qs',\\\n",
    "                         'Total students_qs','International students','% of international students_qs','Student stafff ratio_qs',\\\n",
    "                         'Times rank','Total faculty members_times','Total students_times',\\\n",
    "                         'International students_times','% of international students','Student staff ratio']]"
   ]
  },
  {
   "cell_type": "code",
   "execution_count": 62,
   "metadata": {
    "collapsed": true
   },
   "outputs": [],
   "source": [
    "merge_data.columns = [['Country','Region',\n",
    "                       'QS','QS','QS','QS','QS','QS','QS','QS',\n",
    "                       'Times','Times','Times','Times','Times','Times'],\n",
    "                      ['','',\n",
    "                       'Rank','Total staff','Inter staff','% of inter staff','Total stu','Inter stu','% of inter stu','Stu/Staff',\n",
    "                       'Rank','Total staff','Total stu','Inter stu','% of inter stu','Stu/Staff']]"
   ]
  },
  {
   "cell_type": "code",
   "execution_count": 63,
   "metadata": {},
   "outputs": [
    {
     "data": {
      "text/html": [
       "<div>\n",
       "<style>\n",
       "    .dataframe thead tr:only-child th {\n",
       "        text-align: right;\n",
       "    }\n",
       "\n",
       "    .dataframe thead th {\n",
       "        text-align: left;\n",
       "    }\n",
       "\n",
       "    .dataframe tbody tr th {\n",
       "        vertical-align: top;\n",
       "    }\n",
       "</style>\n",
       "<table border=\"1\" class=\"dataframe\">\n",
       "  <thead>\n",
       "    <tr>\n",
       "      <th></th>\n",
       "      <th>Country</th>\n",
       "      <th>Region</th>\n",
       "      <th colspan=\"8\" halign=\"left\">QS</th>\n",
       "      <th colspan=\"6\" halign=\"left\">Times</th>\n",
       "    </tr>\n",
       "    <tr>\n",
       "      <th></th>\n",
       "      <th></th>\n",
       "      <th></th>\n",
       "      <th>Rank</th>\n",
       "      <th>Total staff</th>\n",
       "      <th>Inter staff</th>\n",
       "      <th>% of inter staff</th>\n",
       "      <th>Total stu</th>\n",
       "      <th>Inter stu</th>\n",
       "      <th>% of inter stu</th>\n",
       "      <th>Stu/Staff</th>\n",
       "      <th>Rank</th>\n",
       "      <th>Total staff</th>\n",
       "      <th>Total stu</th>\n",
       "      <th>Inter stu</th>\n",
       "      <th>% of inter stu</th>\n",
       "      <th>Stu/Staff</th>\n",
       "    </tr>\n",
       "    <tr>\n",
       "      <th>University</th>\n",
       "      <th></th>\n",
       "      <th></th>\n",
       "      <th></th>\n",
       "      <th></th>\n",
       "      <th></th>\n",
       "      <th></th>\n",
       "      <th></th>\n",
       "      <th></th>\n",
       "      <th></th>\n",
       "      <th></th>\n",
       "      <th></th>\n",
       "      <th></th>\n",
       "      <th></th>\n",
       "      <th></th>\n",
       "      <th></th>\n",
       "      <th></th>\n",
       "    </tr>\n",
       "  </thead>\n",
       "  <tbody>\n",
       "    <tr>\n",
       "      <th>Massachusetts Institute of Technology</th>\n",
       "      <td>United States</td>\n",
       "      <td>North America</td>\n",
       "      <td>1</td>\n",
       "      <td>2982</td>\n",
       "      <td>1679</td>\n",
       "      <td>0.56</td>\n",
       "      <td>11067</td>\n",
       "      <td>3717</td>\n",
       "      <td>0.34</td>\n",
       "      <td>3.7</td>\n",
       "      <td>5</td>\n",
       "      <td>1284</td>\n",
       "      <td>11177</td>\n",
       "      <td>3800</td>\n",
       "      <td>0.34</td>\n",
       "      <td>8.7</td>\n",
       "    </tr>\n",
       "    <tr>\n",
       "      <th>Stanford University</th>\n",
       "      <td>United States</td>\n",
       "      <td>North America</td>\n",
       "      <td>2</td>\n",
       "      <td>4285</td>\n",
       "      <td>2042</td>\n",
       "      <td>0.48</td>\n",
       "      <td>15878</td>\n",
       "      <td>3611</td>\n",
       "      <td>0.23</td>\n",
       "      <td>3.7</td>\n",
       "      <td>3</td>\n",
       "      <td>2112</td>\n",
       "      <td>15845</td>\n",
       "      <td>3485</td>\n",
       "      <td>0.22</td>\n",
       "      <td>7.5</td>\n",
       "    </tr>\n",
       "    <tr>\n",
       "      <th>Harvard University</th>\n",
       "      <td>United States</td>\n",
       "      <td>North America</td>\n",
       "      <td>3</td>\n",
       "      <td>4350</td>\n",
       "      <td>1311</td>\n",
       "      <td>0.30</td>\n",
       "      <td>22429</td>\n",
       "      <td>5266</td>\n",
       "      <td>0.23</td>\n",
       "      <td>5.2</td>\n",
       "      <td>6</td>\n",
       "      <td>2283</td>\n",
       "      <td>20326</td>\n",
       "      <td>5284</td>\n",
       "      <td>0.26</td>\n",
       "      <td>8.9</td>\n",
       "    </tr>\n",
       "    <tr>\n",
       "      <th>California Institute of Technology</th>\n",
       "      <td>United States</td>\n",
       "      <td>North America</td>\n",
       "      <td>4</td>\n",
       "      <td>953</td>\n",
       "      <td>350</td>\n",
       "      <td>0.37</td>\n",
       "      <td>2255</td>\n",
       "      <td>647</td>\n",
       "      <td>0.29</td>\n",
       "      <td>2.4</td>\n",
       "      <td>3</td>\n",
       "      <td>339</td>\n",
       "      <td>2209</td>\n",
       "      <td>596</td>\n",
       "      <td>0.27</td>\n",
       "      <td>6.5</td>\n",
       "    </tr>\n",
       "    <tr>\n",
       "      <th>University of Cambridge</th>\n",
       "      <td>United Kingdom</td>\n",
       "      <td>Europe</td>\n",
       "      <td>5</td>\n",
       "      <td>5490</td>\n",
       "      <td>2278</td>\n",
       "      <td>0.41</td>\n",
       "      <td>18770</td>\n",
       "      <td>6699</td>\n",
       "      <td>0.36</td>\n",
       "      <td>3.4</td>\n",
       "      <td>2</td>\n",
       "      <td>1687</td>\n",
       "      <td>18389</td>\n",
       "      <td>6436</td>\n",
       "      <td>0.35</td>\n",
       "      <td>10.9</td>\n",
       "    </tr>\n",
       "  </tbody>\n",
       "</table>\n",
       "</div>"
      ],
      "text/plain": [
       "                                              Country         Region   QS  \\\n",
       "                                                                     Rank   \n",
       "University                                                                  \n",
       "Massachusetts Institute of Technology   United States  North America    1   \n",
       "Stanford University                     United States  North America    2   \n",
       "Harvard University                      United States  North America    3   \n",
       "California Institute of Technology      United States  North America    4   \n",
       "University of Cambridge                United Kingdom         Europe    5   \n",
       "\n",
       "                                                               \\\n",
       "                                      Total staff Inter staff   \n",
       "University                                                      \n",
       "Massachusetts Institute of Technology        2982        1679   \n",
       "Stanford University                          4285        2042   \n",
       "Harvard University                           4350        1311   \n",
       "California Institute of Technology            953         350   \n",
       "University of Cambridge                      5490        2278   \n",
       "\n",
       "                                                                            \\\n",
       "                                      % of inter staff Total stu Inter stu   \n",
       "University                                                                   \n",
       "Massachusetts Institute of Technology             0.56     11067      3717   \n",
       "Stanford University                               0.48     15878      3611   \n",
       "Harvard University                                0.30     22429      5266   \n",
       "California Institute of Technology                0.37      2255       647   \n",
       "University of Cambridge                           0.41     18770      6699   \n",
       "\n",
       "                                                               Times  \\\n",
       "                                      % of inter stu Stu/Staff  Rank   \n",
       "University                                                             \n",
       "Massachusetts Institute of Technology           0.34       3.7     5   \n",
       "Stanford University                             0.23       3.7     3   \n",
       "Harvard University                              0.23       5.2     6   \n",
       "California Institute of Technology              0.29       2.4     3   \n",
       "University of Cambridge                         0.36       3.4     2   \n",
       "\n",
       "                                                                       \\\n",
       "                                      Total staff Total stu Inter stu   \n",
       "University                                                              \n",
       "Massachusetts Institute of Technology        1284     11177      3800   \n",
       "Stanford University                          2112     15845      3485   \n",
       "Harvard University                           2283     20326      5284   \n",
       "California Institute of Technology            339      2209       596   \n",
       "University of Cambridge                      1687     18389      6436   \n",
       "\n",
       "                                                                \n",
       "                                      % of inter stu Stu/Staff  \n",
       "University                                                      \n",
       "Massachusetts Institute of Technology           0.34       8.7  \n",
       "Stanford University                             0.22       7.5  \n",
       "Harvard University                              0.26       8.9  \n",
       "California Institute of Technology              0.27       6.5  \n",
       "University of Cambridge                         0.35      10.9  "
      ]
     },
     "execution_count": 63,
     "metadata": {},
     "output_type": "execute_result"
    }
   ],
   "source": [
    "merge_data.head()"
   ]
  },
  {
   "cell_type": "code",
   "execution_count": 64,
   "metadata": {},
   "outputs": [
    {
     "data": {
      "text/plain": [
       "(160, 16)"
      ]
     },
     "execution_count": 64,
     "metadata": {},
     "output_type": "execute_result"
    }
   ],
   "source": [
    "merge_data.shape"
   ]
  },
  {
   "cell_type": "markdown",
   "metadata": {},
   "source": [
    "## 4. Exploratory analysis"
   ]
  },
  {
   "cell_type": "markdown",
   "metadata": {},
   "source": [
    "### 4.1 Find the correlations"
   ]
  },
  {
   "cell_type": "markdown",
   "metadata": {},
   "source": [
    "In this part, we only consider those **universities that are in both rankings**."
   ]
  },
  {
   "cell_type": "markdown",
   "metadata": {},
   "source": [
    "Get the correlation matrix of each column."
   ]
  },
  {
   "cell_type": "code",
   "execution_count": 65,
   "metadata": {
    "collapsed": true
   },
   "outputs": [],
   "source": [
    "corr_merge = merge_data.corr()"
   ]
  },
  {
   "cell_type": "markdown",
   "metadata": {},
   "source": [
    "#### (a) Between the rank"
   ]
  },
  {
   "cell_type": "markdown",
   "metadata": {},
   "source": [
    "First, it's interesting to see, if there is some correlation between the ranks."
   ]
  },
  {
   "cell_type": "code",
   "execution_count": 66,
   "metadata": {},
   "outputs": [
    {
     "name": "stdout",
     "output_type": "stream",
     "text": [
      "The correlation between 2 rankings is 0.6911.\n"
     ]
    }
   ],
   "source": [
    "corr_rank = corr_merge['QS','Rank']['Times','Rank']\n",
    "print(\"The correlation between 2 rankings is {:.4f}.\".format(corr_rank))"
   ]
  },
  {
   "cell_type": "markdown",
   "metadata": {},
   "source": [
    "The corrleation is *nearly 0.7*, which indicates that the results of QS rankings and Times rankings **have some kind of similarity**. In other words, if you find a university that has high rank in both rankings, then this university is very likely to be a wonderful choice for you."
   ]
  },
  {
   "cell_type": "markdown",
   "metadata": {},
   "source": [
    "#### (b) Between the data"
   ]
  },
  {
   "cell_type": "markdown",
   "metadata": {},
   "source": [
    "We notice that for each university, there ara some same attributes used by 2 rankings, like `Total Students`, `International Students`and `Total Faculty Members/Staff`. However, the values of these attributes are not the same. We want to see if these attributes have some kind of correlations. Generally speking, if it's the same attribute for the same university, then the correlation should be around 1."
   ]
  },
  {
   "cell_type": "code",
   "execution_count": 67,
   "metadata": {},
   "outputs": [
    {
     "name": "stdout",
     "output_type": "stream",
     "text": [
      "The correlation between the number of students of 2 rankings is 0.9474.\n",
      "The correlation between the number of international students of 2 rankings is 0.8913.\n"
     ]
    }
   ],
   "source": [
    "corr_stu = corr_merge['QS','Total stu']['Times','Total stu']\n",
    "corr_inter_stu = corr_merge['QS','Inter stu']['Times','Inter stu']\n",
    "print(\"The correlation between the number of students of 2 rankings is {:.4f}.\".format(corr_stu))\n",
    "print(\"The correlation between the number of international students of 2 rankings is {:.4f}.\".format(corr_inter_stu))"
   ]
  },
  {
   "cell_type": "code",
   "execution_count": 68,
   "metadata": {},
   "outputs": [
    {
     "name": "stdout",
     "output_type": "stream",
     "text": [
      "The correlation between the number of staff of 2 rankings is 0.6916.\n"
     ]
    }
   ],
   "source": [
    "corr_staff = corr_merge['QS','Total staff']['Times','Total staff']\n",
    "print(\"The correlation between the number of staff of 2 rankings is {:.4f}.\".format(corr_staff))"
   ]
  },
  {
   "cell_type": "markdown",
   "metadata": {},
   "source": [
    "As shown above, corrleation of `Total Students`, `International Students` between two rankings are near 1, which indicates that QS/Times rankings may get the data about the number of students in a similar way. \n",
    "\n",
    "On the other hand, the corrleation of `Total Faculty Members/Staff` is not very close to 1. One of the possible reasons is, in this homework, we consider the faculty members the same as the staff, and that may be not true. QS and Times Rankings may have different definition of *Faculty Members* or *Staff*, or maybe the two rankings collect data from different sources."
   ]
  },
  {
   "cell_type": "markdown",
   "metadata": {},
   "source": [
    "#### (c) International dimension"
   ]
  },
  {
   "cell_type": "markdown",
   "metadata": {},
   "source": [
    "Speaking of international dimension of one univerisity, the percentages of international staff and studens always matter. Below, we calculate the correlation between these two attributes with the data from QS Rankings."
   ]
  },
  {
   "cell_type": "code",
   "execution_count": 69,
   "metadata": {},
   "outputs": [
    {
     "name": "stdout",
     "output_type": "stream",
     "text": [
      "The data are from QS rankings:\n",
      "The correlation between number of international staff and students is 0.6613.\n"
     ]
    }
   ],
   "source": [
    "corr_inter_qs = corr_merge['QS','% of inter staff']['QS','% of inter stu']\n",
    "print(\"The data are from QS rankings:\")\n",
    "print(\"The correlation between number of international staff and students is {:.4f}.\".format(corr_inter_qs))"
   ]
  },
  {
   "cell_type": "markdown",
   "metadata": {},
   "source": [
    "The correlation is above 0.66 and it is high. So, if a university has high percentage of international staff, the percentage of international students of this university is likely to be high also."
   ]
  },
  {
   "cell_type": "markdown",
   "metadata": {},
   "source": [
    "### 4.2 Find the difference"
   ]
  },
  {
   "cell_type": "markdown",
   "metadata": {},
   "source": [
    "#### (a) What matters in QS/Times Rankings?"
   ]
  },
  {
   "cell_type": "markdown",
   "metadata": {},
   "source": [
    "We don't know exactly how QS and Times make the Rankings. Above, we have found out that the results of the two rankings have some kind of similarity. Maybe, we could also find the correlation between rank and other attributes to find if there exists some strong dependencies."
   ]
  },
  {
   "cell_type": "code",
   "execution_count": 70,
   "metadata": {},
   "outputs": [
    {
     "data": {
      "text/html": [
       "<div>\n",
       "<style>\n",
       "    .dataframe thead tr:only-child th {\n",
       "        text-align: right;\n",
       "    }\n",
       "\n",
       "    .dataframe thead th {\n",
       "        text-align: left;\n",
       "    }\n",
       "\n",
       "    .dataframe tbody tr th {\n",
       "        vertical-align: top;\n",
       "    }\n",
       "</style>\n",
       "<table border=\"1\" class=\"dataframe\">\n",
       "  <thead>\n",
       "    <tr style=\"text-align: right;\">\n",
       "      <th></th>\n",
       "      <th></th>\n",
       "      <th>Rank</th>\n",
       "      <th>Total staff</th>\n",
       "      <th>Inter staff</th>\n",
       "      <th>% of inter staff</th>\n",
       "      <th>Total stu</th>\n",
       "      <th>Inter stu</th>\n",
       "      <th>% of inter stu</th>\n",
       "      <th>Stu/Staff</th>\n",
       "    </tr>\n",
       "  </thead>\n",
       "  <tbody>\n",
       "    <tr>\n",
       "      <th>QS</th>\n",
       "      <th>Rank</th>\n",
       "      <td>1.0</td>\n",
       "      <td>-0.357825</td>\n",
       "      <td>-0.508623</td>\n",
       "      <td>-0.36101</td>\n",
       "      <td>-0.014387</td>\n",
       "      <td>-0.251548</td>\n",
       "      <td>-0.321335</td>\n",
       "      <td>0.340823</td>\n",
       "    </tr>\n",
       "  </tbody>\n",
       "</table>\n",
       "</div>"
      ],
      "text/plain": [
       "         Rank  Total staff  Inter staff  % of inter staff  Total stu  \\\n",
       "QS Rank   1.0    -0.357825    -0.508623          -0.36101  -0.014387   \n",
       "\n",
       "         Inter stu  % of inter stu  Stu/Staff  \n",
       "QS Rank  -0.251548       -0.321335   0.340823  "
      ]
     },
     "execution_count": 70,
     "metadata": {},
     "output_type": "execute_result"
    }
   ],
   "source": [
    "corr_qs = pd.DataFrame(corr_merge['QS','Rank']['QS'])\n",
    "corr_qs.T"
   ]
  },
  {
   "cell_type": "markdown",
   "metadata": {},
   "source": [
    "+ Almost attributes, except `Stu/Staff` in the DataFrames have negative correlation with `Rank`. Note that high rank means small number in the `Rank` column, so negative correlation actually indicates some dependencies. As for `Stu/Staff`, the smaller the ratio is, the smaller the number in rank is, which also sounds reasonable.\n",
    "+ One interesting fact is the correlation between `Rank` and `Inter staff` is more negative than that for `% of inter staff`. In other words, the QS rankings consider more about the number of international staff one university has, other than the percentage of international staff.\n",
    "+ As for `Total stu`, the correlation is close to 0. In my opinion, it cannot indicate that the rank and the number of students have weak dependency. Because when we calculate correlation, we just use the values directly. But, we probably need to somehow converse the number of students ,may not linearly, to some other values for total rank calculation."
   ]
  },
  {
   "cell_type": "code",
   "execution_count": 71,
   "metadata": {},
   "outputs": [
    {
     "data": {
      "text/html": [
       "<div>\n",
       "<style>\n",
       "    .dataframe thead tr:only-child th {\n",
       "        text-align: right;\n",
       "    }\n",
       "\n",
       "    .dataframe thead th {\n",
       "        text-align: left;\n",
       "    }\n",
       "\n",
       "    .dataframe tbody tr th {\n",
       "        vertical-align: top;\n",
       "    }\n",
       "</style>\n",
       "<table border=\"1\" class=\"dataframe\">\n",
       "  <thead>\n",
       "    <tr style=\"text-align: right;\">\n",
       "      <th></th>\n",
       "      <th></th>\n",
       "      <th>Rank</th>\n",
       "      <th>Total staff</th>\n",
       "      <th>Total stu</th>\n",
       "      <th>Inter stu</th>\n",
       "      <th>% of inter stu</th>\n",
       "      <th>Stu/Staff</th>\n",
       "    </tr>\n",
       "  </thead>\n",
       "  <tbody>\n",
       "    <tr>\n",
       "      <th>Times</th>\n",
       "      <th>Rank</th>\n",
       "      <td>1.0</td>\n",
       "      <td>-0.226466</td>\n",
       "      <td>-0.151882</td>\n",
       "      <td>-0.282192</td>\n",
       "      <td>-0.198244</td>\n",
       "      <td>0.05386</td>\n",
       "    </tr>\n",
       "  </tbody>\n",
       "</table>\n",
       "</div>"
      ],
      "text/plain": [
       "            Rank  Total staff  Total stu  Inter stu  % of inter stu  Stu/Staff\n",
       "Times Rank   1.0    -0.226466  -0.151882  -0.282192       -0.198244    0.05386"
      ]
     },
     "execution_count": 71,
     "metadata": {},
     "output_type": "execute_result"
    }
   ],
   "source": [
    "corr_times = pd.DataFrame(corr_merge['Times','Rank']['Times'])\n",
    "corr_times.T"
   ]
  },
  {
   "cell_type": "markdown",
   "metadata": {},
   "source": [
    "+ For Times Rankings, things are roughly the same.\n",
    "+ One difference is the correlation between `Rank` and `Stu/Staff` is not as high as that in QS Rankings, which showes that Times may put less importance on student-faculty ratio."
   ]
  },
  {
   "cell_type": "markdown",
   "metadata": {},
   "source": [
    "#### (b) Is there any \"bias\" in QS / Times Rankings? "
   ]
  },
  {
   "cell_type": "markdown",
   "metadata": {},
   "source": [
    "In order to compare 2 rankings, we use pie charts to show region distributions of Top 10, Top 20, Top 50, Top 100 and Top 200 in the QS/Times rankings. From the region distributions, we want to see if there is any **\"region-perference\"** inside QS/Times rankings."
   ]
  },
  {
   "cell_type": "markdown",
   "metadata": {},
   "source": [
    "In this part, we use **data from two rankings DataFrames, instead of the merged DataFrame** because we want to see if there is some perference so we want to know not only the similarity but also the difference between 2 rankings."
   ]
  },
  {
   "cell_type": "markdown",
   "metadata": {},
   "source": [
    "Get data from 2 DataFrames we use in Question 1 and 2. Remember to map the country to region for the Times rankings using the map we create."
   ]
  },
  {
   "cell_type": "code",
   "execution_count": 72,
   "metadata": {
    "collapsed": true
   },
   "outputs": [],
   "source": [
    "qs_rank = qs_data[['QS rank','Country', 'Region']]\n",
    "times_rank = times_data[['Times rank','Country']].merge(df_country_region,left_on='Country',right_index=True,how='left')"
   ]
  },
  {
   "cell_type": "code",
   "execution_count": 73,
   "metadata": {},
   "outputs": [
    {
     "data": {
      "image/png": "[encoded data removed]",
      "text/plain": [
       "<matplotlib.figure.Figure at 0x10c09b128>"
      ]
     },
     "metadata": {},
     "output_type": "display_data"
    }
   ],
   "source": [
    "plt.figure(figsize=(10,5))\n",
    "plt.subplot(1,2,1)\n",
    "qs_top10_count = qs_rank[qs_rank['QS rank'] <= 10].groupby('Region').count()\n",
    "qs_top10_count['QS rank'].plot(kind='pie',autopct='%.1f%%',subplots=True,legend=False,\n",
    "                               title='Region Distribution of Top 10')\n",
    "plt.xlabel('QS Rankings')\n",
    "plt.ylabel('')\n",
    "\n",
    "plt.subplot(1,2,2)\n",
    "times_top10_count = times_rank[times_rank['Times rank'] <= 10].groupby('Region').count()\n",
    "times_top10_count['Times rank'].plot(kind='pie',autopct='%.1f%%',subplots=True,legend=False)\n",
    "plt.xlabel('Times Rankings')\n",
    "plt.ylabel('')\n",
    "\n",
    "plt.show()"
   ]
  },
  {
   "cell_type": "markdown",
   "metadata": {},
   "source": [
    "- In Top 10, For both two rankings, North America and Europe domain the TOP 10 universities. In QS, it's a tie for North America and Europe. However, in Times, North America takes over nearly two thirds."
   ]
  },
  {
   "cell_type": "code",
   "execution_count": 74,
   "metadata": {},
   "outputs": [
    {
     "data": {
      "image/png": "[encoded data removed]",
      "text/plain": [
       "<matplotlib.figure.Figure at 0x10b8bfd30>"
      ]
     },
     "metadata": {},
     "output_type": "display_data"
    }
   ],
   "source": [
    "plt.figure(figsize=(10,5))\n",
    "plt.subplot(1,2,1)\n",
    "qs_top20_count = qs_rank[qs_rank['QS rank'] <= 20].groupby('Region').count()\n",
    "qs_top20_count['QS rank'].plot(kind='pie',autopct='%.1f%%',subplots=True,legend=False,\n",
    "                              title='Region Distribution of Top 20')\n",
    "plt.xlabel('QS Rankings')\n",
    "plt.ylabel('')\n",
    "\n",
    "plt.subplot(1,2,2)\n",
    "times_top20_count = times_rank[times_rank['Times rank'] <= 20].groupby('Region').count()\n",
    "times_top20_count['Times rank'].plot(kind='pie',autopct='%.1f%%',subplots=True,legend=False)\n",
    "plt.xlabel('Times Rankings')\n",
    "plt.ylabel('')\n",
    "\n",
    "plt.show()"
   ]
  },
  {
   "cell_type": "markdown",
   "metadata": {},
   "source": [
    "- In Top 20, for Times Rankings, it's also the same as above with, to be specific, 75% from North America. But for QS Rankings, there is an increasing in Asia and Oceania."
   ]
  },
  {
   "cell_type": "code",
   "execution_count": 75,
   "metadata": {},
   "outputs": [
    {
     "data": {
      "image/png": "[encoded data removed]",
      "text/plain": [
       "<matplotlib.figure.Figure at 0x10b7e24e0>"
      ]
     },
     "metadata": {},
     "output_type": "display_data"
    }
   ],
   "source": [
    "plt.figure(figsize=(10,5))\n",
    "plt.subplot(1,2,1)\n",
    "qs_top50_count = qs_rank[qs_rank['QS rank'] <= 50].groupby('Region').count()\n",
    "qs_top50_count['QS rank'].plot(kind='pie',autopct='%.1f%%',subplots=True,legend=False,\n",
    "                              title='Region Distribution of Top 50')\n",
    "plt.xlabel('QS Rankings')\n",
    "plt.ylabel('')\n",
    "\n",
    "plt.subplot(1,2,2)\n",
    "times_top50_count = times_rank[times_rank['Times rank'] <= 50].groupby('Region').count()\n",
    "times_top50_count['Times rank'].plot(kind='pie',autopct='%.1f%%',subplots=True,legend=False)\n",
    "plt.xlabel('Times Rankings')\n",
    "plt.ylabel('')\n",
    "\n",
    "plt.show()"
   ]
  },
  {
   "cell_type": "markdown",
   "metadata": {},
   "source": [
    "- In Top 50, there are more univerities from Asia and Oceania for both rankings. And in QS, Asia makes more than 26% and is even a little more than Europe."
   ]
  },
  {
   "cell_type": "code",
   "execution_count": 76,
   "metadata": {},
   "outputs": [
    {
     "data": {
      "image/png": "[encoded data removed]",
      "text/plain": [
       "<matplotlib.figure.Figure at 0x10b8f59e8>"
      ]
     },
     "metadata": {},
     "output_type": "display_data"
    }
   ],
   "source": [
    "plt.figure(figsize=(10,5))\n",
    "plt.subplot(1,2,1)\n",
    "qs_top100_count = qs_rank[qs_rank['QS rank'] <= 100].groupby('Region').count()\n",
    "qs_top100_count['QS rank'].plot(kind='pie',autopct='%.1f%%',subplots=True,legend=False,\n",
    "                              title='Region Distribution of Top 100')\n",
    "plt.xlabel('QS Rankings')\n",
    "plt.ylabel('')\n",
    "\n",
    "plt.subplot(1,2,2)\n",
    "times_top100_count = times_rank[times_rank['Times rank'] <= 100].groupby('Region').count()\n",
    "times_top100_count['Times rank'].plot(kind='pie',autopct='%.1f%%',subplots=True,legend=False)\n",
    "plt.xlabel('Times Rankings')\n",
    "plt.ylabel('')\n",
    "\n",
    "plt.show()"
   ]
  },
  {
   "cell_type": "markdown",
   "metadata": {},
   "source": [
    "- In Top 100, the two rankings have more similar distribution than above. And there is a steady growth for Europe in both rankings. We notice Latin America for the first time in QS Rankings."
   ]
  },
  {
   "cell_type": "code",
   "execution_count": 77,
   "metadata": {},
   "outputs": [
    {
     "data": {
      "image/png": "[encoded data removed]",
      "text/plain": [
       "<matplotlib.figure.Figure at 0x10403f9e8>"
      ]
     },
     "metadata": {},
     "output_type": "display_data"
    }
   ],
   "source": [
    "plt.figure(figsize=(10,5))\n",
    "plt.subplot(1,2,1)\n",
    "qs_top200_count = qs_rank.groupby('Region').count()\n",
    "qs_top200_count['QS rank'].plot(kind='pie',autopct='%.1f%%',subplots=True,legend=False,\n",
    "                              title='Region Distribution of Top 200')\n",
    "plt.xlabel('QS Rankings')\n",
    "plt.ylabel('')\n",
    "\n",
    "plt.subplot(1,2,2)\n",
    "times_top200_count = times_rank.groupby('Region').count()\n",
    "times_top200_count['Times rank'].plot(kind='pie',autopct='%.1f%%',subplots=True,legend=False)\n",
    "plt.xlabel('Times Rankings')\n",
    "plt.ylabel('')\n",
    "\n",
    "plt.show()"
   ]
  },
  {
   "cell_type": "markdown",
   "metadata": {},
   "source": [
    "- In Top 200, nearly half are from Europe for both rankings. And Africa and Oceania have similar \"performance\" in both rankings, too. Asia is better in QS Rankings."
   ]
  },
  {
   "cell_type": "markdown",
   "metadata": {},
   "source": [
    "**To sum up:**\n",
    "\n",
    "- There exists some 'region-preference' inside QS/Times Rankings. \n",
    "- For the \"Top's Top\"(maybe Top 20) universities, Times prefers North America most and then Europe. On the hand, QS gives high score for Aisa and Oceania also.\n",
    "- Only QS puts universities from Latin America into Top 200.\n",
    "- Both rankings give Africa a chance."
   ]
  },
  {
   "cell_type": "markdown",
   "metadata": {},
   "source": [
    "## 5. Find the best university"
   ]
  },
  {
   "cell_type": "markdown",
   "metadata": {},
   "source": [
    "### Method 1\n",
    "\n",
    "The first simple method to find the best university is to calculate the average rank of these two rankings. \n",
    "\n",
    "First of all, we assumed that one university can be considered as the best one if and only if it ranks top 10 in both rankings. Thus, we collected all the possible universities which is top 10 in both rankings and put them in a temporary dataframe with their ranks as columns. Then, we calculated the average rank of these universites and sorted the dataframes by the average rank. \n",
    "\n",
    "From the result below, we found that **the best university is Standford University** since its average rank is the smallest."
   ]
  },
  {
   "cell_type": "code",
   "execution_count": 78,
   "metadata": {},
   "outputs": [
    {
     "data": {
      "text/html": [
       "<div>\n",
       "<style>\n",
       "    .dataframe thead tr:only-child th {\n",
       "        text-align: right;\n",
       "    }\n",
       "\n",
       "    .dataframe thead th {\n",
       "        text-align: left;\n",
       "    }\n",
       "\n",
       "    .dataframe tbody tr th {\n",
       "        vertical-align: top;\n",
       "    }\n",
       "</style>\n",
       "<table border=\"1\" class=\"dataframe\">\n",
       "  <thead>\n",
       "    <tr style=\"text-align: right;\">\n",
       "      <th></th>\n",
       "      <th>Avg rank</th>\n",
       "    </tr>\n",
       "    <tr>\n",
       "      <th>University</th>\n",
       "      <th></th>\n",
       "    </tr>\n",
       "  </thead>\n",
       "  <tbody>\n",
       "    <tr>\n",
       "      <th>Stanford University</th>\n",
       "      <td>2.5</td>\n",
       "    </tr>\n",
       "    <tr>\n",
       "      <th>Massachusetts Institute of Technology</th>\n",
       "      <td>3.0</td>\n",
       "    </tr>\n",
       "    <tr>\n",
       "      <th>California Institute of Technology</th>\n",
       "      <td>3.5</td>\n",
       "    </tr>\n",
       "    <tr>\n",
       "      <th>University of Cambridge</th>\n",
       "      <td>3.5</td>\n",
       "    </tr>\n",
       "    <tr>\n",
       "      <th>University of Oxford</th>\n",
       "      <td>3.5</td>\n",
       "    </tr>\n",
       "    <tr>\n",
       "      <th>Harvard University</th>\n",
       "      <td>4.5</td>\n",
       "    </tr>\n",
       "    <tr>\n",
       "      <th>Imperial College London</th>\n",
       "      <td>8.0</td>\n",
       "    </tr>\n",
       "    <tr>\n",
       "      <th>University of Chicago</th>\n",
       "      <td>9.0</td>\n",
       "    </tr>\n",
       "    <tr>\n",
       "      <th>ETH Zurich – Swiss Federal Institute of Technology Zurich</th>\n",
       "      <td>10.0</td>\n",
       "    </tr>\n",
       "  </tbody>\n",
       "</table>\n",
       "</div>"
      ],
      "text/plain": [
       "                                                    Avg rank\n",
       "University                                                  \n",
       "Stanford University                                      2.5\n",
       "Massachusetts Institute of Technology                    3.0\n",
       "California Institute of Technology                       3.5\n",
       "University of Cambridge                                  3.5\n",
       "University of Oxford                                     3.5\n",
       "Harvard University                                       4.5\n",
       "Imperial College London                                  8.0\n",
       "University of Chicago                                    9.0\n",
       "ETH Zurich – Swiss Federal Institute of Technol...      10.0"
      ]
     },
     "execution_count": 78,
     "metadata": {},
     "output_type": "execute_result"
    }
   ],
   "source": [
    "temp = merge_data[(merge_data['QS','Rank'] <= 10) & (merge_data['Times','Rank'] <= 10)].filter(items = [('QS','Rank'),('Times','Rank')])\n",
    "temp = pd.DataFrame((temp['QS','Rank'] + temp['Times','Rank'])/2)\n",
    "temp.columns = ['Avg rank']\n",
    "temp.sort_values('Avg rank',ascending = True)"
   ]
  },
  {
   "cell_type": "markdown",
   "metadata": {},
   "source": [
    "### Method 2\n",
    "\n",
    "The second method is more complicated since we added a weight for each attribute in order to calculate a new rank for each university. As before, we assumed that **one university can be considered as the best one if and only if it ranks top 10 in both rankings**. "
   ]
  },
  {
   "cell_type": "markdown",
   "metadata": {},
   "source": [
    "We chose 4 attribute which presented in both rankings: `Rank`, `Total Staff`, `Total Students` and `International Students` and the weight is distributed as follow: **0.35, 0.05, 0.05, 0.05** so that the sum of weights of these 8 attributes equals to 1."
   ]
  },
  {
   "cell_type": "markdown",
   "metadata": {},
   "source": [
    "$Score = Rank_{QS} * 0.35 + Faculty_{QS} * 0.05 + Student_{QS} * 0.05 + InterStud_{QS} * 0.05 + Rank_{Times} * 0.35 + Faculty_{Times} * 0.05 + Student_{Times} * 0.05 + InterStud_{Times} * 0.05$\n",
    "\n",
    "\n",
    "Higher the rank is, smaller the number is. So:\n",
    "$$Rank = 11-Rank_{Original}$$\n",
    "\n",
    "\n",
    "And also, we normalize all numbers for faculty members and students. For example:\n",
    "$$Faculty = \\frac{Faculty_{Original}}{Faculty_{Max}} * 10$$\n",
    "\n",
    "\n",
    "So, the *Score* is between 1-10."
   ]
  },
  {
   "cell_type": "markdown",
   "metadata": {},
   "source": [
    "In this way, **the best university is also Stanford University**."
   ]
  },
  {
   "cell_type": "code",
   "execution_count": 79,
   "metadata": {
    "collapsed": true
   },
   "outputs": [],
   "source": [
    "columns = ['Rank','Total staff','Total stu','Inter stu']"
   ]
  },
  {
   "cell_type": "code",
   "execution_count": 80,
   "metadata": {
    "collapsed": true
   },
   "outputs": [],
   "source": [
    "score_ratio = [0.35,0.05,0.05,0.05]"
   ]
  },
  {
   "cell_type": "markdown",
   "metadata": {},
   "source": [
    "In this part, we calculate the score of each attribute for the top 10 **QS** universities."
   ]
  },
  {
   "cell_type": "code",
   "execution_count": 81,
   "metadata": {},
   "outputs": [
    {
     "data": {
      "text/html": [
       "<div>\n",
       "<style>\n",
       "    .dataframe thead tr:only-child th {\n",
       "        text-align: right;\n",
       "    }\n",
       "\n",
       "    .dataframe thead th {\n",
       "        text-align: left;\n",
       "    }\n",
       "\n",
       "    .dataframe tbody tr th {\n",
       "        vertical-align: top;\n",
       "    }\n",
       "</style>\n",
       "<table border=\"1\" class=\"dataframe\">\n",
       "  <thead>\n",
       "    <tr style=\"text-align: right;\">\n",
       "      <th></th>\n",
       "      <th>Rank</th>\n",
       "      <th>Total staff</th>\n",
       "      <th>Total stu</th>\n",
       "      <th>Inter stu</th>\n",
       "    </tr>\n",
       "    <tr>\n",
       "      <th>University</th>\n",
       "      <th></th>\n",
       "      <th></th>\n",
       "      <th></th>\n",
       "      <th></th>\n",
       "    </tr>\n",
       "  </thead>\n",
       "  <tbody>\n",
       "    <tr>\n",
       "      <th>Massachusetts Institute of Technology</th>\n",
       "      <td>3.50</td>\n",
       "      <td>0.220889</td>\n",
       "      <td>0.178041</td>\n",
       "      <td>0.125118</td>\n",
       "    </tr>\n",
       "    <tr>\n",
       "      <th>Stanford University</th>\n",
       "      <td>3.15</td>\n",
       "      <td>0.317407</td>\n",
       "      <td>0.255438</td>\n",
       "      <td>0.121550</td>\n",
       "    </tr>\n",
       "    <tr>\n",
       "      <th>Harvard University</th>\n",
       "      <td>2.80</td>\n",
       "      <td>0.322222</td>\n",
       "      <td>0.360827</td>\n",
       "      <td>0.177259</td>\n",
       "    </tr>\n",
       "    <tr>\n",
       "      <th>California Institute of Technology</th>\n",
       "      <td>2.45</td>\n",
       "      <td>0.070593</td>\n",
       "      <td>0.036277</td>\n",
       "      <td>0.021779</td>\n",
       "    </tr>\n",
       "    <tr>\n",
       "      <th>University of Cambridge</th>\n",
       "      <td>2.10</td>\n",
       "      <td>0.406667</td>\n",
       "      <td>0.301963</td>\n",
       "      <td>0.225495</td>\n",
       "    </tr>\n",
       "    <tr>\n",
       "      <th>University of Oxford</th>\n",
       "      <td>1.75</td>\n",
       "      <td>0.500000</td>\n",
       "      <td>0.317246</td>\n",
       "      <td>0.247509</td>\n",
       "    </tr>\n",
       "    <tr>\n",
       "      <th>University College London</th>\n",
       "      <td>1.40</td>\n",
       "      <td>0.470000</td>\n",
       "      <td>0.500000</td>\n",
       "      <td>0.500000</td>\n",
       "    </tr>\n",
       "    <tr>\n",
       "      <th>Imperial College London</th>\n",
       "      <td>1.05</td>\n",
       "      <td>0.291111</td>\n",
       "      <td>0.258848</td>\n",
       "      <td>0.294399</td>\n",
       "    </tr>\n",
       "    <tr>\n",
       "      <th>University of Chicago</th>\n",
       "      <td>0.70</td>\n",
       "      <td>0.181407</td>\n",
       "      <td>0.218098</td>\n",
       "      <td>0.113740</td>\n",
       "    </tr>\n",
       "    <tr>\n",
       "      <th>ETH Zurich – Swiss Federal Institute of Technology Zurich</th>\n",
       "      <td>0.35</td>\n",
       "      <td>0.183481</td>\n",
       "      <td>0.318774</td>\n",
       "      <td>0.254578</td>\n",
       "    </tr>\n",
       "  </tbody>\n",
       "</table>\n",
       "</div>"
      ],
      "text/plain": [
       "                                                    Rank  Total staff  \\\n",
       "University                                                              \n",
       "Massachusetts Institute of Technology               3.50     0.220889   \n",
       "Stanford University                                 3.15     0.317407   \n",
       "Harvard University                                  2.80     0.322222   \n",
       "California Institute of Technology                  2.45     0.070593   \n",
       "University of Cambridge                             2.10     0.406667   \n",
       "University of Oxford                                1.75     0.500000   \n",
       "University College London                           1.40     0.470000   \n",
       "Imperial College London                             1.05     0.291111   \n",
       "University of Chicago                               0.70     0.181407   \n",
       "ETH Zurich – Swiss Federal Institute of Technol...  0.35     0.183481   \n",
       "\n",
       "                                                    Total stu  Inter stu  \n",
       "University                                                                \n",
       "Massachusetts Institute of Technology                0.178041   0.125118  \n",
       "Stanford University                                  0.255438   0.121550  \n",
       "Harvard University                                   0.360827   0.177259  \n",
       "California Institute of Technology                   0.036277   0.021779  \n",
       "University of Cambridge                              0.301963   0.225495  \n",
       "University of Oxford                                 0.317246   0.247509  \n",
       "University College London                            0.500000   0.500000  \n",
       "Imperial College London                              0.258848   0.294399  \n",
       "University of Chicago                                0.218098   0.113740  \n",
       "ETH Zurich – Swiss Federal Institute of Technol...   0.318774   0.254578  "
      ]
     },
     "execution_count": 81,
     "metadata": {},
     "output_type": "execute_result"
    }
   ],
   "source": [
    "qs_10 = merge_data[merge_data['QS','Rank'] <= 10]['QS']\n",
    "df_qs = pd.DataFrame()\n",
    "df_qs['Rank']        = (11 - qs_10['Rank']) * 0.35\n",
    "df_qs['Total staff'] = qs_10['Total staff']/qs_10['Total staff'].max()*10 * 0.05\n",
    "df_qs['Total stu']   = qs_10['Total stu']/qs_10['Total stu'].max()*10     * 0.05\n",
    "df_qs['Inter stu']   = qs_10['Inter stu']/qs_10['Inter stu'].max()*10     * 0.05\n",
    "df_qs"
   ]
  },
  {
   "cell_type": "markdown",
   "metadata": {},
   "source": [
    "In this part, we calculate the score of each attribute for the top 10 **Times** universities (which actually are 11 universities beacause ETH and UPenn tie for the 10th)."
   ]
  },
  {
   "cell_type": "code",
   "execution_count": 82,
   "metadata": {},
   "outputs": [
    {
     "data": {
      "text/html": [
       "<div>\n",
       "<style>\n",
       "    .dataframe thead tr:only-child th {\n",
       "        text-align: right;\n",
       "    }\n",
       "\n",
       "    .dataframe thead th {\n",
       "        text-align: left;\n",
       "    }\n",
       "\n",
       "    .dataframe tbody tr th {\n",
       "        vertical-align: top;\n",
       "    }\n",
       "</style>\n",
       "<table border=\"1\" class=\"dataframe\">\n",
       "  <thead>\n",
       "    <tr style=\"text-align: right;\">\n",
       "      <th></th>\n",
       "      <th>Rank</th>\n",
       "      <th>Total staff</th>\n",
       "      <th>Total stu</th>\n",
       "      <th>Inter stu</th>\n",
       "    </tr>\n",
       "    <tr>\n",
       "      <th>University</th>\n",
       "      <th></th>\n",
       "      <th></th>\n",
       "      <th></th>\n",
       "      <th></th>\n",
       "    </tr>\n",
       "  </thead>\n",
       "  <tbody>\n",
       "    <tr>\n",
       "      <th>Massachusetts Institute of Technology</th>\n",
       "      <td>2.10</td>\n",
       "      <td>0.204981</td>\n",
       "      <td>0.273825</td>\n",
       "      <td>0.217865</td>\n",
       "    </tr>\n",
       "    <tr>\n",
       "      <th>Stanford University</th>\n",
       "      <td>2.80</td>\n",
       "      <td>0.337165</td>\n",
       "      <td>0.388187</td>\n",
       "      <td>0.199805</td>\n",
       "    </tr>\n",
       "    <tr>\n",
       "      <th>Harvard University</th>\n",
       "      <td>1.75</td>\n",
       "      <td>0.364464</td>\n",
       "      <td>0.497967</td>\n",
       "      <td>0.302947</td>\n",
       "    </tr>\n",
       "    <tr>\n",
       "      <th>California Institute of Technology</th>\n",
       "      <td>2.80</td>\n",
       "      <td>0.054119</td>\n",
       "      <td>0.054118</td>\n",
       "      <td>0.034170</td>\n",
       "    </tr>\n",
       "    <tr>\n",
       "      <th>University of Cambridge</th>\n",
       "      <td>3.15</td>\n",
       "      <td>0.269317</td>\n",
       "      <td>0.450512</td>\n",
       "      <td>0.368994</td>\n",
       "    </tr>\n",
       "    <tr>\n",
       "      <th>University of Oxford</th>\n",
       "      <td>3.50</td>\n",
       "      <td>0.290868</td>\n",
       "      <td>0.500000</td>\n",
       "      <td>0.444616</td>\n",
       "    </tr>\n",
       "    <tr>\n",
       "      <th>Imperial College London</th>\n",
       "      <td>1.05</td>\n",
       "      <td>0.221903</td>\n",
       "      <td>0.388481</td>\n",
       "      <td>0.500000</td>\n",
       "    </tr>\n",
       "    <tr>\n",
       "      <th>University of Chicago</th>\n",
       "      <td>0.70</td>\n",
       "      <td>0.348180</td>\n",
       "      <td>0.331349</td>\n",
       "      <td>0.193842</td>\n",
       "    </tr>\n",
       "    <tr>\n",
       "      <th>ETH Zurich – Swiss Federal Institute of Technology Zurich</th>\n",
       "      <td>0.35</td>\n",
       "      <td>0.210249</td>\n",
       "      <td>0.471189</td>\n",
       "      <td>0.418989</td>\n",
       "    </tr>\n",
       "    <tr>\n",
       "      <th>Princeton University</th>\n",
       "      <td>1.40</td>\n",
       "      <td>0.152937</td>\n",
       "      <td>0.194890</td>\n",
       "      <td>0.109448</td>\n",
       "    </tr>\n",
       "    <tr>\n",
       "      <th>University of Pennsylvania</th>\n",
       "      <td>0.35</td>\n",
       "      <td>0.500000</td>\n",
       "      <td>0.498824</td>\n",
       "      <td>0.233459</td>\n",
       "    </tr>\n",
       "  </tbody>\n",
       "</table>\n",
       "</div>"
      ],
      "text/plain": [
       "                                                    Rank  Total staff  \\\n",
       "University                                                              \n",
       "Massachusetts Institute of Technology               2.10     0.204981   \n",
       "Stanford University                                 2.80     0.337165   \n",
       "Harvard University                                  1.75     0.364464   \n",
       "California Institute of Technology                  2.80     0.054119   \n",
       "University of Cambridge                             3.15     0.269317   \n",
       "University of Oxford                                3.50     0.290868   \n",
       "Imperial College London                             1.05     0.221903   \n",
       "University of Chicago                               0.70     0.348180   \n",
       "ETH Zurich – Swiss Federal Institute of Technol...  0.35     0.210249   \n",
       "Princeton University                                1.40     0.152937   \n",
       "University of Pennsylvania                          0.35     0.500000   \n",
       "\n",
       "                                                    Total stu  Inter stu  \n",
       "University                                                                \n",
       "Massachusetts Institute of Technology                0.273825   0.217865  \n",
       "Stanford University                                  0.388187   0.199805  \n",
       "Harvard University                                   0.497967   0.302947  \n",
       "California Institute of Technology                   0.054118   0.034170  \n",
       "University of Cambridge                              0.450512   0.368994  \n",
       "University of Oxford                                 0.500000   0.444616  \n",
       "Imperial College London                              0.388481   0.500000  \n",
       "University of Chicago                                0.331349   0.193842  \n",
       "ETH Zurich – Swiss Federal Institute of Technol...   0.471189   0.418989  \n",
       "Princeton University                                 0.194890   0.109448  \n",
       "University of Pennsylvania                           0.498824   0.233459  "
      ]
     },
     "execution_count": 82,
     "metadata": {},
     "output_type": "execute_result"
    }
   ],
   "source": [
    "times_10 = merge_data[merge_data['Times','Rank'] <= 10]['Times']\n",
    "df_times = pd.DataFrame()\n",
    "df_times['Rank']        = (11 - times_10['Rank']) * 0.35\n",
    "df_times['Total staff'] = times_10['Total staff']/times_10['Total staff'].max()*10 * 0.05\n",
    "df_times['Total stu']   = times_10['Total stu']/times_10['Total stu'].max()*10     * 0.05\n",
    "df_times['Inter stu']   = times_10['Inter stu']/times_10['Inter stu'].max()*10     * 0.05\n",
    "df_times"
   ]
  },
  {
   "cell_type": "markdown",
   "metadata": {},
   "source": [
    "Next, we **add all score together** by merging, and sort the new dataframe."
   ]
  },
  {
   "cell_type": "code",
   "execution_count": 83,
   "metadata": {
    "collapsed": true
   },
   "outputs": [],
   "source": [
    "df_mix = pd.merge(df_qs, df_times, left_index=True, right_index=True, how='inner')"
   ]
  },
  {
   "cell_type": "code",
   "execution_count": 84,
   "metadata": {
    "collapsed": true
   },
   "outputs": [],
   "source": [
    "df_mix['Score'] = df_mix.apply(lambda x: x.sum(), axis=1)"
   ]
  },
  {
   "cell_type": "code",
   "execution_count": 85,
   "metadata": {},
   "outputs": [
    {
     "data": {
      "text/html": [
       "<div>\n",
       "<style>\n",
       "    .dataframe thead tr:only-child th {\n",
       "        text-align: right;\n",
       "    }\n",
       "\n",
       "    .dataframe thead th {\n",
       "        text-align: left;\n",
       "    }\n",
       "\n",
       "    .dataframe tbody tr th {\n",
       "        vertical-align: top;\n",
       "    }\n",
       "</style>\n",
       "<table border=\"1\" class=\"dataframe\">\n",
       "  <thead>\n",
       "    <tr style=\"text-align: right;\">\n",
       "      <th></th>\n",
       "      <th>Score</th>\n",
       "    </tr>\n",
       "    <tr>\n",
       "      <th>University</th>\n",
       "      <th></th>\n",
       "    </tr>\n",
       "  </thead>\n",
       "  <tbody>\n",
       "    <tr>\n",
       "      <th>Stanford University</th>\n",
       "      <td>7.569551</td>\n",
       "    </tr>\n",
       "    <tr>\n",
       "      <th>University of Oxford</th>\n",
       "      <td>7.550240</td>\n",
       "    </tr>\n",
       "    <tr>\n",
       "      <th>University of Cambridge</th>\n",
       "      <td>7.272947</td>\n",
       "    </tr>\n",
       "    <tr>\n",
       "      <th>Massachusetts Institute of Technology</th>\n",
       "      <td>6.820718</td>\n",
       "    </tr>\n",
       "    <tr>\n",
       "      <th>Harvard University</th>\n",
       "      <td>6.575685</td>\n",
       "    </tr>\n",
       "    <tr>\n",
       "      <th>California Institute of Technology</th>\n",
       "      <td>5.521056</td>\n",
       "    </tr>\n",
       "    <tr>\n",
       "      <th>Imperial College London</th>\n",
       "      <td>4.054742</td>\n",
       "    </tr>\n",
       "    <tr>\n",
       "      <th>University of Chicago</th>\n",
       "      <td>2.786618</td>\n",
       "    </tr>\n",
       "    <tr>\n",
       "      <th>ETH Zurich – Swiss Federal Institute of Technology Zurich</th>\n",
       "      <td>2.557260</td>\n",
       "    </tr>\n",
       "  </tbody>\n",
       "</table>\n",
       "</div>"
      ],
      "text/plain": [
       "                                                       Score\n",
       "University                                                  \n",
       "Stanford University                                 7.569551\n",
       "University of Oxford                                7.550240\n",
       "University of Cambridge                             7.272947\n",
       "Massachusetts Institute of Technology               6.820718\n",
       "Harvard University                                  6.575685\n",
       "California Institute of Technology                  5.521056\n",
       "Imperial College London                             4.054742\n",
       "University of Chicago                               2.786618\n",
       "ETH Zurich – Swiss Federal Institute of Technol...  2.557260"
      ]
     },
     "execution_count": 85,
     "metadata": {},
     "output_type": "execute_result"
    }
   ],
   "source": [
    "df_mix.sort_values('Score',ascending = False).filter(items=['Score'])"
   ]
  },
  {
   "cell_type": "markdown",
   "metadata": {},
   "source": [
    "We can see **Stanford University** tops the list."
   ]
  }
 ],
 "metadata": {
  "kernelspec": {
   "display_name": "Python 3",
   "language": "python",
   "name": "python3"
  },
  "language_info": {
   "codemirror_mode": {
    "name": "ipython",
    "version": 3
   },
   "file_extension": ".py",
   "mimetype": "text/x-python",
   "name": "python",
   "nbconvert_exporter": "python",
   "pygments_lexer": "ipython3",
   "version": "3.6.1"
  }
 },
 "nbformat": 4,
 "nbformat_minor": 2
}
