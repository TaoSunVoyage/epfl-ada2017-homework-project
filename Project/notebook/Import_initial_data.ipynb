{
 "cells": [
  {
   "cell_type": "markdown",
   "metadata": {},
   "source": [
    "# Import and Preprocess Initial Data\n",
    "\n",
    "#### Team members: Shengzhao LEI - Tao SUN -  Xiangzhe MENG\n",
    "\n",
    "With this notebook, we import all the initial datasets, drop all the duplicates rows and save the new dataframes as pickle files in order to reduce the data loading time.\n",
    "\n",
    "For this project, we choose 4 sub-datasets from the [amazon review dataset](http://jmcauley.ucsd.edu/data/amazon/links.html):\n",
    "\n",
    "1. Kindle store metadata\n",
    "2. Kindle store 5-core reviews\n",
    "3. Books metadata\n",
    "4. Books 5-core reviews"
   ]
  },
  {
   "cell_type": "code",
   "execution_count": 3,
   "metadata": {
    "collapsed": true
   },
   "outputs": [],
   "source": [
    "%matplotlib inline\n",
    "import pandas as pd\n",
    "import gzip\n",
    "import json\n",
    "import numpy as np\n",
    "import matplotlib.pyplot as plt"
   ]
  },
  {
   "cell_type": "markdown",
   "metadata": {},
   "source": [
    "### 1- Functions for loading data\n",
    "\n",
    "We use the two functions below to import data from **gz** extention file. These two functions are provided in the website of our Amazon dataset."
   ]
  },
  {
   "cell_type": "code",
   "execution_count": 2,
   "metadata": {
    "collapsed": true
   },
   "outputs": [],
   "source": [
    "def parse(path):\n",
    "    g = gzip.open(path, 'rb')\n",
    "    for l in g:\n",
    "        yield eval(l)"
   ]
  },
  {
   "cell_type": "code",
   "execution_count": 3,
   "metadata": {
    "collapsed": true
   },
   "outputs": [],
   "source": [
    "def getDF(path):\n",
    "    i = 0\n",
    "    df = {}\n",
    "    for d in parse(path):\n",
    "        df[i] = d\n",
    "        i += 1\n",
    "    return pd.DataFrame.from_dict(df, orient='index')"
   ]
  },
  {
   "cell_type": "markdown",
   "metadata": {},
   "source": [
    "### 2 - Functions for checking Nan value\n",
    "\n",
    "We define the two functions below to verify if there exists nan value in the chosen column."
   ]
  },
  {
   "cell_type": "code",
   "execution_count": 4,
   "metadata": {
    "collapsed": true
   },
   "outputs": [],
   "source": [
    "def checkNanValue(dataframe, column):\n",
    "    print(\"Check if column {} exists Nan value: {}\".format(column,dataframe[column].isnull().values.any()))\n",
    "    \n",
    "def checkDataframeNanValue(dataframe):\n",
    "    list_columns = list(dataframe.columns)\n",
    "    for column in list_columns:\n",
    "        checkNanValue(dataframe, column)"
   ]
  },
  {
   "cell_type": "markdown",
   "metadata": {},
   "source": [
    "### 3 - Import Kindle store metadata"
   ]
  },
  {
   "cell_type": "code",
   "execution_count": 69,
   "metadata": {
    "collapsed": true,
    "scrolled": true
   },
   "outputs": [],
   "source": [
    "df_kindle_meta = getDF('data/meta_Kindle_Store.json.gz')"
   ]
  },
  {
   "cell_type": "code",
   "execution_count": 70,
   "metadata": {},
   "outputs": [
    {
     "data": {
      "text/html": [
       "<div>\n",
       "<style>\n",
       "    .dataframe thead tr:only-child th {\n",
       "        text-align: right;\n",
       "    }\n",
       "\n",
       "    .dataframe thead th {\n",
       "        text-align: left;\n",
       "    }\n",
       "\n",
       "    .dataframe tbody tr th {\n",
       "        vertical-align: top;\n",
       "    }\n",
       "</style>\n",
       "<table border=\"1\" class=\"dataframe\">\n",
       "  <thead>\n",
       "    <tr style=\"text-align: right;\">\n",
       "      <th></th>\n",
       "      <th>asin</th>\n",
       "      <th>description</th>\n",
       "      <th>price</th>\n",
       "      <th>imUrl</th>\n",
       "      <th>related</th>\n",
       "      <th>categories</th>\n",
       "      <th>title</th>\n",
       "      <th>salesRank</th>\n",
       "      <th>brand</th>\n",
       "    </tr>\n",
       "  </thead>\n",
       "  <tbody>\n",
       "    <tr>\n",
       "      <th>0</th>\n",
       "      <td>1603420304</td>\n",
       "      <td>In less time and for less money than it takes ...</td>\n",
       "      <td>7.69</td>\n",
       "      <td>http://ecx.images-amazon.com/images/I/51IEqPrF...</td>\n",
       "      <td>{'also_viewed': ['B001OLRKLQ', 'B004J35JIC', '...</td>\n",
       "      <td>[[Books, Cookbooks, Food &amp; Wine, Quick &amp; Easy]...</td>\n",
       "      <td>NaN</td>\n",
       "      <td>NaN</td>\n",
       "      <td>NaN</td>\n",
       "    </tr>\n",
       "    <tr>\n",
       "      <th>1</th>\n",
       "      <td>B0002IQ15S</td>\n",
       "      <td>This universal DC adapter powers/charges porta...</td>\n",
       "      <td>19.99</td>\n",
       "      <td>http://ecx.images-amazon.com/images/I/21QFJM28...</td>\n",
       "      <td>{'also_viewed': ['B00511PS3C', 'B000PI17MM', '...</td>\n",
       "      <td>[[Kindle Store, Kindle Accessories, Power Adap...</td>\n",
       "      <td>Mobility IGO AUTOPOWER 3000 SERIES ( PS0221-10 )</td>\n",
       "      <td>{}</td>\n",
       "      <td>NaN</td>\n",
       "    </tr>\n",
       "    <tr>\n",
       "      <th>2</th>\n",
       "      <td>B000F83SZQ</td>\n",
       "      <td>NaN</td>\n",
       "      <td>0.00</td>\n",
       "      <td>http://ecx.images-amazon.com/images/I/51yLqHe%...</td>\n",
       "      <td>{'also_bought': ['B0080H1C0W', 'B00LK4ZKOG', '...</td>\n",
       "      <td>[[Books, Literature &amp; Fiction], [Books, Myster...</td>\n",
       "      <td>NaN</td>\n",
       "      <td>NaN</td>\n",
       "      <td>NaN</td>\n",
       "    </tr>\n",
       "    <tr>\n",
       "      <th>3</th>\n",
       "      <td>B000F83TEQ</td>\n",
       "      <td>NaN</td>\n",
       "      <td>NaN</td>\n",
       "      <td>http://ecx.images-amazon.com/images/I/2136NBNV...</td>\n",
       "      <td>{'also_bought': ['B00IS81LFO', 'B000FA5T6A', '...</td>\n",
       "      <td>[[Books, Literature &amp; Fiction], [Books, Myster...</td>\n",
       "      <td>NaN</td>\n",
       "      <td>NaN</td>\n",
       "      <td>NaN</td>\n",
       "    </tr>\n",
       "    <tr>\n",
       "      <th>4</th>\n",
       "      <td>B000F83STC</td>\n",
       "      <td>NaN</td>\n",
       "      <td>NaN</td>\n",
       "      <td>http://g-ecx.images-amazon.com/images/G/01/x-s...</td>\n",
       "      <td>NaN</td>\n",
       "      <td>[[Books, Literature &amp; Fiction, Erotica], [Kind...</td>\n",
       "      <td>NaN</td>\n",
       "      <td>NaN</td>\n",
       "      <td>NaN</td>\n",
       "    </tr>\n",
       "    <tr>\n",
       "      <th>5</th>\n",
       "      <td>B000FA5RE4</td>\n",
       "      <td>Updated 2003 version with corrections</td>\n",
       "      <td>1.99</td>\n",
       "      <td>http://ecx.images-amazon.com/images/I/21XTM6V0...</td>\n",
       "      <td>{'also_viewed': ['B001GX3ZWA', 'B009GI3S1A', '...</td>\n",
       "      <td>[[Books, Reference, Dictionaries &amp; Thesauruses...</td>\n",
       "      <td>NaN</td>\n",
       "      <td>NaN</td>\n",
       "      <td>NaN</td>\n",
       "    </tr>\n",
       "    <tr>\n",
       "      <th>6</th>\n",
       "      <td>B000FA5NSO</td>\n",
       "      <td>NaN</td>\n",
       "      <td>NaN</td>\n",
       "      <td>http://ecx.images-amazon.com/images/I/51N45B6j...</td>\n",
       "      <td>{'also_viewed': ['B000FBF81K', 'B000FA5KKA']}</td>\n",
       "      <td>[[Books, Literature &amp; Fiction], [Books, Scienc...</td>\n",
       "      <td>NaN</td>\n",
       "      <td>NaN</td>\n",
       "      <td>NaN</td>\n",
       "    </tr>\n",
       "    <tr>\n",
       "      <th>7</th>\n",
       "      <td>B000FA5UXC</td>\n",
       "      <td>Madoc Tamlin is a man with an unusual problem....</td>\n",
       "      <td>NaN</td>\n",
       "      <td>http://ecx.images-amazon.com/images/I/51q4iur5...</td>\n",
       "      <td>{'also_bought': ['B004SPL1I8', 'B00942QL3K', '...</td>\n",
       "      <td>[[Books, Literature &amp; Fiction], [Books, Scienc...</td>\n",
       "      <td>NaN</td>\n",
       "      <td>NaN</td>\n",
       "      <td>NaN</td>\n",
       "    </tr>\n",
       "    <tr>\n",
       "      <th>8</th>\n",
       "      <td>B000FA5T4W</td>\n",
       "      <td>NaN</td>\n",
       "      <td>12.46</td>\n",
       "      <td>http://ecx.images-amazon.com/images/I/51eWyBr8...</td>\n",
       "      <td>{'also_bought': ['B004RKXHGS', 'B004ULMJH2', '...</td>\n",
       "      <td>[[Books, Business &amp; Money, Accounting], [Books...</td>\n",
       "      <td>NaN</td>\n",
       "      <td>NaN</td>\n",
       "      <td>NaN</td>\n",
       "    </tr>\n",
       "    <tr>\n",
       "      <th>9</th>\n",
       "      <td>B000FA5SHK</td>\n",
       "      <td>NaN</td>\n",
       "      <td>NaN</td>\n",
       "      <td>http://ecx.images-amazon.com/images/I/51c7mqOR...</td>\n",
       "      <td>NaN</td>\n",
       "      <td>[[Books, Science &amp; Math, Behavioral Sciences],...</td>\n",
       "      <td>NaN</td>\n",
       "      <td>NaN</td>\n",
       "      <td>NaN</td>\n",
       "    </tr>\n",
       "    <tr>\n",
       "      <th>10</th>\n",
       "      <td>B000FA66LM</td>\n",
       "      <td>NaN</td>\n",
       "      <td>0.99</td>\n",
       "      <td>http://ecx.images-amazon.com/images/I/21DFY502...</td>\n",
       "      <td>{'also_bought': ['B000FA66XU', 'B003U2RVSY', '...</td>\n",
       "      <td>[[Books, Literature &amp; Fiction, Genre Fiction, ...</td>\n",
       "      <td>NaN</td>\n",
       "      <td>NaN</td>\n",
       "      <td>NaN</td>\n",
       "    </tr>\n",
       "    <tr>\n",
       "      <th>11</th>\n",
       "      <td>B000FA5M6M</td>\n",
       "      <td>Powerful Strategies to Slip Between Day Trader...</td>\n",
       "      <td>10.95</td>\n",
       "      <td>http://ecx.images-amazon.com/images/I/51JRnj3R...</td>\n",
       "      <td>{'also_bought': ['B003ZUXQC6', 'B00E66QPCG', '...</td>\n",
       "      <td>[[Books, Business &amp; Money, Investing, Introduc...</td>\n",
       "      <td>NaN</td>\n",
       "      <td>NaN</td>\n",
       "      <td>NaN</td>\n",
       "    </tr>\n",
       "    <tr>\n",
       "      <th>12</th>\n",
       "      <td>B000FA64QO</td>\n",
       "      <td>NaN</td>\n",
       "      <td>5.99</td>\n",
       "      <td>http://ecx.images-amazon.com/images/I/51h5NLeM...</td>\n",
       "      <td>{'also_bought': ['B00513D3F0', 'B00513HJW8', '...</td>\n",
       "      <td>[[Books, Literature &amp; Fiction, Genre Fiction, ...</td>\n",
       "      <td>NaN</td>\n",
       "      <td>NaN</td>\n",
       "      <td>NaN</td>\n",
       "    </tr>\n",
       "    <tr>\n",
       "      <th>13</th>\n",
       "      <td>B000FA5PV4</td>\n",
       "      <td>NaN</td>\n",
       "      <td>3.99</td>\n",
       "      <td>http://ecx.images-amazon.com/images/I/21MYKMYA...</td>\n",
       "      <td>{'also_bought': ['B000FA65ZY', 'B00B7TD69U', '...</td>\n",
       "      <td>[[Books, Literature &amp; Fiction], [Books, Myster...</td>\n",
       "      <td>NaN</td>\n",
       "      <td>NaN</td>\n",
       "      <td>NaN</td>\n",
       "    </tr>\n",
       "    <tr>\n",
       "      <th>14</th>\n",
       "      <td>B000FA5S98</td>\n",
       "      <td>Retired physicist and amateur gumshoe Dr. Glor...</td>\n",
       "      <td>2.99</td>\n",
       "      <td>http://ecx.images-amazon.com/images/I/51OegmTV...</td>\n",
       "      <td>{'also_bought': ['B0055DLB6E', 'B0065TFUB4', '...</td>\n",
       "      <td>[[Books, Literature &amp; Fiction, United States],...</td>\n",
       "      <td>NaN</td>\n",
       "      <td>NaN</td>\n",
       "      <td>NaN</td>\n",
       "    </tr>\n",
       "    <tr>\n",
       "      <th>15</th>\n",
       "      <td>B000FA5MQ2</td>\n",
       "      <td>PreTest&amp;#174; is the medical student's most dy...</td>\n",
       "      <td>2.99</td>\n",
       "      <td>http://ecx.images-amazon.com/images/I/41q97gzh...</td>\n",
       "      <td>{'also_bought': ['B0054RFZGI', 'B004M8SLRK', '...</td>\n",
       "      <td>[[Books, Medical Books, Medicine, Internal Med...</td>\n",
       "      <td>NaN</td>\n",
       "      <td>NaN</td>\n",
       "      <td>NaN</td>\n",
       "    </tr>\n",
       "    <tr>\n",
       "      <th>16</th>\n",
       "      <td>B000FA5RY4</td>\n",
       "      <td>NaN</td>\n",
       "      <td>11.99</td>\n",
       "      <td>http://ecx.images-amazon.com/images/I/21QH2VYG...</td>\n",
       "      <td>{'also_bought': ['B004UH1FN0', 'B00DYBSG4E', '...</td>\n",
       "      <td>[[Books, Self-Help], [Kindle Store, Kindle eBo...</td>\n",
       "      <td>NaN</td>\n",
       "      <td>NaN</td>\n",
       "      <td>NaN</td>\n",
       "    </tr>\n",
       "    <tr>\n",
       "      <th>17</th>\n",
       "      <td>B000FA5KJQ</td>\n",
       "      <td>NaN</td>\n",
       "      <td>NaN</td>\n",
       "      <td>http://g-ecx.images-amazon.com/images/G/01/x-s...</td>\n",
       "      <td>NaN</td>\n",
       "      <td>[[Books, Biographies &amp; Memoirs], [Kindle Store...</td>\n",
       "      <td>NaN</td>\n",
       "      <td>NaN</td>\n",
       "      <td>NaN</td>\n",
       "    </tr>\n",
       "    <tr>\n",
       "      <th>18</th>\n",
       "      <td>B000FA5M3K</td>\n",
       "      <td>The only segment of aviation that currently ha...</td>\n",
       "      <td>16.50</td>\n",
       "      <td>http://ecx.images-amazon.com/images/I/51I9-kJi...</td>\n",
       "      <td>{'also_bought': ['B007WU2OWI', 'B009UL82LO', '...</td>\n",
       "      <td>[[Books, Engineering &amp; Transportation, Transpo...</td>\n",
       "      <td>NaN</td>\n",
       "      <td>NaN</td>\n",
       "      <td>NaN</td>\n",
       "    </tr>\n",
       "    <tr>\n",
       "      <th>19</th>\n",
       "      <td>B000FA66XU</td>\n",
       "      <td>NaN</td>\n",
       "      <td>0.99</td>\n",
       "      <td>http://ecx.images-amazon.com/images/I/2175CQFD...</td>\n",
       "      <td>{'also_bought': ['B000FA66LM', 'B00H5A9QUI', '...</td>\n",
       "      <td>[[Books, Literature &amp; Fiction, Genre Fiction, ...</td>\n",
       "      <td>NaN</td>\n",
       "      <td>NaN</td>\n",
       "      <td>NaN</td>\n",
       "    </tr>\n",
       "    <tr>\n",
       "      <th>20</th>\n",
       "      <td>B000FA5QBS</td>\n",
       "      <td>The prolific cleric plops his psychic singer h...</td>\n",
       "      <td>2.99</td>\n",
       "      <td>http://ecx.images-amazon.com/images/I/51Jz3eBF...</td>\n",
       "      <td>{'also_bought': ['B001OLRMUK', 'B004M8T00W', '...</td>\n",
       "      <td>[[Books, Literature &amp; Fiction, Genre Fiction, ...</td>\n",
       "      <td>NaN</td>\n",
       "      <td>NaN</td>\n",
       "      <td>NaN</td>\n",
       "    </tr>\n",
       "    <tr>\n",
       "      <th>21</th>\n",
       "      <td>B000FA5ZEG</td>\n",
       "      <td>&amp;#x22;... a sound guide to the history and rec...</td>\n",
       "      <td>5.51</td>\n",
       "      <td>http://ecx.images-amazon.com/images/I/41cgGAgY...</td>\n",
       "      <td>NaN</td>\n",
       "      <td>[[Books, History, Europe, Great Britain, Engla...</td>\n",
       "      <td>NaN</td>\n",
       "      <td>NaN</td>\n",
       "      <td>NaN</td>\n",
       "    </tr>\n",
       "    <tr>\n",
       "      <th>22</th>\n",
       "      <td>B000FA5Z46</td>\n",
       "      <td>&amp;#x22;This is an intriguing and truly interest...</td>\n",
       "      <td>NaN</td>\n",
       "      <td>http://ecx.images-amazon.com/images/I/41lC2Rg3...</td>\n",
       "      <td>NaN</td>\n",
       "      <td>[[Books, Christian Books &amp; Bibles, Catholicism...</td>\n",
       "      <td>NaN</td>\n",
       "      <td>NaN</td>\n",
       "      <td>NaN</td>\n",
       "    </tr>\n",
       "    <tr>\n",
       "      <th>23</th>\n",
       "      <td>B000FA5TOM</td>\n",
       "      <td>Though questions linger about just how much Ro...</td>\n",
       "      <td>7.59</td>\n",
       "      <td>http://ecx.images-amazon.com/images/I/515SsOlJ...</td>\n",
       "      <td>{'also_bought': ['B00AJGNIT0', 'B00AJGNIL8', '...</td>\n",
       "      <td>[[Books, Literature &amp; Fiction, Contemporary], ...</td>\n",
       "      <td>NaN</td>\n",
       "      <td>NaN</td>\n",
       "      <td>NaN</td>\n",
       "    </tr>\n",
       "    <tr>\n",
       "      <th>24</th>\n",
       "      <td>B000FA60YU</td>\n",
       "      <td>Throughout they give a measured, critical appr...</td>\n",
       "      <td>8.61</td>\n",
       "      <td>http://ecx.images-amazon.com/images/I/41Isiu%2...</td>\n",
       "      <td>{'also_bought': ['B008PB3U6M', 'B0089WCMBG', '...</td>\n",
       "      <td>[[Books, Health, Fitness &amp; Dieting, Mental Hea...</td>\n",
       "      <td>NaN</td>\n",
       "      <td>NaN</td>\n",
       "      <td>NaN</td>\n",
       "    </tr>\n",
       "    <tr>\n",
       "      <th>25</th>\n",
       "      <td>B000FA5TF6</td>\n",
       "      <td>NaN</td>\n",
       "      <td>0.99</td>\n",
       "      <td>http://ecx.images-amazon.com/images/I/31HG%2BX...</td>\n",
       "      <td>{'also_viewed': ['B000FBF8BU', 'B000FBJBUO', '...</td>\n",
       "      <td>[[Books, Literature &amp; Fiction, Anthologies &amp; L...</td>\n",
       "      <td>NaN</td>\n",
       "      <td>NaN</td>\n",
       "      <td>NaN</td>\n",
       "    </tr>\n",
       "    <tr>\n",
       "      <th>26</th>\n",
       "      <td>B000FA64PA</td>\n",
       "      <td>NaN</td>\n",
       "      <td>4.58</td>\n",
       "      <td>http://ecx.images-amazon.com/images/I/4138cT%2...</td>\n",
       "      <td>{'also_bought': ['B00513D4HC', 'B00513HXE2', '...</td>\n",
       "      <td>[[Books, Comics &amp; Graphic Novels], [Books, Sci...</td>\n",
       "      <td>NaN</td>\n",
       "      <td>NaN</td>\n",
       "      <td>NaN</td>\n",
       "    </tr>\n",
       "    <tr>\n",
       "      <th>27</th>\n",
       "      <td>B000FA5V2C</td>\n",
       "      <td>...Wawro has done well to master and compress ...</td>\n",
       "      <td>9.14</td>\n",
       "      <td>http://ecx.images-amazon.com/images/I/51yKfTtF...</td>\n",
       "      <td>{'also_bought': ['B00GL9TQ2C', 'B000SEPK9Y', '...</td>\n",
       "      <td>[[Books, History, Europe], [Books, History, Mi...</td>\n",
       "      <td>NaN</td>\n",
       "      <td>NaN</td>\n",
       "      <td>NaN</td>\n",
       "    </tr>\n",
       "    <tr>\n",
       "      <th>28</th>\n",
       "      <td>B000FA622A</td>\n",
       "      <td>'Not only an instructive handbook for those in...</td>\n",
       "      <td>4.84</td>\n",
       "      <td>http://ecx.images-amazon.com/images/I/41PE2Asr...</td>\n",
       "      <td>{'also_bought': ['B00AXKGHZY', 'B0094GM3KQ', '...</td>\n",
       "      <td>[[Books, Health, Fitness &amp; Dieting, Psychology...</td>\n",
       "      <td>NaN</td>\n",
       "      <td>NaN</td>\n",
       "      <td>NaN</td>\n",
       "    </tr>\n",
       "    <tr>\n",
       "      <th>29</th>\n",
       "      <td>B000FA61JY</td>\n",
       "      <td>'I would not hesitate to recommend this book a...</td>\n",
       "      <td>5.51</td>\n",
       "      <td>http://ecx.images-amazon.com/images/I/51kjd1pE...</td>\n",
       "      <td>{'also_viewed': ['B0089EHZS4', 'B009413E1S', '...</td>\n",
       "      <td>[[Books, History, Europe], [Books, History, Mi...</td>\n",
       "      <td>NaN</td>\n",
       "      <td>NaN</td>\n",
       "      <td>NaN</td>\n",
       "    </tr>\n",
       "    <tr>\n",
       "      <th>...</th>\n",
       "      <td>...</td>\n",
       "      <td>...</td>\n",
       "      <td>...</td>\n",
       "      <td>...</td>\n",
       "      <td>...</td>\n",
       "      <td>...</td>\n",
       "      <td>...</td>\n",
       "      <td>...</td>\n",
       "      <td>...</td>\n",
       "    </tr>\n",
       "    <tr>\n",
       "      <th>434672</th>\n",
       "      <td>B00LYM5AUI</td>\n",
       "      <td>NaN</td>\n",
       "      <td>0.99</td>\n",
       "      <td>http://ecx.images-amazon.com/images/I/41USgZz%...</td>\n",
       "      <td>{'also_bought': ['B00LK805JW', 'B00KZNW2Y4', '...</td>\n",
       "      <td>[[Books, Literature &amp; Fiction, Genre Fiction, ...</td>\n",
       "      <td>NaN</td>\n",
       "      <td>NaN</td>\n",
       "      <td>NaN</td>\n",
       "    </tr>\n",
       "    <tr>\n",
       "      <th>434673</th>\n",
       "      <td>B00LZVRA5Q</td>\n",
       "      <td>NaN</td>\n",
       "      <td>NaN</td>\n",
       "      <td>http://ecx.images-amazon.com/images/I/41CRnJJz...</td>\n",
       "      <td>{'also_viewed': ['B00LZSNZDU', 'B00M2EOQD4', '...</td>\n",
       "      <td>[[Books, Literature &amp; Fiction, Genre Fiction, ...</td>\n",
       "      <td>NaN</td>\n",
       "      <td>NaN</td>\n",
       "      <td>NaN</td>\n",
       "    </tr>\n",
       "    <tr>\n",
       "      <th>434674</th>\n",
       "      <td>B00LYPISJU</td>\n",
       "      <td>NaN</td>\n",
       "      <td>2.99</td>\n",
       "      <td>http://ecx.images-amazon.com/images/I/510gAGo7...</td>\n",
       "      <td>{'also_bought': ['B00LYXRD0C', 'B00LZ78GJE', '...</td>\n",
       "      <td>[[Books, Computers &amp; Technology, Games &amp; Strat...</td>\n",
       "      <td>NaN</td>\n",
       "      <td>NaN</td>\n",
       "      <td>NaN</td>\n",
       "    </tr>\n",
       "    <tr>\n",
       "      <th>434675</th>\n",
       "      <td>B00LY8XJ14</td>\n",
       "      <td>NaN</td>\n",
       "      <td>NaN</td>\n",
       "      <td>http://ecx.images-amazon.com/images/I/51uvfQtH...</td>\n",
       "      <td>{'also_bought': ['B00LMJMNUS', 'B00KI60YT8', '...</td>\n",
       "      <td>[[Books, Literature &amp; Fiction], [Books, Scienc...</td>\n",
       "      <td>NaN</td>\n",
       "      <td>NaN</td>\n",
       "      <td>NaN</td>\n",
       "    </tr>\n",
       "    <tr>\n",
       "      <th>434676</th>\n",
       "      <td>B00LZ19FE0</td>\n",
       "      <td>NaN</td>\n",
       "      <td>2.99</td>\n",
       "      <td>http://ecx.images-amazon.com/images/I/51vKdB4H...</td>\n",
       "      <td>{'also_bought': ['B00LZ4D0UC', 'B00LXK4KIO', '...</td>\n",
       "      <td>[[Books, Literature &amp; Fiction], [Books, Romanc...</td>\n",
       "      <td>NaN</td>\n",
       "      <td>NaN</td>\n",
       "      <td>NaN</td>\n",
       "    </tr>\n",
       "    <tr>\n",
       "      <th>434677</th>\n",
       "      <td>B00LZFHHSW</td>\n",
       "      <td>NaN</td>\n",
       "      <td>NaN</td>\n",
       "      <td>http://ecx.images-amazon.com/images/I/41hP0v8x...</td>\n",
       "      <td>{'also_bought': ['B00LZGN3UM', 'B00L3ETHBU', '...</td>\n",
       "      <td>[[Books, Literature &amp; Fiction, Women's Fiction...</td>\n",
       "      <td>NaN</td>\n",
       "      <td>NaN</td>\n",
       "      <td>NaN</td>\n",
       "    </tr>\n",
       "    <tr>\n",
       "      <th>434678</th>\n",
       "      <td>B00LY8ITFK</td>\n",
       "      <td>NaN</td>\n",
       "      <td>2.99</td>\n",
       "      <td>http://ecx.images-amazon.com/images/I/51Yv0eLH...</td>\n",
       "      <td>{'also_bought': ['B00LYIG5HY', 'B00LUD06KK', '...</td>\n",
       "      <td>[[Books, Cookbooks, Food &amp; Wine, Entertaining ...</td>\n",
       "      <td>NaN</td>\n",
       "      <td>NaN</td>\n",
       "      <td>NaN</td>\n",
       "    </tr>\n",
       "    <tr>\n",
       "      <th>434679</th>\n",
       "      <td>B00M0RE7CS</td>\n",
       "      <td>NaN</td>\n",
       "      <td>0.99</td>\n",
       "      <td>http://ecx.images-amazon.com/images/I/51H837LW...</td>\n",
       "      <td>{'also_bought': ['B00M01O29W', 'B00M0O74DU', '...</td>\n",
       "      <td>[[Books, Literature &amp; Fiction, Erotica], [Kind...</td>\n",
       "      <td>NaN</td>\n",
       "      <td>NaN</td>\n",
       "      <td>NaN</td>\n",
       "    </tr>\n",
       "    <tr>\n",
       "      <th>434680</th>\n",
       "      <td>B00M0CZP1A</td>\n",
       "      <td>NaN</td>\n",
       "      <td>3.99</td>\n",
       "      <td>http://ecx.images-amazon.com/images/I/41-paNST...</td>\n",
       "      <td>{'also_bought': ['B00M13FNSS', 'B00LU32E1Y', '...</td>\n",
       "      <td>[[Books, Literature &amp; Fiction, Genre Fiction, ...</td>\n",
       "      <td>NaN</td>\n",
       "      <td>NaN</td>\n",
       "      <td>NaN</td>\n",
       "    </tr>\n",
       "    <tr>\n",
       "      <th>434681</th>\n",
       "      <td>B00M07LDDO</td>\n",
       "      <td>NaN</td>\n",
       "      <td>NaN</td>\n",
       "      <td>http://ecx.images-amazon.com/images/I/51jqQKv2...</td>\n",
       "      <td>{'also_bought': ['B00JWYDIR2', 'B00IWBBCY2', '...</td>\n",
       "      <td>[[Books, Christian Books &amp; Bibles, Literature ...</td>\n",
       "      <td>NaN</td>\n",
       "      <td>NaN</td>\n",
       "      <td>NaN</td>\n",
       "    </tr>\n",
       "    <tr>\n",
       "      <th>434682</th>\n",
       "      <td>B00M13FNSS</td>\n",
       "      <td>NaN</td>\n",
       "      <td>NaN</td>\n",
       "      <td>http://ecx.images-amazon.com/images/I/51tp%2Bw...</td>\n",
       "      <td>{'also_bought': ['B00M21512W', 'B00LQM04KM', '...</td>\n",
       "      <td>[[Books, Literature &amp; Fiction, United States, ...</td>\n",
       "      <td>NaN</td>\n",
       "      <td>NaN</td>\n",
       "      <td>NaN</td>\n",
       "    </tr>\n",
       "    <tr>\n",
       "      <th>434683</th>\n",
       "      <td>B00LZU0MD4</td>\n",
       "      <td>NaN</td>\n",
       "      <td>NaN</td>\n",
       "      <td>http://ecx.images-amazon.com/images/I/51l2LNTi...</td>\n",
       "      <td>{'also_bought': ['B00LVAJXCY', 'B00AQ3LU4G', '...</td>\n",
       "      <td>[[Books, Cookbooks, Food &amp; Wine, Special Diet,...</td>\n",
       "      <td>NaN</td>\n",
       "      <td>NaN</td>\n",
       "      <td>NaN</td>\n",
       "    </tr>\n",
       "    <tr>\n",
       "      <th>434684</th>\n",
       "      <td>B00LZKMXBI</td>\n",
       "      <td>H.M. Ward is the #1 bestselling New Adult auth...</td>\n",
       "      <td>0.99</td>\n",
       "      <td>http://ecx.images-amazon.com/images/I/519ErOJ3...</td>\n",
       "      <td>{'also_bought': ['B00LPRYKKS', 'B00M029T5S', '...</td>\n",
       "      <td>[[Books, Literature &amp; Fiction], [Books, Romanc...</td>\n",
       "      <td>NaN</td>\n",
       "      <td>NaN</td>\n",
       "      <td>NaN</td>\n",
       "    </tr>\n",
       "    <tr>\n",
       "      <th>434685</th>\n",
       "      <td>B00LZ0ZL1C</td>\n",
       "      <td>NaN</td>\n",
       "      <td>3.99</td>\n",
       "      <td>http://ecx.images-amazon.com/images/I/51azj8jJ...</td>\n",
       "      <td>{'also_bought': ['B00LZ19FE0', 'B00LZ4D0UC', '...</td>\n",
       "      <td>[[Books, Literature &amp; Fiction], [Books, Myster...</td>\n",
       "      <td>NaN</td>\n",
       "      <td>NaN</td>\n",
       "      <td>NaN</td>\n",
       "    </tr>\n",
       "    <tr>\n",
       "      <th>434686</th>\n",
       "      <td>B00LXSC1IM</td>\n",
       "      <td>NaN</td>\n",
       "      <td>0.99</td>\n",
       "      <td>http://ecx.images-amazon.com/images/I/51UwV2h2...</td>\n",
       "      <td>{'also_bought': ['B00KDWI1ME', 'B00J5YO2II', '...</td>\n",
       "      <td>[[Books, Literature &amp; Fiction, Genre Fiction, ...</td>\n",
       "      <td>NaN</td>\n",
       "      <td>NaN</td>\n",
       "      <td>NaN</td>\n",
       "    </tr>\n",
       "    <tr>\n",
       "      <th>434687</th>\n",
       "      <td>B00LYNVR9K</td>\n",
       "      <td>NaN</td>\n",
       "      <td>NaN</td>\n",
       "      <td>http://ecx.images-amazon.com/images/I/51%2Bc0T...</td>\n",
       "      <td>{'also_viewed': ['B00LY7P80K', 'B00LZFHIDQ', '...</td>\n",
       "      <td>[[Books, Literature &amp; Fiction], [Books, Scienc...</td>\n",
       "      <td>NaN</td>\n",
       "      <td>NaN</td>\n",
       "      <td>NaN</td>\n",
       "    </tr>\n",
       "    <tr>\n",
       "      <th>434688</th>\n",
       "      <td>B00LXT9MMY</td>\n",
       "      <td>NaN</td>\n",
       "      <td>NaN</td>\n",
       "      <td>http://ecx.images-amazon.com/images/I/51zusShZ...</td>\n",
       "      <td>{'also_viewed': ['B00LYDWDLQ', 'B00LWTCVRI', '...</td>\n",
       "      <td>[[Books, Crafts, Hobbies &amp; Home, Crafts &amp; Hobb...</td>\n",
       "      <td>NaN</td>\n",
       "      <td>NaN</td>\n",
       "      <td>NaN</td>\n",
       "    </tr>\n",
       "    <tr>\n",
       "      <th>434689</th>\n",
       "      <td>B00LWKKB8I</td>\n",
       "      <td>NaN</td>\n",
       "      <td>NaN</td>\n",
       "      <td>http://ecx.images-amazon.com/images/I/51CMJOr2...</td>\n",
       "      <td>{'also_viewed': ['B00LSVZYF6', 'B00LUWWN02', '...</td>\n",
       "      <td>[[Books, Crafts, Hobbies &amp; Home, Crafts &amp; Hobb...</td>\n",
       "      <td>NaN</td>\n",
       "      <td>NaN</td>\n",
       "      <td>NaN</td>\n",
       "    </tr>\n",
       "    <tr>\n",
       "      <th>434690</th>\n",
       "      <td>B00LZ1YI4C</td>\n",
       "      <td>NaN</td>\n",
       "      <td>NaN</td>\n",
       "      <td>http://ecx.images-amazon.com/images/I/51I7Zf8n...</td>\n",
       "      <td>{'also_bought': ['B00GZBDS6Q', 'B00CHT5KTI', '...</td>\n",
       "      <td>[[Books, Children's Books, Science Fiction &amp; F...</td>\n",
       "      <td>NaN</td>\n",
       "      <td>NaN</td>\n",
       "      <td>NaN</td>\n",
       "    </tr>\n",
       "    <tr>\n",
       "      <th>434691</th>\n",
       "      <td>B00LXJGKD8</td>\n",
       "      <td>NaN</td>\n",
       "      <td>NaN</td>\n",
       "      <td>http://ecx.images-amazon.com/images/I/51uDffBE...</td>\n",
       "      <td>{'also_bought': ['B00L9QV5QM', 'B00LAUK7FW', '...</td>\n",
       "      <td>[[Books, Literature &amp; Fiction], [Books, Scienc...</td>\n",
       "      <td>NaN</td>\n",
       "      <td>NaN</td>\n",
       "      <td>NaN</td>\n",
       "    </tr>\n",
       "    <tr>\n",
       "      <th>434692</th>\n",
       "      <td>B00M029T4O</td>\n",
       "      <td>NaN</td>\n",
       "      <td>0.99</td>\n",
       "      <td>http://ecx.images-amazon.com/images/I/51VgLCQw...</td>\n",
       "      <td>{'also_bought': ['B00LYHTN3I', 'B00M0RE7CS', '...</td>\n",
       "      <td>[[Books, Literature &amp; Fiction], [Books, Romanc...</td>\n",
       "      <td>NaN</td>\n",
       "      <td>NaN</td>\n",
       "      <td>NaN</td>\n",
       "    </tr>\n",
       "    <tr>\n",
       "      <th>434693</th>\n",
       "      <td>B00LZ7WVJ0</td>\n",
       "      <td>NaN</td>\n",
       "      <td>NaN</td>\n",
       "      <td>http://ecx.images-amazon.com/images/I/41qfvV4W...</td>\n",
       "      <td>{'also_bought': ['B00K548QO8']}</td>\n",
       "      <td>[[Books, Children's Books, Growing Up &amp; Facts ...</td>\n",
       "      <td>NaN</td>\n",
       "      <td>NaN</td>\n",
       "      <td>NaN</td>\n",
       "    </tr>\n",
       "    <tr>\n",
       "      <th>434694</th>\n",
       "      <td>B00M1336U0</td>\n",
       "      <td></td>\n",
       "      <td>NaN</td>\n",
       "      <td>http://ecx.images-amazon.com/images/I/511z6GqR...</td>\n",
       "      <td>NaN</td>\n",
       "      <td>[[Books, Business &amp; Money, Personal Finance, B...</td>\n",
       "      <td>NaN</td>\n",
       "      <td>NaN</td>\n",
       "      <td>NaN</td>\n",
       "    </tr>\n",
       "    <tr>\n",
       "      <th>434695</th>\n",
       "      <td>B00M01MFQ4</td>\n",
       "      <td>NaN</td>\n",
       "      <td>NaN</td>\n",
       "      <td>http://ecx.images-amazon.com/images/I/51apIiaQ...</td>\n",
       "      <td>{'also_viewed': ['B00M2CLUUI', 'B00LXUIP2Q', '...</td>\n",
       "      <td>[[Books, Literature &amp; Fiction, Genre Fiction, ...</td>\n",
       "      <td>NaN</td>\n",
       "      <td>NaN</td>\n",
       "      <td>NaN</td>\n",
       "    </tr>\n",
       "    <tr>\n",
       "      <th>434696</th>\n",
       "      <td>B00LXG8TXA</td>\n",
       "      <td>NaN</td>\n",
       "      <td>NaN</td>\n",
       "      <td>http://ecx.images-amazon.com/images/I/51zU9%2B...</td>\n",
       "      <td>{'also_bought': ['B00LYB6GAW', 'B00LRZCYTC', '...</td>\n",
       "      <td>[[Books, Business &amp; Money, Accounting, Interna...</td>\n",
       "      <td>NaN</td>\n",
       "      <td>NaN</td>\n",
       "      <td>NaN</td>\n",
       "    </tr>\n",
       "    <tr>\n",
       "      <th>434697</th>\n",
       "      <td>B00M111QCM</td>\n",
       "      <td>NaN</td>\n",
       "      <td>NaN</td>\n",
       "      <td>http://ecx.images-amazon.com/images/I/51D8m1ml...</td>\n",
       "      <td>NaN</td>\n",
       "      <td>[[Books, Business &amp; Money, Industries &amp; Profes...</td>\n",
       "      <td>NaN</td>\n",
       "      <td>NaN</td>\n",
       "      <td>NaN</td>\n",
       "    </tr>\n",
       "    <tr>\n",
       "      <th>434698</th>\n",
       "      <td>B00M0AEPXG</td>\n",
       "      <td>NaN</td>\n",
       "      <td>NaN</td>\n",
       "      <td>http://ecx.images-amazon.com/images/I/51hcXTUe...</td>\n",
       "      <td>NaN</td>\n",
       "      <td>[[Books, Politics &amp; Social Sciences, Women's S...</td>\n",
       "      <td>NaN</td>\n",
       "      <td>NaN</td>\n",
       "      <td>NaN</td>\n",
       "    </tr>\n",
       "    <tr>\n",
       "      <th>434699</th>\n",
       "      <td>B00LZFHL7Y</td>\n",
       "      <td>NaN</td>\n",
       "      <td>0.99</td>\n",
       "      <td>http://ecx.images-amazon.com/images/I/41RDitlH...</td>\n",
       "      <td>{'also_bought': ['B00LXK4KIO', 'B00LZ19FE0', '...</td>\n",
       "      <td>[[Books, Literature &amp; Fiction, Erotica], [Kind...</td>\n",
       "      <td>NaN</td>\n",
       "      <td>NaN</td>\n",
       "      <td>NaN</td>\n",
       "    </tr>\n",
       "    <tr>\n",
       "      <th>434700</th>\n",
       "      <td>B00LV8M74W</td>\n",
       "      <td>NaN</td>\n",
       "      <td>3.99</td>\n",
       "      <td>http://ecx.images-amazon.com/images/I/51qUjk4b...</td>\n",
       "      <td>{'also_bought': ['B00LYOC1R6', 'B00L0WXZIG', '...</td>\n",
       "      <td>[[Books, Literature &amp; Fiction, Genre Fiction, ...</td>\n",
       "      <td>NaN</td>\n",
       "      <td>NaN</td>\n",
       "      <td>NaN</td>\n",
       "    </tr>\n",
       "    <tr>\n",
       "      <th>434701</th>\n",
       "      <td>B00LV8STE4</td>\n",
       "      <td>NaN</td>\n",
       "      <td>NaN</td>\n",
       "      <td>http://ecx.images-amazon.com/images/I/51l7MLl%...</td>\n",
       "      <td>NaN</td>\n",
       "      <td>[[Books, Arts &amp; Photography, Music, Musical Ge...</td>\n",
       "      <td>NaN</td>\n",
       "      <td>NaN</td>\n",
       "      <td>NaN</td>\n",
       "    </tr>\n",
       "  </tbody>\n",
       "</table>\n",
       "<p>434702 rows × 9 columns</p>\n",
       "</div>"
      ],
      "text/plain": [
       "              asin                                        description  price  \\\n",
       "0       1603420304  In less time and for less money than it takes ...   7.69   \n",
       "1       B0002IQ15S  This universal DC adapter powers/charges porta...  19.99   \n",
       "2       B000F83SZQ                                                NaN   0.00   \n",
       "3       B000F83TEQ                                                NaN    NaN   \n",
       "4       B000F83STC                                                NaN    NaN   \n",
       "5       B000FA5RE4              Updated 2003 version with corrections   1.99   \n",
       "6       B000FA5NSO                                                NaN    NaN   \n",
       "7       B000FA5UXC  Madoc Tamlin is a man with an unusual problem....    NaN   \n",
       "8       B000FA5T4W                                                NaN  12.46   \n",
       "9       B000FA5SHK                                                NaN    NaN   \n",
       "10      B000FA66LM                                                NaN   0.99   \n",
       "11      B000FA5M6M  Powerful Strategies to Slip Between Day Trader...  10.95   \n",
       "12      B000FA64QO                                                NaN   5.99   \n",
       "13      B000FA5PV4                                                NaN   3.99   \n",
       "14      B000FA5S98  Retired physicist and amateur gumshoe Dr. Glor...   2.99   \n",
       "15      B000FA5MQ2  PreTest&#174; is the medical student's most dy...   2.99   \n",
       "16      B000FA5RY4                                                NaN  11.99   \n",
       "17      B000FA5KJQ                                                NaN    NaN   \n",
       "18      B000FA5M3K  The only segment of aviation that currently ha...  16.50   \n",
       "19      B000FA66XU                                                NaN   0.99   \n",
       "20      B000FA5QBS  The prolific cleric plops his psychic singer h...   2.99   \n",
       "21      B000FA5ZEG  &#x22;... a sound guide to the history and rec...   5.51   \n",
       "22      B000FA5Z46  &#x22;This is an intriguing and truly interest...    NaN   \n",
       "23      B000FA5TOM  Though questions linger about just how much Ro...   7.59   \n",
       "24      B000FA60YU  Throughout they give a measured, critical appr...   8.61   \n",
       "25      B000FA5TF6                                                NaN   0.99   \n",
       "26      B000FA64PA                                                NaN   4.58   \n",
       "27      B000FA5V2C  ...Wawro has done well to master and compress ...   9.14   \n",
       "28      B000FA622A  'Not only an instructive handbook for those in...   4.84   \n",
       "29      B000FA61JY  'I would not hesitate to recommend this book a...   5.51   \n",
       "...            ...                                                ...    ...   \n",
       "434672  B00LYM5AUI                                                NaN   0.99   \n",
       "434673  B00LZVRA5Q                                                NaN    NaN   \n",
       "434674  B00LYPISJU                                                NaN   2.99   \n",
       "434675  B00LY8XJ14                                                NaN    NaN   \n",
       "434676  B00LZ19FE0                                                NaN   2.99   \n",
       "434677  B00LZFHHSW                                                NaN    NaN   \n",
       "434678  B00LY8ITFK                                                NaN   2.99   \n",
       "434679  B00M0RE7CS                                                NaN   0.99   \n",
       "434680  B00M0CZP1A                                                NaN   3.99   \n",
       "434681  B00M07LDDO                                                NaN    NaN   \n",
       "434682  B00M13FNSS                                                NaN    NaN   \n",
       "434683  B00LZU0MD4                                                NaN    NaN   \n",
       "434684  B00LZKMXBI  H.M. Ward is the #1 bestselling New Adult auth...   0.99   \n",
       "434685  B00LZ0ZL1C                                                NaN   3.99   \n",
       "434686  B00LXSC1IM                                                NaN   0.99   \n",
       "434687  B00LYNVR9K                                                NaN    NaN   \n",
       "434688  B00LXT9MMY                                                NaN    NaN   \n",
       "434689  B00LWKKB8I                                                NaN    NaN   \n",
       "434690  B00LZ1YI4C                                                NaN    NaN   \n",
       "434691  B00LXJGKD8                                                NaN    NaN   \n",
       "434692  B00M029T4O                                                NaN   0.99   \n",
       "434693  B00LZ7WVJ0                                                NaN    NaN   \n",
       "434694  B00M1336U0                                                       NaN   \n",
       "434695  B00M01MFQ4                                                NaN    NaN   \n",
       "434696  B00LXG8TXA                                                NaN    NaN   \n",
       "434697  B00M111QCM                                                NaN    NaN   \n",
       "434698  B00M0AEPXG                                                NaN    NaN   \n",
       "434699  B00LZFHL7Y                                                NaN   0.99   \n",
       "434700  B00LV8M74W                                                NaN   3.99   \n",
       "434701  B00LV8STE4                                                NaN    NaN   \n",
       "\n",
       "                                                    imUrl  \\\n",
       "0       http://ecx.images-amazon.com/images/I/51IEqPrF...   \n",
       "1       http://ecx.images-amazon.com/images/I/21QFJM28...   \n",
       "2       http://ecx.images-amazon.com/images/I/51yLqHe%...   \n",
       "3       http://ecx.images-amazon.com/images/I/2136NBNV...   \n",
       "4       http://g-ecx.images-amazon.com/images/G/01/x-s...   \n",
       "5       http://ecx.images-amazon.com/images/I/21XTM6V0...   \n",
       "6       http://ecx.images-amazon.com/images/I/51N45B6j...   \n",
       "7       http://ecx.images-amazon.com/images/I/51q4iur5...   \n",
       "8       http://ecx.images-amazon.com/images/I/51eWyBr8...   \n",
       "9       http://ecx.images-amazon.com/images/I/51c7mqOR...   \n",
       "10      http://ecx.images-amazon.com/images/I/21DFY502...   \n",
       "11      http://ecx.images-amazon.com/images/I/51JRnj3R...   \n",
       "12      http://ecx.images-amazon.com/images/I/51h5NLeM...   \n",
       "13      http://ecx.images-amazon.com/images/I/21MYKMYA...   \n",
       "14      http://ecx.images-amazon.com/images/I/51OegmTV...   \n",
       "15      http://ecx.images-amazon.com/images/I/41q97gzh...   \n",
       "16      http://ecx.images-amazon.com/images/I/21QH2VYG...   \n",
       "17      http://g-ecx.images-amazon.com/images/G/01/x-s...   \n",
       "18      http://ecx.images-amazon.com/images/I/51I9-kJi...   \n",
       "19      http://ecx.images-amazon.com/images/I/2175CQFD...   \n",
       "20      http://ecx.images-amazon.com/images/I/51Jz3eBF...   \n",
       "21      http://ecx.images-amazon.com/images/I/41cgGAgY...   \n",
       "22      http://ecx.images-amazon.com/images/I/41lC2Rg3...   \n",
       "23      http://ecx.images-amazon.com/images/I/515SsOlJ...   \n",
       "24      http://ecx.images-amazon.com/images/I/41Isiu%2...   \n",
       "25      http://ecx.images-amazon.com/images/I/31HG%2BX...   \n",
       "26      http://ecx.images-amazon.com/images/I/4138cT%2...   \n",
       "27      http://ecx.images-amazon.com/images/I/51yKfTtF...   \n",
       "28      http://ecx.images-amazon.com/images/I/41PE2Asr...   \n",
       "29      http://ecx.images-amazon.com/images/I/51kjd1pE...   \n",
       "...                                                   ...   \n",
       "434672  http://ecx.images-amazon.com/images/I/41USgZz%...   \n",
       "434673  http://ecx.images-amazon.com/images/I/41CRnJJz...   \n",
       "434674  http://ecx.images-amazon.com/images/I/510gAGo7...   \n",
       "434675  http://ecx.images-amazon.com/images/I/51uvfQtH...   \n",
       "434676  http://ecx.images-amazon.com/images/I/51vKdB4H...   \n",
       "434677  http://ecx.images-amazon.com/images/I/41hP0v8x...   \n",
       "434678  http://ecx.images-amazon.com/images/I/51Yv0eLH...   \n",
       "434679  http://ecx.images-amazon.com/images/I/51H837LW...   \n",
       "434680  http://ecx.images-amazon.com/images/I/41-paNST...   \n",
       "434681  http://ecx.images-amazon.com/images/I/51jqQKv2...   \n",
       "434682  http://ecx.images-amazon.com/images/I/51tp%2Bw...   \n",
       "434683  http://ecx.images-amazon.com/images/I/51l2LNTi...   \n",
       "434684  http://ecx.images-amazon.com/images/I/519ErOJ3...   \n",
       "434685  http://ecx.images-amazon.com/images/I/51azj8jJ...   \n",
       "434686  http://ecx.images-amazon.com/images/I/51UwV2h2...   \n",
       "434687  http://ecx.images-amazon.com/images/I/51%2Bc0T...   \n",
       "434688  http://ecx.images-amazon.com/images/I/51zusShZ...   \n",
       "434689  http://ecx.images-amazon.com/images/I/51CMJOr2...   \n",
       "434690  http://ecx.images-amazon.com/images/I/51I7Zf8n...   \n",
       "434691  http://ecx.images-amazon.com/images/I/51uDffBE...   \n",
       "434692  http://ecx.images-amazon.com/images/I/51VgLCQw...   \n",
       "434693  http://ecx.images-amazon.com/images/I/41qfvV4W...   \n",
       "434694  http://ecx.images-amazon.com/images/I/511z6GqR...   \n",
       "434695  http://ecx.images-amazon.com/images/I/51apIiaQ...   \n",
       "434696  http://ecx.images-amazon.com/images/I/51zU9%2B...   \n",
       "434697  http://ecx.images-amazon.com/images/I/51D8m1ml...   \n",
       "434698  http://ecx.images-amazon.com/images/I/51hcXTUe...   \n",
       "434699  http://ecx.images-amazon.com/images/I/41RDitlH...   \n",
       "434700  http://ecx.images-amazon.com/images/I/51qUjk4b...   \n",
       "434701  http://ecx.images-amazon.com/images/I/51l7MLl%...   \n",
       "\n",
       "                                                  related  \\\n",
       "0       {'also_viewed': ['B001OLRKLQ', 'B004J35JIC', '...   \n",
       "1       {'also_viewed': ['B00511PS3C', 'B000PI17MM', '...   \n",
       "2       {'also_bought': ['B0080H1C0W', 'B00LK4ZKOG', '...   \n",
       "3       {'also_bought': ['B00IS81LFO', 'B000FA5T6A', '...   \n",
       "4                                                     NaN   \n",
       "5       {'also_viewed': ['B001GX3ZWA', 'B009GI3S1A', '...   \n",
       "6           {'also_viewed': ['B000FBF81K', 'B000FA5KKA']}   \n",
       "7       {'also_bought': ['B004SPL1I8', 'B00942QL3K', '...   \n",
       "8       {'also_bought': ['B004RKXHGS', 'B004ULMJH2', '...   \n",
       "9                                                     NaN   \n",
       "10      {'also_bought': ['B000FA66XU', 'B003U2RVSY', '...   \n",
       "11      {'also_bought': ['B003ZUXQC6', 'B00E66QPCG', '...   \n",
       "12      {'also_bought': ['B00513D3F0', 'B00513HJW8', '...   \n",
       "13      {'also_bought': ['B000FA65ZY', 'B00B7TD69U', '...   \n",
       "14      {'also_bought': ['B0055DLB6E', 'B0065TFUB4', '...   \n",
       "15      {'also_bought': ['B0054RFZGI', 'B004M8SLRK', '...   \n",
       "16      {'also_bought': ['B004UH1FN0', 'B00DYBSG4E', '...   \n",
       "17                                                    NaN   \n",
       "18      {'also_bought': ['B007WU2OWI', 'B009UL82LO', '...   \n",
       "19      {'also_bought': ['B000FA66LM', 'B00H5A9QUI', '...   \n",
       "20      {'also_bought': ['B001OLRMUK', 'B004M8T00W', '...   \n",
       "21                                                    NaN   \n",
       "22                                                    NaN   \n",
       "23      {'also_bought': ['B00AJGNIT0', 'B00AJGNIL8', '...   \n",
       "24      {'also_bought': ['B008PB3U6M', 'B0089WCMBG', '...   \n",
       "25      {'also_viewed': ['B000FBF8BU', 'B000FBJBUO', '...   \n",
       "26      {'also_bought': ['B00513D4HC', 'B00513HXE2', '...   \n",
       "27      {'also_bought': ['B00GL9TQ2C', 'B000SEPK9Y', '...   \n",
       "28      {'also_bought': ['B00AXKGHZY', 'B0094GM3KQ', '...   \n",
       "29      {'also_viewed': ['B0089EHZS4', 'B009413E1S', '...   \n",
       "...                                                   ...   \n",
       "434672  {'also_bought': ['B00LK805JW', 'B00KZNW2Y4', '...   \n",
       "434673  {'also_viewed': ['B00LZSNZDU', 'B00M2EOQD4', '...   \n",
       "434674  {'also_bought': ['B00LYXRD0C', 'B00LZ78GJE', '...   \n",
       "434675  {'also_bought': ['B00LMJMNUS', 'B00KI60YT8', '...   \n",
       "434676  {'also_bought': ['B00LZ4D0UC', 'B00LXK4KIO', '...   \n",
       "434677  {'also_bought': ['B00LZGN3UM', 'B00L3ETHBU', '...   \n",
       "434678  {'also_bought': ['B00LYIG5HY', 'B00LUD06KK', '...   \n",
       "434679  {'also_bought': ['B00M01O29W', 'B00M0O74DU', '...   \n",
       "434680  {'also_bought': ['B00M13FNSS', 'B00LU32E1Y', '...   \n",
       "434681  {'also_bought': ['B00JWYDIR2', 'B00IWBBCY2', '...   \n",
       "434682  {'also_bought': ['B00M21512W', 'B00LQM04KM', '...   \n",
       "434683  {'also_bought': ['B00LVAJXCY', 'B00AQ3LU4G', '...   \n",
       "434684  {'also_bought': ['B00LPRYKKS', 'B00M029T5S', '...   \n",
       "434685  {'also_bought': ['B00LZ19FE0', 'B00LZ4D0UC', '...   \n",
       "434686  {'also_bought': ['B00KDWI1ME', 'B00J5YO2II', '...   \n",
       "434687  {'also_viewed': ['B00LY7P80K', 'B00LZFHIDQ', '...   \n",
       "434688  {'also_viewed': ['B00LYDWDLQ', 'B00LWTCVRI', '...   \n",
       "434689  {'also_viewed': ['B00LSVZYF6', 'B00LUWWN02', '...   \n",
       "434690  {'also_bought': ['B00GZBDS6Q', 'B00CHT5KTI', '...   \n",
       "434691  {'also_bought': ['B00L9QV5QM', 'B00LAUK7FW', '...   \n",
       "434692  {'also_bought': ['B00LYHTN3I', 'B00M0RE7CS', '...   \n",
       "434693                    {'also_bought': ['B00K548QO8']}   \n",
       "434694                                                NaN   \n",
       "434695  {'also_viewed': ['B00M2CLUUI', 'B00LXUIP2Q', '...   \n",
       "434696  {'also_bought': ['B00LYB6GAW', 'B00LRZCYTC', '...   \n",
       "434697                                                NaN   \n",
       "434698                                                NaN   \n",
       "434699  {'also_bought': ['B00LXK4KIO', 'B00LZ19FE0', '...   \n",
       "434700  {'also_bought': ['B00LYOC1R6', 'B00L0WXZIG', '...   \n",
       "434701                                                NaN   \n",
       "\n",
       "                                               categories  \\\n",
       "0       [[Books, Cookbooks, Food & Wine, Quick & Easy]...   \n",
       "1       [[Kindle Store, Kindle Accessories, Power Adap...   \n",
       "2       [[Books, Literature & Fiction], [Books, Myster...   \n",
       "3       [[Books, Literature & Fiction], [Books, Myster...   \n",
       "4       [[Books, Literature & Fiction, Erotica], [Kind...   \n",
       "5       [[Books, Reference, Dictionaries & Thesauruses...   \n",
       "6       [[Books, Literature & Fiction], [Books, Scienc...   \n",
       "7       [[Books, Literature & Fiction], [Books, Scienc...   \n",
       "8       [[Books, Business & Money, Accounting], [Books...   \n",
       "9       [[Books, Science & Math, Behavioral Sciences],...   \n",
       "10      [[Books, Literature & Fiction, Genre Fiction, ...   \n",
       "11      [[Books, Business & Money, Investing, Introduc...   \n",
       "12      [[Books, Literature & Fiction, Genre Fiction, ...   \n",
       "13      [[Books, Literature & Fiction], [Books, Myster...   \n",
       "14      [[Books, Literature & Fiction, United States],...   \n",
       "15      [[Books, Medical Books, Medicine, Internal Med...   \n",
       "16      [[Books, Self-Help], [Kindle Store, Kindle eBo...   \n",
       "17      [[Books, Biographies & Memoirs], [Kindle Store...   \n",
       "18      [[Books, Engineering & Transportation, Transpo...   \n",
       "19      [[Books, Literature & Fiction, Genre Fiction, ...   \n",
       "20      [[Books, Literature & Fiction, Genre Fiction, ...   \n",
       "21      [[Books, History, Europe, Great Britain, Engla...   \n",
       "22      [[Books, Christian Books & Bibles, Catholicism...   \n",
       "23      [[Books, Literature & Fiction, Contemporary], ...   \n",
       "24      [[Books, Health, Fitness & Dieting, Mental Hea...   \n",
       "25      [[Books, Literature & Fiction, Anthologies & L...   \n",
       "26      [[Books, Comics & Graphic Novels], [Books, Sci...   \n",
       "27      [[Books, History, Europe], [Books, History, Mi...   \n",
       "28      [[Books, Health, Fitness & Dieting, Psychology...   \n",
       "29      [[Books, History, Europe], [Books, History, Mi...   \n",
       "...                                                   ...   \n",
       "434672  [[Books, Literature & Fiction, Genre Fiction, ...   \n",
       "434673  [[Books, Literature & Fiction, Genre Fiction, ...   \n",
       "434674  [[Books, Computers & Technology, Games & Strat...   \n",
       "434675  [[Books, Literature & Fiction], [Books, Scienc...   \n",
       "434676  [[Books, Literature & Fiction], [Books, Romanc...   \n",
       "434677  [[Books, Literature & Fiction, Women's Fiction...   \n",
       "434678  [[Books, Cookbooks, Food & Wine, Entertaining ...   \n",
       "434679  [[Books, Literature & Fiction, Erotica], [Kind...   \n",
       "434680  [[Books, Literature & Fiction, Genre Fiction, ...   \n",
       "434681  [[Books, Christian Books & Bibles, Literature ...   \n",
       "434682  [[Books, Literature & Fiction, United States, ...   \n",
       "434683  [[Books, Cookbooks, Food & Wine, Special Diet,...   \n",
       "434684  [[Books, Literature & Fiction], [Books, Romanc...   \n",
       "434685  [[Books, Literature & Fiction], [Books, Myster...   \n",
       "434686  [[Books, Literature & Fiction, Genre Fiction, ...   \n",
       "434687  [[Books, Literature & Fiction], [Books, Scienc...   \n",
       "434688  [[Books, Crafts, Hobbies & Home, Crafts & Hobb...   \n",
       "434689  [[Books, Crafts, Hobbies & Home, Crafts & Hobb...   \n",
       "434690  [[Books, Children's Books, Science Fiction & F...   \n",
       "434691  [[Books, Literature & Fiction], [Books, Scienc...   \n",
       "434692  [[Books, Literature & Fiction], [Books, Romanc...   \n",
       "434693  [[Books, Children's Books, Growing Up & Facts ...   \n",
       "434694  [[Books, Business & Money, Personal Finance, B...   \n",
       "434695  [[Books, Literature & Fiction, Genre Fiction, ...   \n",
       "434696  [[Books, Business & Money, Accounting, Interna...   \n",
       "434697  [[Books, Business & Money, Industries & Profes...   \n",
       "434698  [[Books, Politics & Social Sciences, Women's S...   \n",
       "434699  [[Books, Literature & Fiction, Erotica], [Kind...   \n",
       "434700  [[Books, Literature & Fiction, Genre Fiction, ...   \n",
       "434701  [[Books, Arts & Photography, Music, Musical Ge...   \n",
       "\n",
       "                                                   title salesRank brand  \n",
       "0                                                    NaN       NaN   NaN  \n",
       "1       Mobility IGO AUTOPOWER 3000 SERIES ( PS0221-10 )        {}   NaN  \n",
       "2                                                    NaN       NaN   NaN  \n",
       "3                                                    NaN       NaN   NaN  \n",
       "4                                                    NaN       NaN   NaN  \n",
       "5                                                    NaN       NaN   NaN  \n",
       "6                                                    NaN       NaN   NaN  \n",
       "7                                                    NaN       NaN   NaN  \n",
       "8                                                    NaN       NaN   NaN  \n",
       "9                                                    NaN       NaN   NaN  \n",
       "10                                                   NaN       NaN   NaN  \n",
       "11                                                   NaN       NaN   NaN  \n",
       "12                                                   NaN       NaN   NaN  \n",
       "13                                                   NaN       NaN   NaN  \n",
       "14                                                   NaN       NaN   NaN  \n",
       "15                                                   NaN       NaN   NaN  \n",
       "16                                                   NaN       NaN   NaN  \n",
       "17                                                   NaN       NaN   NaN  \n",
       "18                                                   NaN       NaN   NaN  \n",
       "19                                                   NaN       NaN   NaN  \n",
       "20                                                   NaN       NaN   NaN  \n",
       "21                                                   NaN       NaN   NaN  \n",
       "22                                                   NaN       NaN   NaN  \n",
       "23                                                   NaN       NaN   NaN  \n",
       "24                                                   NaN       NaN   NaN  \n",
       "25                                                   NaN       NaN   NaN  \n",
       "26                                                   NaN       NaN   NaN  \n",
       "27                                                   NaN       NaN   NaN  \n",
       "28                                                   NaN       NaN   NaN  \n",
       "29                                                   NaN       NaN   NaN  \n",
       "...                                                  ...       ...   ...  \n",
       "434672                                               NaN       NaN   NaN  \n",
       "434673                                               NaN       NaN   NaN  \n",
       "434674                                               NaN       NaN   NaN  \n",
       "434675                                               NaN       NaN   NaN  \n",
       "434676                                               NaN       NaN   NaN  \n",
       "434677                                               NaN       NaN   NaN  \n",
       "434678                                               NaN       NaN   NaN  \n",
       "434679                                               NaN       NaN   NaN  \n",
       "434680                                               NaN       NaN   NaN  \n",
       "434681                                               NaN       NaN   NaN  \n",
       "434682                                               NaN       NaN   NaN  \n",
       "434683                                               NaN       NaN   NaN  \n",
       "434684                                               NaN       NaN   NaN  \n",
       "434685                                               NaN       NaN   NaN  \n",
       "434686                                               NaN       NaN   NaN  \n",
       "434687                                               NaN       NaN   NaN  \n",
       "434688                                               NaN       NaN   NaN  \n",
       "434689                                               NaN       NaN   NaN  \n",
       "434690                                               NaN       NaN   NaN  \n",
       "434691                                               NaN       NaN   NaN  \n",
       "434692                                               NaN       NaN   NaN  \n",
       "434693                                               NaN       NaN   NaN  \n",
       "434694                                               NaN       NaN   NaN  \n",
       "434695                                               NaN       NaN   NaN  \n",
       "434696                                               NaN       NaN   NaN  \n",
       "434697                                               NaN       NaN   NaN  \n",
       "434698                                               NaN       NaN   NaN  \n",
       "434699                                               NaN       NaN   NaN  \n",
       "434700                                               NaN       NaN   NaN  \n",
       "434701                                               NaN       NaN   NaN  \n",
       "\n",
       "[434702 rows x 9 columns]"
      ]
     },
     "execution_count": 70,
     "metadata": {},
     "output_type": "execute_result"
    }
   ],
   "source": [
    "df_kindle_meta"
   ]
  },
  {
   "cell_type": "markdown",
   "metadata": {},
   "source": [
    "From the metadata, we can know that there are a lot of null values and the dataset contains not only information about kindle books but also about kindle accessories. We have to do some data cleaning work on this dataset."
   ]
  },
  {
   "cell_type": "markdown",
   "metadata": {},
   "source": [
    "#### 3.1 - Discard several useless columns\n",
    "\n",
    "We discard **salesrank & brand** because all the values in these columns are related to the kindle accessories instead of kindle books and we cannot get any information about salesrank & brand about kindle books. As for **description, imUrl, related, title**, we drop them as well because they are not quite useful for our project and also there is little useful information related to kindle books in these columns. For example, you cannot find the titles of any kindle books."
   ]
  },
  {
   "cell_type": "code",
   "execution_count": 7,
   "metadata": {
    "collapsed": true
   },
   "outputs": [],
   "source": [
    "df_kindle_meta = df_kindle_meta.drop(['description','imUrl','related','title','salesRank','brand'],axis=1)"
   ]
  },
  {
   "cell_type": "markdown",
   "metadata": {},
   "source": [
    "#### 3.2 - Check if there exits NaN Value in the DataFrame"
   ]
  },
  {
   "cell_type": "code",
   "execution_count": 8,
   "metadata": {},
   "outputs": [
    {
     "name": "stdout",
     "output_type": "stream",
     "text": [
      "Check if column asin exists Nan value: False\n",
      "Check if column price exists Nan value: True\n",
      "Check if column categories exists Nan value: False\n"
     ]
    }
   ],
   "source": [
    "checkDataframeNanValue(df_kindle_meta)"
   ]
  },
  {
   "cell_type": "markdown",
   "metadata": {},
   "source": [
    "#### 3.3 - Replace Nan value by 0\n",
    "\n",
    "According to the result above, we know that only column **price** exists Nan value. Thus, we decide to replace **Nan** values as **0**, which also makes sense because there are tons of free kindle books in Amazon."
   ]
  },
  {
   "cell_type": "code",
   "execution_count": 9,
   "metadata": {
    "collapsed": true
   },
   "outputs": [],
   "source": [
    "df_kindle_meta['price'] = df_kindle_meta['price'].fillna(0)"
   ]
  },
  {
   "cell_type": "markdown",
   "metadata": {},
   "source": [
    "#### 3.4 - Only keep ebook products and discard all the other relative kindle products like accessories\n",
    "\n",
    "In this part, we **drop all the kindle accessories products** from the dataset with the help of the attribute **category**."
   ]
  },
  {
   "cell_type": "code",
   "execution_count": 10,
   "metadata": {
    "collapsed": true
   },
   "outputs": [],
   "source": [
    "rows_to_delete = []\n",
    "for idx, categories in enumerate(df_kindle_meta['categories']):\n",
    "    isBook = False\n",
    "    for category in categories[0]:\n",
    "        if 'Books' in category:\n",
    "            isBook = True\n",
    "            break\n",
    "    if isBook == False:\n",
    "        rows_to_delete.append(idx)"
   ]
  },
  {
   "cell_type": "code",
   "execution_count": 11,
   "metadata": {
    "collapsed": true
   },
   "outputs": [],
   "source": [
    "df_kindle_meta = df_kindle_meta.drop(df_kindle_meta.index[rows_to_delete])"
   ]
  },
  {
   "cell_type": "markdown",
   "metadata": {},
   "source": [
    "#### 3.5 - Set asin as index"
   ]
  },
  {
   "cell_type": "code",
   "execution_count": 12,
   "metadata": {
    "collapsed": true
   },
   "outputs": [],
   "source": [
    "df_kindle_meta = df_kindle_meta.set_index(['asin'])"
   ]
  },
  {
   "cell_type": "markdown",
   "metadata": {},
   "source": [
    "#### 3.6 - Generate pickle file"
   ]
  },
  {
   "cell_type": "code",
   "execution_count": 13,
   "metadata": {
    "collapsed": true
   },
   "outputs": [],
   "source": [
    "df_kindle_meta.to_pickle('kindle_metadata.pkl')"
   ]
  },
  {
   "cell_type": "markdown",
   "metadata": {},
   "source": [
    "### 4 - Import book metadata\n",
    "The structure of book metadata is similar to that of kindle metadata. But since there are only books in the dataset, so, we don't need to delete unrelated products. In this part, we import book metadata and we just apply the same procedure as above before to generate the pickle file."
   ]
  },
  {
   "cell_type": "code",
   "execution_count": 79,
   "metadata": {
    "collapsed": true,
    "scrolled": true
   },
   "outputs": [],
   "source": [
    "df_book_meta = getDF('data/meta_Books.json.gz')"
   ]
  },
  {
   "cell_type": "code",
   "execution_count": 85,
   "metadata": {
    "collapsed": true
   },
   "outputs": [],
   "source": [
    "df_book_meta = df_book_meta.set_index('asin')"
   ]
  },
  {
   "cell_type": "markdown",
   "metadata": {},
   "source": [
    "#### 4.1 - Discard several useless columns from the DateFrame"
   ]
  },
  {
   "cell_type": "code",
   "execution_count": 41,
   "metadata": {
    "collapsed": true
   },
   "outputs": [],
   "source": [
    "df_book_meta = df_book_meta.drop(['description','imUrl','related','title','brand'],axis=1)"
   ]
  },
  {
   "cell_type": "markdown",
   "metadata": {},
   "source": [
    "#### 4.2 - Check if there exists NaN Value in the DataFrame"
   ]
  },
  {
   "cell_type": "code",
   "execution_count": 42,
   "metadata": {},
   "outputs": [
    {
     "name": "stdout",
     "output_type": "stream",
     "text": [
      "Check if column asin exists Nan value: False\n",
      "Check if column salesRank exists Nan value: True\n",
      "Check if column categories exists Nan value: False\n",
      "Check if column price exists Nan value: True\n"
     ]
    }
   ],
   "source": [
    "checkDataframeNanValue(df_book_meta)"
   ]
  },
  {
   "cell_type": "markdown",
   "metadata": {},
   "source": [
    "#### 4.3 - Replace NaN value by 'unknown' or 0"
   ]
  },
  {
   "cell_type": "code",
   "execution_count": 43,
   "metadata": {
    "collapsed": true
   },
   "outputs": [],
   "source": [
    "df_book_meta['salesRank'] = df_book_meta['salesRank'].fillna('unknown')\n",
    "df_book_meta['price'] = df_book_meta['price'].fillna(0)"
   ]
  },
  {
   "cell_type": "markdown",
   "metadata": {},
   "source": [
    "#### 4.4 - Set asin as index"
   ]
  },
  {
   "cell_type": "code",
   "execution_count": 44,
   "metadata": {
    "collapsed": true
   },
   "outputs": [],
   "source": [
    "df_book_meta = df_book_meta.set_index('asin')"
   ]
  },
  {
   "cell_type": "markdown",
   "metadata": {},
   "source": [
    "#### 4.5 - Generate pickle file"
   ]
  },
  {
   "cell_type": "code",
   "execution_count": 45,
   "metadata": {
    "collapsed": true
   },
   "outputs": [],
   "source": [
    "df_book_meta.to_pickle('book_metadata.pkl')"
   ]
  },
  {
   "cell_type": "markdown",
   "metadata": {},
   "source": [
    "### 5 - Import Kindle store reviews\n",
    "\n",
    "In this part, we begin to turn our attention to the review dataset."
   ]
  },
  {
   "cell_type": "code",
   "execution_count": 71,
   "metadata": {
    "collapsed": true,
    "scrolled": true
   },
   "outputs": [],
   "source": [
    "df_kindle_review = getDF('data/reviews_Kindle_Store_5.json.gz')"
   ]
  },
  {
   "cell_type": "code",
   "execution_count": 72,
   "metadata": {},
   "outputs": [
    {
     "data": {
      "text/html": [
       "<div>\n",
       "<style>\n",
       "    .dataframe thead tr:only-child th {\n",
       "        text-align: right;\n",
       "    }\n",
       "\n",
       "    .dataframe thead th {\n",
       "        text-align: left;\n",
       "    }\n",
       "\n",
       "    .dataframe tbody tr th {\n",
       "        vertical-align: top;\n",
       "    }\n",
       "</style>\n",
       "<table border=\"1\" class=\"dataframe\">\n",
       "  <thead>\n",
       "    <tr style=\"text-align: right;\">\n",
       "      <th></th>\n",
       "      <th>reviewerID</th>\n",
       "      <th>asin</th>\n",
       "      <th>reviewerName</th>\n",
       "      <th>helpful</th>\n",
       "      <th>reviewText</th>\n",
       "      <th>overall</th>\n",
       "      <th>summary</th>\n",
       "      <th>unixReviewTime</th>\n",
       "      <th>reviewTime</th>\n",
       "    </tr>\n",
       "  </thead>\n",
       "  <tbody>\n",
       "    <tr>\n",
       "      <th>0</th>\n",
       "      <td>A1F6404F1VG29J</td>\n",
       "      <td>B000F83SZQ</td>\n",
       "      <td>Avidreader</td>\n",
       "      <td>[0, 0]</td>\n",
       "      <td>I enjoy vintage books and movies so I enjoyed ...</td>\n",
       "      <td>5.0</td>\n",
       "      <td>Nice vintage story</td>\n",
       "      <td>1399248000</td>\n",
       "      <td>05 5, 2014</td>\n",
       "    </tr>\n",
       "    <tr>\n",
       "      <th>1</th>\n",
       "      <td>AN0N05A9LIJEQ</td>\n",
       "      <td>B000F83SZQ</td>\n",
       "      <td>critters</td>\n",
       "      <td>[2, 2]</td>\n",
       "      <td>This book is a reissue of an old one; the auth...</td>\n",
       "      <td>4.0</td>\n",
       "      <td>Different...</td>\n",
       "      <td>1388966400</td>\n",
       "      <td>01 6, 2014</td>\n",
       "    </tr>\n",
       "    <tr>\n",
       "      <th>2</th>\n",
       "      <td>A795DMNCJILA6</td>\n",
       "      <td>B000F83SZQ</td>\n",
       "      <td>dot</td>\n",
       "      <td>[2, 2]</td>\n",
       "      <td>This was a fairly interesting read.  It had ol...</td>\n",
       "      <td>4.0</td>\n",
       "      <td>Oldie</td>\n",
       "      <td>1396569600</td>\n",
       "      <td>04 4, 2014</td>\n",
       "    </tr>\n",
       "    <tr>\n",
       "      <th>3</th>\n",
       "      <td>A1FV0SX13TWVXQ</td>\n",
       "      <td>B000F83SZQ</td>\n",
       "      <td>Elaine H. Turley \"Montana Songbird\"</td>\n",
       "      <td>[1, 1]</td>\n",
       "      <td>I'd never read any of the Amy Brewster mysteri...</td>\n",
       "      <td>5.0</td>\n",
       "      <td>I really liked it.</td>\n",
       "      <td>1392768000</td>\n",
       "      <td>02 19, 2014</td>\n",
       "    </tr>\n",
       "    <tr>\n",
       "      <th>4</th>\n",
       "      <td>A3SPTOKDG7WBLN</td>\n",
       "      <td>B000F83SZQ</td>\n",
       "      <td>Father Dowling Fan</td>\n",
       "      <td>[0, 1]</td>\n",
       "      <td>If you like period pieces - clothing, lingo, y...</td>\n",
       "      <td>4.0</td>\n",
       "      <td>Period Mystery</td>\n",
       "      <td>1395187200</td>\n",
       "      <td>03 19, 2014</td>\n",
       "    </tr>\n",
       "  </tbody>\n",
       "</table>\n",
       "</div>"
      ],
      "text/plain": [
       "       reviewerID        asin                         reviewerName helpful  \\\n",
       "0  A1F6404F1VG29J  B000F83SZQ                           Avidreader  [0, 0]   \n",
       "1   AN0N05A9LIJEQ  B000F83SZQ                             critters  [2, 2]   \n",
       "2   A795DMNCJILA6  B000F83SZQ                                  dot  [2, 2]   \n",
       "3  A1FV0SX13TWVXQ  B000F83SZQ  Elaine H. Turley \"Montana Songbird\"  [1, 1]   \n",
       "4  A3SPTOKDG7WBLN  B000F83SZQ                   Father Dowling Fan  [0, 1]   \n",
       "\n",
       "                                          reviewText  overall  \\\n",
       "0  I enjoy vintage books and movies so I enjoyed ...      5.0   \n",
       "1  This book is a reissue of an old one; the auth...      4.0   \n",
       "2  This was a fairly interesting read.  It had ol...      4.0   \n",
       "3  I'd never read any of the Amy Brewster mysteri...      5.0   \n",
       "4  If you like period pieces - clothing, lingo, y...      4.0   \n",
       "\n",
       "              summary  unixReviewTime   reviewTime  \n",
       "0  Nice vintage story      1399248000   05 5, 2014  \n",
       "1        Different...      1388966400   01 6, 2014  \n",
       "2               Oldie      1396569600   04 4, 2014  \n",
       "3  I really liked it.      1392768000  02 19, 2014  \n",
       "4      Period Mystery      1395187200  03 19, 2014  "
      ]
     },
     "execution_count": 72,
     "metadata": {},
     "output_type": "execute_result"
    }
   ],
   "source": [
    "df_kindle_review.head()"
   ]
  },
  {
   "cell_type": "markdown",
   "metadata": {},
   "source": [
    "In the review dataset, there are nine columns. \n",
    "\n",
    "**reviewerID** and **reviewName** are unrelated to our projects, we choose to delete them. \n",
    "\n",
    "Also, we notice there are two attributes about time information, **unixReviewTime** which is only numbers and **reviewTime** which is kind of dirty. Wikipedia tells us that [unix time](https://en.wikipedia.org/wiki/Unix_time) is a system for describing a point in time. Luckily, pandas provides us with function to translate unix format of time to standard format. So, since the format of **reviewTime** is dirty, we choose to keep **unixReviewTime** and delete **reviewTime**. "
   ]
  },
  {
   "cell_type": "markdown",
   "metadata": {},
   "source": [
    "#### 5.1 - Discard the column reviewTime which represents the same data as column unixReviewTime"
   ]
  },
  {
   "cell_type": "code",
   "execution_count": 75,
   "metadata": {
    "collapsed": true
   },
   "outputs": [],
   "source": [
    "df_kindle_review = df_kindle_review.drop(['reviewerID','reviewerName','reviewTime'],axis=1)"
   ]
  },
  {
   "cell_type": "markdown",
   "metadata": {},
   "source": [
    "#### 5.2 - Change date format to standard datetime\n",
    "\n",
    "We convert the unix time format into date time format."
   ]
  },
  {
   "cell_type": "code",
   "execution_count": 76,
   "metadata": {
    "collapsed": true
   },
   "outputs": [],
   "source": [
    "df_kindle_review['unixReviewTime'] = pd.to_datetime(df_kindle_review['unixReviewTime'],unit='s')"
   ]
  },
  {
   "cell_type": "markdown",
   "metadata": {},
   "source": [
    "#### 5.3 - Check if there exists Nan Value in the DataFrame\n",
    "\n",
    "There isn't any Nan value in the dataframe. Good!"
   ]
  },
  {
   "cell_type": "code",
   "execution_count": 37,
   "metadata": {},
   "outputs": [
    {
     "name": "stdout",
     "output_type": "stream",
     "text": [
      "Check if column asin exists Nan value: False\n",
      "Check if column helpful exists Nan value: False\n",
      "Check if column reviewText exists Nan value: False\n",
      "Check if column overall exists Nan value: False\n",
      "Check if column summary exists Nan value: False\n",
      "Check if column unixReviewTime exists Nan value: False\n"
     ]
    }
   ],
   "source": [
    "checkDataframeNanValue(df_kindle_review)"
   ]
  },
  {
   "cell_type": "markdown",
   "metadata": {},
   "source": [
    "#### 5.4 - Generate pickle file"
   ]
  },
  {
   "cell_type": "code",
   "execution_count": 38,
   "metadata": {
    "collapsed": true
   },
   "outputs": [],
   "source": [
    "df_kindle_review.to_pickle('kindle_review.pkl')"
   ]
  },
  {
   "cell_type": "markdown",
   "metadata": {},
   "source": [
    "### 6 - Import book reviews"
   ]
  },
  {
   "cell_type": "code",
   "execution_count": 5,
   "metadata": {
    "collapsed": true
   },
   "outputs": [],
   "source": [
    "df_book_review = getDF('data/reviews_Books_5.json.gz')"
   ]
  },
  {
   "cell_type": "code",
   "execution_count": 32,
   "metadata": {
    "scrolled": true
   },
   "outputs": [
    {
     "data": {
      "text/html": [
       "<div>\n",
       "<style>\n",
       "    .dataframe thead tr:only-child th {\n",
       "        text-align: right;\n",
       "    }\n",
       "\n",
       "    .dataframe thead th {\n",
       "        text-align: left;\n",
       "    }\n",
       "\n",
       "    .dataframe tbody tr th {\n",
       "        vertical-align: top;\n",
       "    }\n",
       "</style>\n",
       "<table border=\"1\" class=\"dataframe\">\n",
       "  <thead>\n",
       "    <tr style=\"text-align: right;\">\n",
       "      <th></th>\n",
       "      <th>reviewerID</th>\n",
       "      <th>asin</th>\n",
       "      <th>reviewerName</th>\n",
       "      <th>helpful</th>\n",
       "      <th>reviewText</th>\n",
       "      <th>overall</th>\n",
       "      <th>summary</th>\n",
       "      <th>unixReviewTime</th>\n",
       "      <th>reviewTime</th>\n",
       "    </tr>\n",
       "  </thead>\n",
       "  <tbody>\n",
       "    <tr>\n",
       "      <th>0</th>\n",
       "      <td>A10000012B7CGYKOMPQ4L</td>\n",
       "      <td>000100039X</td>\n",
       "      <td>Adam</td>\n",
       "      <td>[0, 0]</td>\n",
       "      <td>Spiritually and mentally inspiring! A book tha...</td>\n",
       "      <td>5.0</td>\n",
       "      <td>Wonderful!</td>\n",
       "      <td>1355616000</td>\n",
       "      <td>12 16, 2012</td>\n",
       "    </tr>\n",
       "    <tr>\n",
       "      <th>1</th>\n",
       "      <td>A2S166WSCFIFP5</td>\n",
       "      <td>000100039X</td>\n",
       "      <td>adead_poet@hotmail.com \"adead_poet@hotmail.com\"</td>\n",
       "      <td>[0, 2]</td>\n",
       "      <td>This is one my must have books. It is a master...</td>\n",
       "      <td>5.0</td>\n",
       "      <td>close to god</td>\n",
       "      <td>1071100800</td>\n",
       "      <td>12 11, 2003</td>\n",
       "    </tr>\n",
       "    <tr>\n",
       "      <th>2</th>\n",
       "      <td>A1BM81XB4QHOA3</td>\n",
       "      <td>000100039X</td>\n",
       "      <td>Ahoro Blethends \"Seriously\"</td>\n",
       "      <td>[0, 0]</td>\n",
       "      <td>This book provides a reflection that you can a...</td>\n",
       "      <td>5.0</td>\n",
       "      <td>Must Read for Life Afficianados</td>\n",
       "      <td>1390003200</td>\n",
       "      <td>01 18, 2014</td>\n",
       "    </tr>\n",
       "    <tr>\n",
       "      <th>3</th>\n",
       "      <td>A1MOSTXNIO5MPJ</td>\n",
       "      <td>000100039X</td>\n",
       "      <td>Alan Krug</td>\n",
       "      <td>[0, 0]</td>\n",
       "      <td>I first read THE PROPHET in college back in th...</td>\n",
       "      <td>5.0</td>\n",
       "      <td>Timeless for every good and bad time in your l...</td>\n",
       "      <td>1317081600</td>\n",
       "      <td>09 27, 2011</td>\n",
       "    </tr>\n",
       "    <tr>\n",
       "      <th>4</th>\n",
       "      <td>A2XQ5LZHTD4AFT</td>\n",
       "      <td>000100039X</td>\n",
       "      <td>Alaturka</td>\n",
       "      <td>[7, 9]</td>\n",
       "      <td>A timeless classic.  It is a very demanding an...</td>\n",
       "      <td>5.0</td>\n",
       "      <td>A Modern Rumi</td>\n",
       "      <td>1033948800</td>\n",
       "      <td>10 7, 2002</td>\n",
       "    </tr>\n",
       "  </tbody>\n",
       "</table>\n",
       "</div>"
      ],
      "text/plain": [
       "              reviewerID        asin  \\\n",
       "0  A10000012B7CGYKOMPQ4L  000100039X   \n",
       "1         A2S166WSCFIFP5  000100039X   \n",
       "2         A1BM81XB4QHOA3  000100039X   \n",
       "3         A1MOSTXNIO5MPJ  000100039X   \n",
       "4         A2XQ5LZHTD4AFT  000100039X   \n",
       "\n",
       "                                      reviewerName helpful  \\\n",
       "0                                             Adam  [0, 0]   \n",
       "1  adead_poet@hotmail.com \"adead_poet@hotmail.com\"  [0, 2]   \n",
       "2                      Ahoro Blethends \"Seriously\"  [0, 0]   \n",
       "3                                        Alan Krug  [0, 0]   \n",
       "4                                         Alaturka  [7, 9]   \n",
       "\n",
       "                                          reviewText  overall  \\\n",
       "0  Spiritually and mentally inspiring! A book tha...      5.0   \n",
       "1  This is one my must have books. It is a master...      5.0   \n",
       "2  This book provides a reflection that you can a...      5.0   \n",
       "3  I first read THE PROPHET in college back in th...      5.0   \n",
       "4  A timeless classic.  It is a very demanding an...      5.0   \n",
       "\n",
       "                                             summary  unixReviewTime  \\\n",
       "0                                         Wonderful!      1355616000   \n",
       "1                                       close to god      1071100800   \n",
       "2                    Must Read for Life Afficianados      1390003200   \n",
       "3  Timeless for every good and bad time in your l...      1317081600   \n",
       "4                                      A Modern Rumi      1033948800   \n",
       "\n",
       "    reviewTime  \n",
       "0  12 16, 2012  \n",
       "1  12 11, 2003  \n",
       "2  01 18, 2014  \n",
       "3  09 27, 2011  \n",
       "4   10 7, 2002  "
      ]
     },
     "execution_count": 32,
     "metadata": {},
     "output_type": "execute_result"
    }
   ],
   "source": [
    "df_book_review.head()"
   ]
  },
  {
   "cell_type": "markdown",
   "metadata": {},
   "source": [
    "As this dataframe is very large, we can not put all the data in a same pickle file. Thus, we decide to **divide this dataframe into 10 sub-dataframes of same size** and genereate 10 different pickle files."
   ]
  },
  {
   "cell_type": "markdown",
   "metadata": {},
   "source": [
    "`review_data_preprocess` is a function for preprocessing review data with the method we discuss above for kinlde review dataset."
   ]
  },
  {
   "cell_type": "code",
   "execution_count": 20,
   "metadata": {
    "collapsed": true
   },
   "outputs": [],
   "source": [
    "def review_data_preprocess(dataFilePath):\n",
    "    temp = pd.read_pickle(dataFilePath)\n",
    "    temp = temp.drop(['reviewerID','reviewerName','reviewTime'],axis=1)\n",
    "    temp['unixReviewTime'] = pd.to_datetime(temp['unixReviewTime'],unit='s')\n",
    "    temp.to_pickle(dataFilePath)"
   ]
  },
  {
   "cell_type": "code",
   "execution_count": 21,
   "metadata": {
    "collapsed": true
   },
   "outputs": [],
   "source": [
    "df_book_review_1000000 = df_book_review.iloc[:1000000]\n",
    "df_book_review_1000000.to_pickle('book_review_1000000.pkl')\n",
    "review_data_preprocess('book_review_1000000.pkl')"
   ]
  },
  {
   "cell_type": "code",
   "execution_count": 23,
   "metadata": {
    "collapsed": true
   },
   "outputs": [],
   "source": [
    "df_book_review_1000000_2000000 = df_book_review.iloc[1000000:2000000]\n",
    "df_book_review_1000000_2000000.to_pickle('book_review_1000000_2000000.pkl')\n",
    "review_data_preprocess('book_review_1000000_2000000.pkl')"
   ]
  },
  {
   "cell_type": "code",
   "execution_count": 24,
   "metadata": {
    "collapsed": true
   },
   "outputs": [],
   "source": [
    "df_book_review_2000000_3000000 = df_book_review.iloc[2000000:3000000]\n",
    "df_book_review_2000000_3000000.to_pickle('book_review_2000000_3000000.pkl')\n",
    "review_data_preprocess('book_review_2000000_3000000.pkl')"
   ]
  },
  {
   "cell_type": "code",
   "execution_count": 25,
   "metadata": {
    "collapsed": true
   },
   "outputs": [],
   "source": [
    "df_book_review_3000000_4000000 = df_book_review.iloc[3000000:4000000]\n",
    "df_book_review_3000000_4000000.to_pickle('book_review_3000000_4000000.pkl')\n",
    "review_data_preprocess('book_review_3000000_4000000.pkl')"
   ]
  },
  {
   "cell_type": "code",
   "execution_count": 26,
   "metadata": {
    "collapsed": true
   },
   "outputs": [],
   "source": [
    "df_book_review_4000000_5000000 = df_book_review.iloc[4000000:5000000]\n",
    "df_book_review_4000000_5000000.to_pickle('book_review_4000000_5000000.pkl')\n",
    "review_data_preprocess('book_review_4000000_5000000.pkl')"
   ]
  },
  {
   "cell_type": "code",
   "execution_count": 27,
   "metadata": {
    "collapsed": true
   },
   "outputs": [],
   "source": [
    "df_book_review_5000000_6000000 = df_book_review.iloc[5000000:6000000]\n",
    "df_book_review_5000000_6000000.to_pickle('book_review_5000000_6000000.pkl')\n",
    "review_data_preprocess('book_review_5000000_6000000.pkl')"
   ]
  },
  {
   "cell_type": "code",
   "execution_count": 28,
   "metadata": {
    "collapsed": true
   },
   "outputs": [],
   "source": [
    "df_book_review_6000000_7000000 = df_book_review.iloc[6000000:7000000]\n",
    "df_book_review_6000000_7000000.to_pickle('book_review_6000000_7000000.pkl')\n",
    "review_data_preprocess('book_review_6000000_7000000.pkl')"
   ]
  },
  {
   "cell_type": "code",
   "execution_count": 14,
   "metadata": {
    "collapsed": true
   },
   "outputs": [],
   "source": [
    "df_book_review_7000000_8000000 = df_book_review.iloc[7000000:8000000]\n",
    "df_book_review_7000000_8000000.to_pickle('book_review_7000000_8000000.pkl')\n",
    "review_data_preprocess('book_review_7000000_8000000.pkl')"
   ]
  },
  {
   "cell_type": "code",
   "execution_count": 15,
   "metadata": {
    "collapsed": true
   },
   "outputs": [],
   "source": [
    "df_book_review_8000000 = df_book_review.iloc[8000000:]\n",
    "df_book_review_8000000.to_pickle('book_review_8000000.pkl')\n",
    "review_data_preprocess('book_review_8000000.pkl')"
   ]
  },
  {
   "cell_type": "markdown",
   "metadata": {},
   "source": [
    "### 7 - Drop duplicate rows and update pickle files\n",
    "\n",
    "#### 7.1 - Read products dataframe and drop duplicate rows\n",
    "\n",
    "We find out that the information of many kindle books appear not only in the metadata of kindle but also the metadata of books, which makes sense beacause we many books have both two versions. In order to make our pickles cleaner and smaller. We decide to drop all the kindle store products from the book products dataframe on the basis of category and update pickle files. So, in the metadata of kindle, we would have information of books with kindle version, and in the metadata of books, we would have only books."
   ]
  },
  {
   "cell_type": "code",
   "execution_count": 33,
   "metadata": {
    "collapsed": true
   },
   "outputs": [],
   "source": [
    "df_kindle_meta = pd.read_pickle('pickleData/kindle_metadata.pkl')"
   ]
  },
  {
   "cell_type": "code",
   "execution_count": 34,
   "metadata": {},
   "outputs": [
    {
     "data": {
      "text/html": [
       "<div>\n",
       "<style>\n",
       "    .dataframe thead tr:only-child th {\n",
       "        text-align: right;\n",
       "    }\n",
       "\n",
       "    .dataframe thead th {\n",
       "        text-align: left;\n",
       "    }\n",
       "\n",
       "    .dataframe tbody tr th {\n",
       "        vertical-align: top;\n",
       "    }\n",
       "</style>\n",
       "<table border=\"1\" class=\"dataframe\">\n",
       "  <thead>\n",
       "    <tr style=\"text-align: right;\">\n",
       "      <th></th>\n",
       "      <th>price</th>\n",
       "      <th>categories</th>\n",
       "    </tr>\n",
       "    <tr>\n",
       "      <th>asin</th>\n",
       "      <th></th>\n",
       "      <th></th>\n",
       "    </tr>\n",
       "  </thead>\n",
       "  <tbody>\n",
       "    <tr>\n",
       "      <th>1603420304</th>\n",
       "      <td>7.69</td>\n",
       "      <td>[[Books, Cookbooks, Food &amp; Wine, Quick &amp; Easy]...</td>\n",
       "    </tr>\n",
       "    <tr>\n",
       "      <th>B000F83SZQ</th>\n",
       "      <td>0.00</td>\n",
       "      <td>[[Books, Literature &amp; Fiction], [Books, Myster...</td>\n",
       "    </tr>\n",
       "    <tr>\n",
       "      <th>B000F83TEQ</th>\n",
       "      <td>0.00</td>\n",
       "      <td>[[Books, Literature &amp; Fiction], [Books, Myster...</td>\n",
       "    </tr>\n",
       "    <tr>\n",
       "      <th>B000F83STC</th>\n",
       "      <td>0.00</td>\n",
       "      <td>[[Books, Literature &amp; Fiction, Erotica], [Kind...</td>\n",
       "    </tr>\n",
       "    <tr>\n",
       "      <th>B000FA5RE4</th>\n",
       "      <td>1.99</td>\n",
       "      <td>[[Books, Reference, Dictionaries &amp; Thesauruses...</td>\n",
       "    </tr>\n",
       "  </tbody>\n",
       "</table>\n",
       "</div>"
      ],
      "text/plain": [
       "            price                                         categories\n",
       "asin                                                                \n",
       "1603420304   7.69  [[Books, Cookbooks, Food & Wine, Quick & Easy]...\n",
       "B000F83SZQ   0.00  [[Books, Literature & Fiction], [Books, Myster...\n",
       "B000F83TEQ   0.00  [[Books, Literature & Fiction], [Books, Myster...\n",
       "B000F83STC   0.00  [[Books, Literature & Fiction, Erotica], [Kind...\n",
       "B000FA5RE4   1.99  [[Books, Reference, Dictionaries & Thesauruses..."
      ]
     },
     "execution_count": 34,
     "metadata": {},
     "output_type": "execute_result"
    }
   ],
   "source": [
    "df_kindle_meta.head()"
   ]
  },
  {
   "cell_type": "code",
   "execution_count": 35,
   "metadata": {
    "collapsed": true
   },
   "outputs": [],
   "source": [
    "df_book_meta = pd.read_pickle('pickleData/book_metadata.pkl')"
   ]
  },
  {
   "cell_type": "code",
   "execution_count": 36,
   "metadata": {},
   "outputs": [
    {
     "data": {
      "text/html": [
       "<div>\n",
       "<style>\n",
       "    .dataframe thead tr:only-child th {\n",
       "        text-align: right;\n",
       "    }\n",
       "\n",
       "    .dataframe thead th {\n",
       "        text-align: left;\n",
       "    }\n",
       "\n",
       "    .dataframe tbody tr th {\n",
       "        vertical-align: top;\n",
       "    }\n",
       "</style>\n",
       "<table border=\"1\" class=\"dataframe\">\n",
       "  <thead>\n",
       "    <tr style=\"text-align: right;\">\n",
       "      <th></th>\n",
       "      <th>salesRank</th>\n",
       "      <th>categories</th>\n",
       "      <th>price</th>\n",
       "    </tr>\n",
       "    <tr>\n",
       "      <th>asin</th>\n",
       "      <th></th>\n",
       "      <th></th>\n",
       "      <th></th>\n",
       "    </tr>\n",
       "  </thead>\n",
       "  <tbody>\n",
       "    <tr>\n",
       "      <th>0001048791</th>\n",
       "      <td>{'Books': 6334800}</td>\n",
       "      <td>[[Books]]</td>\n",
       "      <td>0.00</td>\n",
       "    </tr>\n",
       "    <tr>\n",
       "      <th>0001048775</th>\n",
       "      <td>{'Books': 13243226}</td>\n",
       "      <td>[[Books]]</td>\n",
       "      <td>0.00</td>\n",
       "    </tr>\n",
       "    <tr>\n",
       "      <th>0001048236</th>\n",
       "      <td>{'Books': 8973864}</td>\n",
       "      <td>[[Books]]</td>\n",
       "      <td>9.26</td>\n",
       "    </tr>\n",
       "    <tr>\n",
       "      <th>0000401048</th>\n",
       "      <td>{'Books': 6448843}</td>\n",
       "      <td>[[Books]]</td>\n",
       "      <td>0.00</td>\n",
       "    </tr>\n",
       "    <tr>\n",
       "      <th>0001019880</th>\n",
       "      <td>{'Books': 9589258}</td>\n",
       "      <td>[[Books]]</td>\n",
       "      <td>5.39</td>\n",
       "    </tr>\n",
       "  </tbody>\n",
       "</table>\n",
       "</div>"
      ],
      "text/plain": [
       "                      salesRank categories  price\n",
       "asin                                             \n",
       "0001048791   {'Books': 6334800}  [[Books]]   0.00\n",
       "0001048775  {'Books': 13243226}  [[Books]]   0.00\n",
       "0001048236   {'Books': 8973864}  [[Books]]   9.26\n",
       "0000401048   {'Books': 6448843}  [[Books]]   0.00\n",
       "0001019880   {'Books': 9589258}  [[Books]]   5.39"
      ]
     },
     "execution_count": 36,
     "metadata": {},
     "output_type": "execute_result"
    }
   ],
   "source": [
    "df_book_meta.head()"
   ]
  },
  {
   "cell_type": "code",
   "execution_count": 101,
   "metadata": {},
   "outputs": [
    {
     "name": "stdout",
     "output_type": "stream",
     "text": [
      "There exists kindle metadata which is not contained in the book metadata dataset.\n"
     ]
    }
   ],
   "source": [
    "for idx in df_kindle_meta.index:\n",
    "    if idx not in df_book_meta.index:\n",
    "        print(\"There exists kindle metadata which is not contained in the book metadata dataset.\")\n",
    "        break"
   ]
  },
  {
   "cell_type": "code",
   "execution_count": 37,
   "metadata": {
    "collapsed": true
   },
   "outputs": [],
   "source": [
    "to_drop = []\n",
    "for idx in df_kindle_meta.index:\n",
    "    if idx in df_book_meta.index:\n",
    "        to_drop.append(idx)"
   ]
  },
  {
   "cell_type": "code",
   "execution_count": 38,
   "metadata": {
    "collapsed": true
   },
   "outputs": [],
   "source": [
    "df_book_meta = df_book_meta.drop(to_drop)"
   ]
  },
  {
   "cell_type": "markdown",
   "metadata": {},
   "source": [
    "#### 7.2 - Read review dataframes and drop duplicate rows\n",
    "\n",
    "In this part, we clean the review dataframes. There are some books which don't have either metadata or reviews and we need to get those books out of our datasets. We only keep reviews whose related product is in one of the product metadata dataframes and also we only keep products which have reviews in the review dataframes."
   ]
  },
  {
   "cell_type": "code",
   "execution_count": 4,
   "metadata": {
    "collapsed": true
   },
   "outputs": [],
   "source": [
    "df_kindle_review = pd.read_pickle('pickleData/kindle_review.pkl')"
   ]
  },
  {
   "cell_type": "code",
   "execution_count": 5,
   "metadata": {},
   "outputs": [
    {
     "data": {
      "text/html": [
       "<div>\n",
       "<style>\n",
       "    .dataframe thead tr:only-child th {\n",
       "        text-align: right;\n",
       "    }\n",
       "\n",
       "    .dataframe thead th {\n",
       "        text-align: left;\n",
       "    }\n",
       "\n",
       "    .dataframe tbody tr th {\n",
       "        vertical-align: top;\n",
       "    }\n",
       "</style>\n",
       "<table border=\"1\" class=\"dataframe\">\n",
       "  <thead>\n",
       "    <tr style=\"text-align: right;\">\n",
       "      <th></th>\n",
       "      <th>asin</th>\n",
       "      <th>helpful</th>\n",
       "      <th>reviewText</th>\n",
       "      <th>overall</th>\n",
       "      <th>summary</th>\n",
       "      <th>unixReviewTime</th>\n",
       "    </tr>\n",
       "  </thead>\n",
       "  <tbody>\n",
       "    <tr>\n",
       "      <th>0</th>\n",
       "      <td>B000F83SZQ</td>\n",
       "      <td>[0, 0]</td>\n",
       "      <td>I enjoy vintage books and movies so I enjoyed ...</td>\n",
       "      <td>5.0</td>\n",
       "      <td>Nice vintage story</td>\n",
       "      <td>2014-05-05</td>\n",
       "    </tr>\n",
       "    <tr>\n",
       "      <th>1</th>\n",
       "      <td>B000F83SZQ</td>\n",
       "      <td>[2, 2]</td>\n",
       "      <td>This book is a reissue of an old one; the auth...</td>\n",
       "      <td>4.0</td>\n",
       "      <td>Different...</td>\n",
       "      <td>2014-01-06</td>\n",
       "    </tr>\n",
       "    <tr>\n",
       "      <th>2</th>\n",
       "      <td>B000F83SZQ</td>\n",
       "      <td>[2, 2]</td>\n",
       "      <td>This was a fairly interesting read.  It had ol...</td>\n",
       "      <td>4.0</td>\n",
       "      <td>Oldie</td>\n",
       "      <td>2014-04-04</td>\n",
       "    </tr>\n",
       "    <tr>\n",
       "      <th>3</th>\n",
       "      <td>B000F83SZQ</td>\n",
       "      <td>[1, 1]</td>\n",
       "      <td>I'd never read any of the Amy Brewster mysteri...</td>\n",
       "      <td>5.0</td>\n",
       "      <td>I really liked it.</td>\n",
       "      <td>2014-02-19</td>\n",
       "    </tr>\n",
       "    <tr>\n",
       "      <th>4</th>\n",
       "      <td>B000F83SZQ</td>\n",
       "      <td>[0, 1]</td>\n",
       "      <td>If you like period pieces - clothing, lingo, y...</td>\n",
       "      <td>4.0</td>\n",
       "      <td>Period Mystery</td>\n",
       "      <td>2014-03-19</td>\n",
       "    </tr>\n",
       "  </tbody>\n",
       "</table>\n",
       "</div>"
      ],
      "text/plain": [
       "         asin helpful                                         reviewText  \\\n",
       "0  B000F83SZQ  [0, 0]  I enjoy vintage books and movies so I enjoyed ...   \n",
       "1  B000F83SZQ  [2, 2]  This book is a reissue of an old one; the auth...   \n",
       "2  B000F83SZQ  [2, 2]  This was a fairly interesting read.  It had ol...   \n",
       "3  B000F83SZQ  [1, 1]  I'd never read any of the Amy Brewster mysteri...   \n",
       "4  B000F83SZQ  [0, 1]  If you like period pieces - clothing, lingo, y...   \n",
       "\n",
       "   overall             summary unixReviewTime  \n",
       "0      5.0  Nice vintage story     2014-05-05  \n",
       "1      4.0        Different...     2014-01-06  \n",
       "2      4.0               Oldie     2014-04-04  \n",
       "3      5.0  I really liked it.     2014-02-19  \n",
       "4      4.0      Period Mystery     2014-03-19  "
      ]
     },
     "execution_count": 5,
     "metadata": {},
     "output_type": "execute_result"
    }
   ],
   "source": [
    "df_kindle_review.head()"
   ]
  },
  {
   "cell_type": "code",
   "execution_count": 6,
   "metadata": {
    "collapsed": true
   },
   "outputs": [],
   "source": [
    "def readPickleDataframe(path):\n",
    "    return pd.read_pickle(path)"
   ]
  },
  {
   "cell_type": "code",
   "execution_count": 7,
   "metadata": {
    "collapsed": true
   },
   "outputs": [],
   "source": [
    "FOLDER = 'pickleData/'\n",
    "df_book_review_1000000 = readPickleDataframe(FOLDER + 'book_review_1000000.pkl')\n",
    "df_book_review_1000000_2000000 = readPickleDataframe(FOLDER + 'book_review_1000000_2000000.pkl')\n",
    "df_book_review_2000000_3000000 = readPickleDataframe(FOLDER + 'book_review_2000000_3000000.pkl')\n",
    "df_book_review_3000000_4000000 = readPickleDataframe(FOLDER + 'book_review_3000000_4000000.pkl')\n",
    "df_book_review_4000000_5000000 = readPickleDataframe(FOLDER + 'book_review_4000000_5000000.pkl')\n",
    "df_book_review_5000000_6000000 = readPickleDataframe(FOLDER + 'book_review_5000000_6000000.pkl')\n",
    "df_book_review_6000000_7000000 = readPickleDataframe(FOLDER + 'book_review_6000000_7000000.pkl')\n",
    "df_book_review_7000000_8000000 = readPickleDataframe(FOLDER + 'book_review_7000000_8000000.pkl')\n",
    "df_book_review_8000000 = readPickleDataframe(FOLDER + 'book_review_8000000.pkl')"
   ]
  },
  {
   "cell_type": "markdown",
   "metadata": {},
   "source": [
    "##### Concatenate 9 sub-dataframes"
   ]
  },
  {
   "cell_type": "code",
   "execution_count": 8,
   "metadata": {
    "collapsed": true,
    "scrolled": true
   },
   "outputs": [],
   "source": [
    "listToConcatenate = [df_book_review_1000000,df_book_review_1000000_2000000,df_book_review_2000000_3000000,\n",
    "                     df_book_review_3000000_4000000,df_book_review_4000000_5000000,df_book_review_5000000_6000000,\n",
    "                     df_book_review_6000000_7000000,df_book_review_7000000_8000000,df_book_review_8000000]\n",
    "df_book_review = pd.concat(listToConcatenate)"
   ]
  },
  {
   "cell_type": "code",
   "execution_count": 9,
   "metadata": {},
   "outputs": [
    {
     "data": {
      "text/html": [
       "<div>\n",
       "<style>\n",
       "    .dataframe thead tr:only-child th {\n",
       "        text-align: right;\n",
       "    }\n",
       "\n",
       "    .dataframe thead th {\n",
       "        text-align: left;\n",
       "    }\n",
       "\n",
       "    .dataframe tbody tr th {\n",
       "        vertical-align: top;\n",
       "    }\n",
       "</style>\n",
       "<table border=\"1\" class=\"dataframe\">\n",
       "  <thead>\n",
       "    <tr style=\"text-align: right;\">\n",
       "      <th></th>\n",
       "      <th>asin</th>\n",
       "      <th>helpful</th>\n",
       "      <th>reviewText</th>\n",
       "      <th>overall</th>\n",
       "      <th>summary</th>\n",
       "      <th>unixReviewTime</th>\n",
       "    </tr>\n",
       "  </thead>\n",
       "  <tbody>\n",
       "    <tr>\n",
       "      <th>0</th>\n",
       "      <td>000100039X</td>\n",
       "      <td>[0, 0]</td>\n",
       "      <td>Spiritually and mentally inspiring! A book tha...</td>\n",
       "      <td>5.0</td>\n",
       "      <td>Wonderful!</td>\n",
       "      <td>2012-12-16</td>\n",
       "    </tr>\n",
       "    <tr>\n",
       "      <th>1</th>\n",
       "      <td>000100039X</td>\n",
       "      <td>[0, 2]</td>\n",
       "      <td>This is one my must have books. It is a master...</td>\n",
       "      <td>5.0</td>\n",
       "      <td>close to god</td>\n",
       "      <td>2003-12-11</td>\n",
       "    </tr>\n",
       "    <tr>\n",
       "      <th>2</th>\n",
       "      <td>000100039X</td>\n",
       "      <td>[0, 0]</td>\n",
       "      <td>This book provides a reflection that you can a...</td>\n",
       "      <td>5.0</td>\n",
       "      <td>Must Read for Life Afficianados</td>\n",
       "      <td>2014-01-18</td>\n",
       "    </tr>\n",
       "    <tr>\n",
       "      <th>3</th>\n",
       "      <td>000100039X</td>\n",
       "      <td>[0, 0]</td>\n",
       "      <td>I first read THE PROPHET in college back in th...</td>\n",
       "      <td>5.0</td>\n",
       "      <td>Timeless for every good and bad time in your l...</td>\n",
       "      <td>2011-09-27</td>\n",
       "    </tr>\n",
       "    <tr>\n",
       "      <th>4</th>\n",
       "      <td>000100039X</td>\n",
       "      <td>[7, 9]</td>\n",
       "      <td>A timeless classic.  It is a very demanding an...</td>\n",
       "      <td>5.0</td>\n",
       "      <td>A Modern Rumi</td>\n",
       "      <td>2002-10-07</td>\n",
       "    </tr>\n",
       "  </tbody>\n",
       "</table>\n",
       "</div>"
      ],
      "text/plain": [
       "         asin helpful                                         reviewText  \\\n",
       "0  000100039X  [0, 0]  Spiritually and mentally inspiring! A book tha...   \n",
       "1  000100039X  [0, 2]  This is one my must have books. It is a master...   \n",
       "2  000100039X  [0, 0]  This book provides a reflection that you can a...   \n",
       "3  000100039X  [0, 0]  I first read THE PROPHET in college back in th...   \n",
       "4  000100039X  [7, 9]  A timeless classic.  It is a very demanding an...   \n",
       "\n",
       "   overall                                            summary unixReviewTime  \n",
       "0      5.0                                         Wonderful!     2012-12-16  \n",
       "1      5.0                                       close to god     2003-12-11  \n",
       "2      5.0                    Must Read for Life Afficianados     2014-01-18  \n",
       "3      5.0  Timeless for every good and bad time in your l...     2011-09-27  \n",
       "4      5.0                                      A Modern Rumi     2002-10-07  "
      ]
     },
     "execution_count": 9,
     "metadata": {},
     "output_type": "execute_result"
    }
   ],
   "source": [
    "df_book_review.head()"
   ]
  },
  {
   "cell_type": "markdown",
   "metadata": {},
   "source": [
    "##### Update kindle review dataframe "
   ]
  },
  {
   "cell_type": "code",
   "execution_count": 45,
   "metadata": {
    "collapsed": true
   },
   "outputs": [],
   "source": [
    "df_kindle_review = df_kindle_review.set_index('asin')\n",
    "# Find mutual asin --> all kindle products which have reviews\n",
    "kindle_asin_set = list(set(df_kindle_review.index) & set(df_kindle_meta.index))"
   ]
  },
  {
   "cell_type": "code",
   "execution_count": 47,
   "metadata": {
    "collapsed": true
   },
   "outputs": [],
   "source": [
    "# Collect all the kindle products to drop\n",
    "to_drop_meta = list(set(df_kindle_meta.index) - set(kindle_asin_set))\n",
    "df_kindle_meta = df_kindle_meta.drop(to_drop_meta)\n",
    "\n",
    "# Collect all the kindle reviews to drop\n",
    "to_drop_review = list(set(df_kindle_review.index) - set(kindle_asin_set))\n",
    "df_kindle_review = df_kindle_review.drop(to_drop_review)"
   ]
  },
  {
   "cell_type": "code",
   "execution_count": 49,
   "metadata": {
    "collapsed": true
   },
   "outputs": [],
   "source": [
    "# Update kindle products dataframe\n",
    "df_kindle_meta.to_pickle('pickleDataNew/kindle_metadata.pkl')\n",
    "\n",
    "# Update kindle reviews dataframe\n",
    "df_kindle_review.to_pickle('pickleDataNew/kindle_review.pkl')"
   ]
  },
  {
   "cell_type": "markdown",
   "metadata": {},
   "source": [
    "##### Update book review dataframe"
   ]
  },
  {
   "cell_type": "code",
   "execution_count": 53,
   "metadata": {
    "collapsed": true
   },
   "outputs": [],
   "source": [
    "df_book_review = df_book_review.set_index('asin')\n",
    "# Find mutual asin --> all book products which have reviews\n",
    "book_asin_set = list(set(df_book_review.index) & set(df_book_meta.index))"
   ]
  },
  {
   "cell_type": "code",
   "execution_count": 55,
   "metadata": {
    "collapsed": true
   },
   "outputs": [],
   "source": [
    "# Collect all the book products to drop\n",
    "to_drop_meta = list(set(df_book_meta.index) - set(book_asin_set))\n",
    "df_book_meta = df_book_meta.drop(to_drop_meta)\n",
    "\n",
    "# Collect all the book reviews to drop\n",
    "to_drop_review = list(set(df_book_review.index) - set(book_asin_set))\n",
    "df_book_review = df_book_review.drop(to_drop_review)"
   ]
  },
  {
   "cell_type": "code",
   "execution_count": 57,
   "metadata": {
    "collapsed": true
   },
   "outputs": [],
   "source": [
    "# Update book products dataframe\n",
    "df_book_meta.to_pickle('pickleDataNew/book_metadata.pkl')\n",
    "\n",
    "# Update book reviews dataframe\n",
    "df_book_review_1000000 = df_book_review.iloc[:1000000]\n",
    "df_book_review_1000000.to_pickle('pickleDataNew/book_review_1000000.pkl')\n",
    "\n",
    "df_book_review_1000000_2000000 = df_book_review.iloc[1000000:2000000]\n",
    "df_book_review_1000000_2000000.to_pickle('pickleDataNew/book_review_1000000_2000000.pkl')\n",
    "\n",
    "df_book_review_2000000_3000000 = df_book_review.iloc[2000000:3000000]\n",
    "df_book_review_2000000_3000000.to_pickle('pickleDataNew/book_review_1000000_2000000.pkl')\n",
    "\n",
    "df_book_review_3000000_4000000 = df_book_review.iloc[3000000:4000000]\n",
    "df_book_review_3000000_4000000.to_pickle('pickleDataNew/book_review_3000000_4000000.pkl')\n",
    "\n",
    "df_book_review_4000000_5000000 = df_book_review.iloc[4000000:5000000]\n",
    "df_book_review_4000000_5000000.to_pickle('pickleDataNew/book_review_4000000_5000000.pkl')\n",
    "\n",
    "df_book_review_5000000_6000000 = df_book_review.iloc[5000000:6000000]\n",
    "df_book_review_5000000_6000000.to_pickle('pickleDataNew/book_review_5000000_6000000.pkl')\n",
    "\n",
    "df_book_review_6000000_7000000 = df_book_review.iloc[6000000:7000000]\n",
    "df_book_review_6000000_7000000.to_pickle('pickleDataNew/book_review_6000000_7000000.pkl')\n",
    "\n",
    "df_book_review_7000000 = df_book_review.iloc[7000000:]\n",
    "df_book_review_7000000.to_pickle('pickleDataNew/book_review_7000000.pkl')"
   ]
  },
  {
   "cell_type": "markdown",
   "metadata": {
    "collapsed": true
   },
   "source": [
    "### 8 - What we have done so far"
   ]
  },
  {
   "cell_type": "markdown",
   "metadata": {},
   "source": [
    "- **First step** -- data cleaning on each dataset:\n",
    "    - For metadata of kindle store:\n",
    "        - Delete salesrank, brand, description, imUrl, related, title, \n",
    "        - Set all NaN price to 0.\n",
    "        - Only keep kindle books and drop all others, like accessories.\n",
    "    - For metadata of book:\n",
    "        - Delete brand, description, imUrl, related, title\n",
    "        - Set all NaN price to 0.\n",
    "        - Set all NaN salesRank to unknown.\n",
    "    - For review of kindle store:\n",
    "        - Drop reviewID and reviewName.\n",
    "        - Drop reviewTime and translate unixReviewTime as new time information\n",
    "    - For review of kindle store:\n",
    "        - Drop reviewID and reviewName.\n",
    "        - Drop reviewTime and translate unixReviewTime as new time information"
   ]
  },
  {
   "cell_type": "markdown",
   "metadata": {},
   "source": [
    "- **Second Step** -- data cleaning across datasets:\n",
    "    - Drop duplicated metadata information. From the metadata of books, delete all books whose metadata are already included in the metadata of kindle\n",
    "    - Drop useless books/kindle books\n",
    "        - Drop all metadata of books/kindle books which don’t have review in the review dataset.\n",
    "        - Drop all reviews of books/kindle books which don’t have metadata in the metadata dataset.\n",
    "\n"
   ]
  }
 ],
 "metadata": {
  "kernelspec": {
   "display_name": "Python 3",
   "language": "python",
   "name": "python3"
  },
  "language_info": {
   "codemirror_mode": {
    "name": "ipython",
    "version": 3
   },
   "file_extension": ".py",
   "mimetype": "text/x-python",
   "name": "python",
   "nbconvert_exporter": "python",
   "pygments_lexer": "ipython3",
   "version": "3.6.2"
  }
 },
 "nbformat": 4,
 "nbformat_minor": 2
}
